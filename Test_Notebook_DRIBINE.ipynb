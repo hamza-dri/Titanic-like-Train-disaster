{
 "cells": [
  {
   "cell_type": "markdown",
   "id": "b3f74ff1",
   "metadata": {},
   "source": [
    "#                                Titanic-like Train disaster"
   ]
  },
  {
   "cell_type": "markdown",
   "id": "90bdd981",
   "metadata": {},
   "source": [
    "## Table des matières\n",
    "\n",
    "* [Importations des libraires et données](#chapter1)\n",
    "* [Pre-Processing](#chapter2)\n",
    "* [Modélisation](#chapter3)\n",
    "* [Conclusion et pistes d'amélioration](#chapter4)"
   ]
  },
  {
   "cell_type": "markdown",
   "id": "49820b06",
   "metadata": {},
   "source": [
    "## 1. Importations des libraires et données : <a class=\"anchor\" id=\"chapter1\"></a>"
   ]
  },
  {
   "cell_type": "code",
   "execution_count": 1,
   "id": "8a11d4fd",
   "metadata": {},
   "outputs": [
    {
     "name": "stderr",
     "output_type": "stream",
     "text": [
      "C:\\Users\\hamza\\anaconda3\\lib\\site-packages\\scipy\\__init__.py:138: UserWarning: A NumPy version >=1.16.5 and <1.23.0 is required for this version of SciPy (detected version 1.24.1)\n",
      "  warnings.warn(f\"A NumPy version >={np_minversion} and <{np_maxversion} is required for this version of \"\n"
     ]
    }
   ],
   "source": [
    "#imports des librairies\n",
    "import pandas as pd\n",
    "import numpy as np\n",
    "import matplotlib.pyplot as plt\n",
    "import seaborn as sns\n",
    "from sklearn.model_selection import train_test_split\n",
    "from sklearn.linear_model import LogisticRegression\n",
    "from sklearn import svm\n",
    "from sklearn.ensemble import RandomForestClassifier\n",
    "from sklearn.naive_bayes import GaussianNB\n",
    "from sklearn.tree import DecisionTreeClassifier\n",
    "from sklearn.neighbors import KNeighborsClassifier\n",
    "from xgboost import XGBClassifier"
   ]
  },
  {
   "cell_type": "code",
   "execution_count": 2,
   "id": "c8148e8f",
   "metadata": {},
   "outputs": [],
   "source": [
    "#Lecture du fichier Data.csv en utilisant une expression régulaire en tant que séparateur\n",
    "df = pd.read_csv(\"Data.csv\", engine='python', sep='(?<=[\\w\"]),(?![\\s])|(?<=,)(?=,)')"
   ]
  },
  {
   "cell_type": "code",
   "execution_count": 3,
   "id": "439e12e9",
   "metadata": {},
   "outputs": [
    {
     "data": {
      "text/html": [
       "<div>\n",
       "<style scoped>\n",
       "    .dataframe tbody tr th:only-of-type {\n",
       "        vertical-align: middle;\n",
       "    }\n",
       "\n",
       "    .dataframe tbody tr th {\n",
       "        vertical-align: top;\n",
       "    }\n",
       "\n",
       "    .dataframe thead th {\n",
       "        text-align: right;\n",
       "    }\n",
       "</style>\n",
       "<table border=\"1\" class=\"dataframe\">\n",
       "  <thead>\n",
       "    <tr style=\"text-align: right;\">\n",
       "      <th></th>\n",
       "      <th>PassengerId</th>\n",
       "      <th>Survived</th>\n",
       "      <th>Pclass</th>\n",
       "      <th>Name</th>\n",
       "      <th>Sex</th>\n",
       "      <th>Age</th>\n",
       "      <th>nb_siblings</th>\n",
       "      <th>nb_parents</th>\n",
       "      <th>Ticket</th>\n",
       "      <th>Fare</th>\n",
       "      <th>Cabin</th>\n",
       "      <th>Station</th>\n",
       "    </tr>\n",
       "  </thead>\n",
       "  <tbody>\n",
       "    <tr>\n",
       "      <th>0</th>\n",
       "      <td>\"1</td>\n",
       "      <td>0</td>\n",
       "      <td>3</td>\n",
       "      <td>\"\"Braund, Mr. Owen Harris\"\"</td>\n",
       "      <td>male</td>\n",
       "      <td>22.0</td>\n",
       "      <td>1</td>\n",
       "      <td>0</td>\n",
       "      <td>A/5 21171</td>\n",
       "      <td>7.2500</td>\n",
       "      <td>NaN</td>\n",
       "      <td>,S\"</td>\n",
       "    </tr>\n",
       "    <tr>\n",
       "      <th>1</th>\n",
       "      <td>\"2</td>\n",
       "      <td>1</td>\n",
       "      <td>1</td>\n",
       "      <td>\"\"Cumings, Mrs. John Bradley (Florence Briggs ...</td>\n",
       "      <td>female</td>\n",
       "      <td>38.0</td>\n",
       "      <td>1</td>\n",
       "      <td>0</td>\n",
       "      <td>PC 17599</td>\n",
       "      <td>71.2833</td>\n",
       "      <td>C85</td>\n",
       "      <td>C\"</td>\n",
       "    </tr>\n",
       "    <tr>\n",
       "      <th>2</th>\n",
       "      <td>\"3</td>\n",
       "      <td>1</td>\n",
       "      <td>3</td>\n",
       "      <td>\"\"Heikkinen, Miss. Laina\"\"</td>\n",
       "      <td>female</td>\n",
       "      <td>26.0</td>\n",
       "      <td>0</td>\n",
       "      <td>0</td>\n",
       "      <td>STON/O2. 3101282</td>\n",
       "      <td>7.9250</td>\n",
       "      <td>NaN</td>\n",
       "      <td>,S\"</td>\n",
       "    </tr>\n",
       "    <tr>\n",
       "      <th>3</th>\n",
       "      <td>\"4</td>\n",
       "      <td>1</td>\n",
       "      <td>1</td>\n",
       "      <td>\"\"Futrelle, Mrs. Jacques Heath (Lily May Peel)\"\"</td>\n",
       "      <td>female</td>\n",
       "      <td>35.0</td>\n",
       "      <td>1</td>\n",
       "      <td>0</td>\n",
       "      <td>113803</td>\n",
       "      <td>53.1000</td>\n",
       "      <td>C123</td>\n",
       "      <td>S\"</td>\n",
       "    </tr>\n",
       "    <tr>\n",
       "      <th>4</th>\n",
       "      <td>\"5</td>\n",
       "      <td>0</td>\n",
       "      <td>3</td>\n",
       "      <td>\"\"Allen, Mr. William Henry\"\"</td>\n",
       "      <td>male</td>\n",
       "      <td>35.0</td>\n",
       "      <td>0</td>\n",
       "      <td>0</td>\n",
       "      <td>373450</td>\n",
       "      <td>8.0500</td>\n",
       "      <td>NaN</td>\n",
       "      <td>,S\"</td>\n",
       "    </tr>\n",
       "    <tr>\n",
       "      <th>...</th>\n",
       "      <td>...</td>\n",
       "      <td>...</td>\n",
       "      <td>...</td>\n",
       "      <td>...</td>\n",
       "      <td>...</td>\n",
       "      <td>...</td>\n",
       "      <td>...</td>\n",
       "      <td>...</td>\n",
       "      <td>...</td>\n",
       "      <td>...</td>\n",
       "      <td>...</td>\n",
       "      <td>...</td>\n",
       "    </tr>\n",
       "    <tr>\n",
       "      <th>886</th>\n",
       "      <td>\"887</td>\n",
       "      <td>0</td>\n",
       "      <td>2</td>\n",
       "      <td>\"\"Montvila, Rev. Juozas\"\"</td>\n",
       "      <td>male</td>\n",
       "      <td>27.0</td>\n",
       "      <td>0</td>\n",
       "      <td>0</td>\n",
       "      <td>211536</td>\n",
       "      <td>13.0000</td>\n",
       "      <td>NaN</td>\n",
       "      <td>,S\"</td>\n",
       "    </tr>\n",
       "    <tr>\n",
       "      <th>887</th>\n",
       "      <td>\"888</td>\n",
       "      <td>1</td>\n",
       "      <td>1</td>\n",
       "      <td>\"\"Graham, Miss. Margaret Edith\"\"</td>\n",
       "      <td>female</td>\n",
       "      <td>19.0</td>\n",
       "      <td>0</td>\n",
       "      <td>0</td>\n",
       "      <td>112053</td>\n",
       "      <td>30.0000</td>\n",
       "      <td>B42</td>\n",
       "      <td>S\"</td>\n",
       "    </tr>\n",
       "    <tr>\n",
       "      <th>888</th>\n",
       "      <td>\"889</td>\n",
       "      <td>0</td>\n",
       "      <td>3</td>\n",
       "      <td>\"\"Johnston, Miss. Catherine Helen \"\"\"\"Carrie\"\"...</td>\n",
       "      <td>female</td>\n",
       "      <td>NaN</td>\n",
       "      <td>,1</td>\n",
       "      <td>2</td>\n",
       "      <td>W./C. 6607</td>\n",
       "      <td>23.4500</td>\n",
       "      <td>NaN</td>\n",
       "      <td>,S\"</td>\n",
       "    </tr>\n",
       "    <tr>\n",
       "      <th>889</th>\n",
       "      <td>\"890</td>\n",
       "      <td>1</td>\n",
       "      <td>1</td>\n",
       "      <td>\"\"Behr, Mr. Karl Howell\"\"</td>\n",
       "      <td>male</td>\n",
       "      <td>26.0</td>\n",
       "      <td>0</td>\n",
       "      <td>0</td>\n",
       "      <td>111369</td>\n",
       "      <td>30.0000</td>\n",
       "      <td>C148</td>\n",
       "      <td>C\"</td>\n",
       "    </tr>\n",
       "    <tr>\n",
       "      <th>890</th>\n",
       "      <td>\"891</td>\n",
       "      <td>0</td>\n",
       "      <td>3</td>\n",
       "      <td>\"\"Dooley, Mr. Patrick\"\"</td>\n",
       "      <td>male</td>\n",
       "      <td>32.0</td>\n",
       "      <td>0</td>\n",
       "      <td>0</td>\n",
       "      <td>370376</td>\n",
       "      <td>7.7500</td>\n",
       "      <td>NaN</td>\n",
       "      <td>,Q\"</td>\n",
       "    </tr>\n",
       "  </tbody>\n",
       "</table>\n",
       "<p>891 rows × 12 columns</p>\n",
       "</div>"
      ],
      "text/plain": [
       "    PassengerId  Survived  Pclass  \\\n",
       "0            \"1         0       3   \n",
       "1            \"2         1       1   \n",
       "2            \"3         1       3   \n",
       "3            \"4         1       1   \n",
       "4            \"5         0       3   \n",
       "..          ...       ...     ...   \n",
       "886        \"887         0       2   \n",
       "887        \"888         1       1   \n",
       "888        \"889         0       3   \n",
       "889        \"890         1       1   \n",
       "890        \"891         0       3   \n",
       "\n",
       "                                                  Name     Sex   Age  \\\n",
       "0                          \"\"Braund, Mr. Owen Harris\"\"    male  22.0   \n",
       "1    \"\"Cumings, Mrs. John Bradley (Florence Briggs ...  female  38.0   \n",
       "2                           \"\"Heikkinen, Miss. Laina\"\"  female  26.0   \n",
       "3     \"\"Futrelle, Mrs. Jacques Heath (Lily May Peel)\"\"  female  35.0   \n",
       "4                         \"\"Allen, Mr. William Henry\"\"    male  35.0   \n",
       "..                                                 ...     ...   ...   \n",
       "886                          \"\"Montvila, Rev. Juozas\"\"    male  27.0   \n",
       "887                   \"\"Graham, Miss. Margaret Edith\"\"  female  19.0   \n",
       "888  \"\"Johnston, Miss. Catherine Helen \"\"\"\"Carrie\"\"...  female   NaN   \n",
       "889                          \"\"Behr, Mr. Karl Howell\"\"    male  26.0   \n",
       "890                            \"\"Dooley, Mr. Patrick\"\"    male  32.0   \n",
       "\n",
       "    nb_siblings  nb_parents            Ticket     Fare Cabin Station  \n",
       "0             1           0         A/5 21171   7.2500   NaN     ,S\"  \n",
       "1             1           0          PC 17599  71.2833   C85      C\"  \n",
       "2             0           0  STON/O2. 3101282   7.9250   NaN     ,S\"  \n",
       "3             1           0            113803  53.1000  C123      S\"  \n",
       "4             0           0            373450   8.0500   NaN     ,S\"  \n",
       "..          ...         ...               ...      ...   ...     ...  \n",
       "886           0           0            211536  13.0000   NaN     ,S\"  \n",
       "887           0           0            112053  30.0000   B42      S\"  \n",
       "888          ,1           2        W./C. 6607  23.4500   NaN     ,S\"  \n",
       "889           0           0            111369  30.0000  C148      C\"  \n",
       "890           0           0            370376   7.7500   NaN     ,Q\"  \n",
       "\n",
       "[891 rows x 12 columns]"
      ]
     },
     "execution_count": 3,
     "metadata": {},
     "output_type": "execute_result"
    }
   ],
   "source": [
    "df"
   ]
  },
  {
   "cell_type": "code",
   "execution_count": 4,
   "id": "283d77d4",
   "metadata": {},
   "outputs": [
    {
     "name": "stderr",
     "output_type": "stream",
     "text": [
      "<ipython-input-4-6bcf3aba853a>:2: FutureWarning: The default value of regex will change from True to False in a future version.\n",
      "  df[\"PassengerId\"] = df[\"PassengerId\"].str.replace('[\\\"\\,]',\"\")\n",
      "<ipython-input-4-6bcf3aba853a>:3: FutureWarning: The default value of regex will change from True to False in a future version.\n",
      "  df[\"Name\"] = df[\"Name\"].str.replace('[\\\"\\,]',\"\")\n",
      "<ipython-input-4-6bcf3aba853a>:4: FutureWarning: The default value of regex will change from True to False in a future version.\n",
      "  df[\"Station\"] = df[\"Station\"].str.replace('[\\\"\\,]',\"\")\n",
      "<ipython-input-4-6bcf3aba853a>:5: FutureWarning: The default value of regex will change from True to False in a future version.\n",
      "  df[\"nb_siblings\"] = df[\"nb_siblings\"].str.replace('[\\\"\\,]',\"\")\n"
     ]
    },
    {
     "data": {
      "text/html": [
       "<div>\n",
       "<style scoped>\n",
       "    .dataframe tbody tr th:only-of-type {\n",
       "        vertical-align: middle;\n",
       "    }\n",
       "\n",
       "    .dataframe tbody tr th {\n",
       "        vertical-align: top;\n",
       "    }\n",
       "\n",
       "    .dataframe thead th {\n",
       "        text-align: right;\n",
       "    }\n",
       "</style>\n",
       "<table border=\"1\" class=\"dataframe\">\n",
       "  <thead>\n",
       "    <tr style=\"text-align: right;\">\n",
       "      <th></th>\n",
       "      <th>PassengerId</th>\n",
       "      <th>Survived</th>\n",
       "      <th>Pclass</th>\n",
       "      <th>Name</th>\n",
       "      <th>Sex</th>\n",
       "      <th>Age</th>\n",
       "      <th>nb_siblings</th>\n",
       "      <th>nb_parents</th>\n",
       "      <th>Ticket</th>\n",
       "      <th>Fare</th>\n",
       "      <th>Cabin</th>\n",
       "      <th>Station</th>\n",
       "    </tr>\n",
       "  </thead>\n",
       "  <tbody>\n",
       "    <tr>\n",
       "      <th>0</th>\n",
       "      <td>1</td>\n",
       "      <td>0</td>\n",
       "      <td>3</td>\n",
       "      <td>Braund Mr. Owen Harris</td>\n",
       "      <td>male</td>\n",
       "      <td>22.0</td>\n",
       "      <td>1</td>\n",
       "      <td>0</td>\n",
       "      <td>A/5 21171</td>\n",
       "      <td>7.2500</td>\n",
       "      <td>NaN</td>\n",
       "      <td>S</td>\n",
       "    </tr>\n",
       "    <tr>\n",
       "      <th>1</th>\n",
       "      <td>2</td>\n",
       "      <td>1</td>\n",
       "      <td>1</td>\n",
       "      <td>Cumings Mrs. John Bradley (Florence Briggs Tha...</td>\n",
       "      <td>female</td>\n",
       "      <td>38.0</td>\n",
       "      <td>1</td>\n",
       "      <td>0</td>\n",
       "      <td>PC 17599</td>\n",
       "      <td>71.2833</td>\n",
       "      <td>C85</td>\n",
       "      <td>C</td>\n",
       "    </tr>\n",
       "    <tr>\n",
       "      <th>2</th>\n",
       "      <td>3</td>\n",
       "      <td>1</td>\n",
       "      <td>3</td>\n",
       "      <td>Heikkinen Miss. Laina</td>\n",
       "      <td>female</td>\n",
       "      <td>26.0</td>\n",
       "      <td>0</td>\n",
       "      <td>0</td>\n",
       "      <td>STON/O2. 3101282</td>\n",
       "      <td>7.9250</td>\n",
       "      <td>NaN</td>\n",
       "      <td>S</td>\n",
       "    </tr>\n",
       "    <tr>\n",
       "      <th>3</th>\n",
       "      <td>4</td>\n",
       "      <td>1</td>\n",
       "      <td>1</td>\n",
       "      <td>Futrelle Mrs. Jacques Heath (Lily May Peel)</td>\n",
       "      <td>female</td>\n",
       "      <td>35.0</td>\n",
       "      <td>1</td>\n",
       "      <td>0</td>\n",
       "      <td>113803</td>\n",
       "      <td>53.1000</td>\n",
       "      <td>C123</td>\n",
       "      <td>S</td>\n",
       "    </tr>\n",
       "    <tr>\n",
       "      <th>4</th>\n",
       "      <td>5</td>\n",
       "      <td>0</td>\n",
       "      <td>3</td>\n",
       "      <td>Allen Mr. William Henry</td>\n",
       "      <td>male</td>\n",
       "      <td>35.0</td>\n",
       "      <td>0</td>\n",
       "      <td>0</td>\n",
       "      <td>373450</td>\n",
       "      <td>8.0500</td>\n",
       "      <td>NaN</td>\n",
       "      <td>S</td>\n",
       "    </tr>\n",
       "  </tbody>\n",
       "</table>\n",
       "</div>"
      ],
      "text/plain": [
       "  PassengerId  Survived  Pclass  \\\n",
       "0           1         0       3   \n",
       "1           2         1       1   \n",
       "2           3         1       3   \n",
       "3           4         1       1   \n",
       "4           5         0       3   \n",
       "\n",
       "                                                Name     Sex   Age  \\\n",
       "0                             Braund Mr. Owen Harris    male  22.0   \n",
       "1  Cumings Mrs. John Bradley (Florence Briggs Tha...  female  38.0   \n",
       "2                              Heikkinen Miss. Laina  female  26.0   \n",
       "3        Futrelle Mrs. Jacques Heath (Lily May Peel)  female  35.0   \n",
       "4                            Allen Mr. William Henry    male  35.0   \n",
       "\n",
       "  nb_siblings  nb_parents            Ticket     Fare Cabin Station  \n",
       "0           1           0         A/5 21171   7.2500   NaN       S  \n",
       "1           1           0          PC 17599  71.2833   C85       C  \n",
       "2           0           0  STON/O2. 3101282   7.9250   NaN       S  \n",
       "3           1           0            113803  53.1000  C123       S  \n",
       "4           0           0            373450   8.0500   NaN       S  "
      ]
     },
     "execution_count": 4,
     "metadata": {},
     "output_type": "execute_result"
    }
   ],
   "source": [
    "#Suppression de certaines virgules et des guillemets\n",
    "df[\"PassengerId\"] = df[\"PassengerId\"].str.replace('[\\\"\\,]',\"\")\n",
    "df[\"Name\"] = df[\"Name\"].str.replace('[\\\"\\,]',\"\")\n",
    "df[\"Station\"] = df[\"Station\"].str.replace('[\\\"\\,]',\"\")\n",
    "df[\"nb_siblings\"] = df[\"nb_siblings\"].str.replace('[\\\"\\,]',\"\")\n",
    "df.head()"
   ]
  },
  {
   "cell_type": "code",
   "execution_count": 5,
   "id": "844c5926",
   "metadata": {},
   "outputs": [
    {
     "name": "stdout",
     "output_type": "stream",
     "text": [
      "Index(['PassengerId', 'Survived', 'Pclass', 'Name', 'Sex', 'Age',\n",
      "       'nb_siblings', 'nb_parents', 'Ticket', 'Fare', 'Cabin', 'Station'],\n",
      "      dtype='object')\n",
      "<class 'pandas.core.frame.DataFrame'>\n",
      "RangeIndex: 891 entries, 0 to 890\n",
      "Data columns (total 12 columns):\n",
      " #   Column       Non-Null Count  Dtype  \n",
      "---  ------       --------------  -----  \n",
      " 0   PassengerId  891 non-null    object \n",
      " 1   Survived     891 non-null    int64  \n",
      " 2   Pclass       891 non-null    int64  \n",
      " 3   Name         891 non-null    object \n",
      " 4   Sex          891 non-null    object \n",
      " 5   Age          714 non-null    float64\n",
      " 6   nb_siblings  891 non-null    object \n",
      " 7   nb_parents   891 non-null    int64  \n",
      " 8   Ticket       891 non-null    object \n",
      " 9   Fare         891 non-null    float64\n",
      " 10  Cabin        204 non-null    object \n",
      " 11  Station      891 non-null    object \n",
      "dtypes: float64(2), int64(3), object(7)\n",
      "memory usage: 83.7+ KB\n",
      "None\n",
      "         Survived      Pclass         Age  nb_parents        Fare\n",
      "count  891.000000  891.000000  714.000000  891.000000  891.000000\n",
      "mean     0.383838    2.308642   29.699118    0.381594   32.204208\n",
      "std      0.486592    0.836071   14.526497    0.806057   49.693429\n",
      "min      0.000000    1.000000    0.420000    0.000000    0.000000\n",
      "25%      0.000000    2.000000   20.125000    0.000000    7.910400\n",
      "50%      0.000000    3.000000   28.000000    0.000000   14.454200\n",
      "75%      1.000000    3.000000   38.000000    0.000000   31.000000\n",
      "max      1.000000    3.000000   80.000000    6.000000  512.329200\n"
     ]
    }
   ],
   "source": [
    "print(df.columns)\n",
    "print(df.info())\n",
    "print(df.describe())"
   ]
  },
  {
   "cell_type": "code",
   "execution_count": 6,
   "id": "194cfcd5",
   "metadata": {},
   "outputs": [],
   "source": [
    "#Transformation des colonnes nb_siblings et PassengerId de Str à Int64 :\n",
    "df[['nb_siblings','PassengerId']] = df[['nb_siblings','PassengerId']].applymap(np.int64)"
   ]
  },
  {
   "cell_type": "markdown",
   "id": "499f693f",
   "metadata": {},
   "source": [
    "### Valeurs manquantes :"
   ]
  },
  {
   "cell_type": "markdown",
   "id": "aeeeb6bb",
   "metadata": {},
   "source": [
    "Seuls les variables Cabin et Age coontienne des valeurs manquantes.\n",
    "\n",
    "- Pour la variable Cabin je décide de la supprimer puisque la proportion des valeurs manquantes est beaucoup trop grandes (80%) et toute tentative de les remplacer nous éloignera de la réalité. De plus, la variable Cabin devrait normalement être fortement corélé avec Pclass et Fare.\n",
    "\n",
    "- En ce qui concerne l'Age, même si la proportion de valeurs manquantes est certes assez importante (20%), je ne peux pas supprimer cette colonne car je suis amené à penser que l'Age est un facteur décisif dans la survie ou non des passagers. Il faut ainsi remplacer les valeurs manquantes de façon rigoureuse. Trois méthodes s'offrent à nous :\n",
    "    * Remplacer toute les valeurs manquantes par la moyenne d'age de tout les passagers (30). Cependant cette méthode ne prend  pas en compte comment sont distribuées les valeurs autour de la moyenne (std = ~15). On peut faire mieux.\n",
    "    * Remplacer les valeurs manquantes en utilisant une distribution normale autour de la moyenne (30) et avec un écart type égale à 15. Cette méthode même si elle nous permet de prendre en compte la distribution des valeurs, reste toute de même aléatoire.\n",
    "    * La 3ème méthode, et c'est ce que je décide de faire, est de voir comment les autres variables affectent l'Age des passagers, et de prendre la moyenne sur des groupes de combinaison des variables les plus corélées avec l'Age.\n",
    "\n",
    "    Je traiterai les valeurs manquantes après avoir étudié les corrélations des variables.\n"
   ]
  },
  {
   "cell_type": "code",
   "execution_count": 7,
   "id": "cfd64d6a",
   "metadata": {},
   "outputs": [
    {
     "data": {
      "text/plain": [
       "PassengerId    0.000000\n",
       "Survived       0.000000\n",
       "Pclass         0.000000\n",
       "Name           0.000000\n",
       "Sex            0.000000\n",
       "Age            0.198653\n",
       "nb_siblings    0.000000\n",
       "nb_parents     0.000000\n",
       "Ticket         0.000000\n",
       "Fare           0.000000\n",
       "Cabin          0.771044\n",
       "Station        0.000000\n",
       "dtype: float64"
      ]
     },
     "execution_count": 7,
     "metadata": {},
     "output_type": "execute_result"
    }
   ],
   "source": [
    "df.isnull().mean()"
   ]
  },
  {
   "cell_type": "code",
   "execution_count": 8,
   "id": "577d6c4b",
   "metadata": {},
   "outputs": [],
   "source": [
    "df.drop('Cabin', axis=1, inplace = True)"
   ]
  },
  {
   "cell_type": "markdown",
   "id": "f2666786",
   "metadata": {},
   "source": [
    "## 2. Pre-Processing : <a class=\"anchor\" id=\"chapter2\"></a>"
   ]
  },
  {
   "cell_type": "markdown",
   "id": "2ca64374",
   "metadata": {},
   "source": [
    "### Corrélation des variables numériques :"
   ]
  },
  {
   "cell_type": "code",
   "execution_count": 9,
   "id": "e216094a",
   "metadata": {},
   "outputs": [
    {
     "data": {
      "text/html": [
       "<style  type=\"text/css\" >\n",
       "#T_dd692_row0_col0,#T_dd692_row1_col1,#T_dd692_row2_col2,#T_dd692_row3_col3,#T_dd692_row4_col4,#T_dd692_row5_col5,#T_dd692_row6_col6{\n",
       "            background-color:  #b40426;\n",
       "            color:  #f1f1f1;\n",
       "        }#T_dd692_row0_col1{\n",
       "            background-color:  #8caffe;\n",
       "            color:  #000000;\n",
       "        }#T_dd692_row0_col2{\n",
       "            background-color:  #a9c6fd;\n",
       "            color:  #000000;\n",
       "        }#T_dd692_row0_col3{\n",
       "            background-color:  #9dbdff;\n",
       "            color:  #000000;\n",
       "        }#T_dd692_row0_col4,#T_dd692_row3_col1{\n",
       "            background-color:  #799cf8;\n",
       "            color:  #000000;\n",
       "        }#T_dd692_row0_col5{\n",
       "            background-color:  #6c8ff1;\n",
       "            color:  #000000;\n",
       "        }#T_dd692_row0_col6{\n",
       "            background-color:  #b3cdfb;\n",
       "            color:  #000000;\n",
       "        }#T_dd692_row1_col0{\n",
       "            background-color:  #4961d2;\n",
       "            color:  #f1f1f1;\n",
       "        }#T_dd692_row1_col2{\n",
       "            background-color:  #6485ec;\n",
       "            color:  #000000;\n",
       "        }#T_dd692_row1_col3{\n",
       "            background-color:  #80a3fa;\n",
       "            color:  #000000;\n",
       "        }#T_dd692_row1_col4{\n",
       "            background-color:  #7ea1fa;\n",
       "            color:  #000000;\n",
       "        }#T_dd692_row1_col5{\n",
       "            background-color:  #85a8fc;\n",
       "            color:  #000000;\n",
       "        }#T_dd692_row1_col6{\n",
       "            background-color:  #e2dad5;\n",
       "            color:  #000000;\n",
       "        }#T_dd692_row2_col0{\n",
       "            background-color:  #4055c8;\n",
       "            color:  #f1f1f1;\n",
       "        }#T_dd692_row2_col1,#T_dd692_row2_col3,#T_dd692_row2_col6,#T_dd692_row3_col4,#T_dd692_row3_col5,#T_dd692_row4_col0,#T_dd692_row6_col2{\n",
       "            background-color:  #3b4cc0;\n",
       "            color:  #f1f1f1;\n",
       "        }#T_dd692_row2_col4{\n",
       "            background-color:  #9ebeff;\n",
       "            color:  #000000;\n",
       "        }#T_dd692_row2_col5{\n",
       "            background-color:  #7295f4;\n",
       "            color:  #000000;\n",
       "        }#T_dd692_row3_col0{\n",
       "            background-color:  #5572df;\n",
       "            color:  #000000;\n",
       "        }#T_dd692_row3_col2{\n",
       "            background-color:  #5e7de7;\n",
       "            color:  #000000;\n",
       "        }#T_dd692_row3_col6{\n",
       "            background-color:  #c5d6f2;\n",
       "            color:  #000000;\n",
       "        }#T_dd692_row4_col1{\n",
       "            background-color:  #84a7fc;\n",
       "            color:  #000000;\n",
       "        }#T_dd692_row4_col2{\n",
       "            background-color:  #c3d5f4;\n",
       "            color:  #000000;\n",
       "        }#T_dd692_row4_col3{\n",
       "            background-color:  #485fd1;\n",
       "            color:  #f1f1f1;\n",
       "        }#T_dd692_row4_col5{\n",
       "            background-color:  #dfdbd9;\n",
       "            color:  #000000;\n",
       "        }#T_dd692_row4_col6{\n",
       "            background-color:  #d2dbe8;\n",
       "            color:  #000000;\n",
       "        }#T_dd692_row5_col0{\n",
       "            background-color:  #4a63d3;\n",
       "            color:  #f1f1f1;\n",
       "        }#T_dd692_row5_col1{\n",
       "            background-color:  #a3c2fe;\n",
       "            color:  #000000;\n",
       "        }#T_dd692_row5_col2{\n",
       "            background-color:  #b5cdfa;\n",
       "            color:  #000000;\n",
       "        }#T_dd692_row5_col3{\n",
       "            background-color:  #6384eb;\n",
       "            color:  #000000;\n",
       "        }#T_dd692_row5_col4{\n",
       "            background-color:  #ead5c9;\n",
       "            color:  #000000;\n",
       "        }#T_dd692_row5_col6{\n",
       "            background-color:  #dbdcde;\n",
       "            color:  #000000;\n",
       "        }#T_dd692_row6_col0{\n",
       "            background-color:  #4e68d8;\n",
       "            color:  #000000;\n",
       "        }#T_dd692_row6_col1{\n",
       "            background-color:  #cdd9ec;\n",
       "            color:  #000000;\n",
       "        }#T_dd692_row6_col3{\n",
       "            background-color:  #abc8fd;\n",
       "            color:  #000000;\n",
       "        }#T_dd692_row6_col4{\n",
       "            background-color:  #b2ccfb;\n",
       "            color:  #000000;\n",
       "        }#T_dd692_row6_col5{\n",
       "            background-color:  #adc9fd;\n",
       "            color:  #000000;\n",
       "        }</style><table id=\"T_dd692_\" ><thead>    <tr>        <th class=\"blank level0\" ></th>        <th class=\"col_heading level0 col0\" >PassengerId</th>        <th class=\"col_heading level0 col1\" >Survived</th>        <th class=\"col_heading level0 col2\" >Pclass</th>        <th class=\"col_heading level0 col3\" >Age</th>        <th class=\"col_heading level0 col4\" >nb_siblings</th>        <th class=\"col_heading level0 col5\" >nb_parents</th>        <th class=\"col_heading level0 col6\" >Fare</th>    </tr></thead><tbody>\n",
       "                <tr>\n",
       "                        <th id=\"T_dd692_level0_row0\" class=\"row_heading level0 row0\" >PassengerId</th>\n",
       "                        <td id=\"T_dd692_row0_col0\" class=\"data row0 col0\" >1.000000</td>\n",
       "                        <td id=\"T_dd692_row0_col1\" class=\"data row0 col1\" >-0.005007</td>\n",
       "                        <td id=\"T_dd692_row0_col2\" class=\"data row0 col2\" >-0.035144</td>\n",
       "                        <td id=\"T_dd692_row0_col3\" class=\"data row0 col3\" >0.036847</td>\n",
       "                        <td id=\"T_dd692_row0_col4\" class=\"data row0 col4\" >-0.057527</td>\n",
       "                        <td id=\"T_dd692_row0_col5\" class=\"data row0 col5\" >-0.001652</td>\n",
       "                        <td id=\"T_dd692_row0_col6\" class=\"data row0 col6\" >0.012658</td>\n",
       "            </tr>\n",
       "            <tr>\n",
       "                        <th id=\"T_dd692_level0_row1\" class=\"row_heading level0 row1\" >Survived</th>\n",
       "                        <td id=\"T_dd692_row1_col0\" class=\"data row1 col0\" >-0.005007</td>\n",
       "                        <td id=\"T_dd692_row1_col1\" class=\"data row1 col1\" >1.000000</td>\n",
       "                        <td id=\"T_dd692_row1_col2\" class=\"data row1 col2\" >-0.338481</td>\n",
       "                        <td id=\"T_dd692_row1_col3\" class=\"data row1 col3\" >-0.077221</td>\n",
       "                        <td id=\"T_dd692_row1_col4\" class=\"data row1 col4\" >-0.035322</td>\n",
       "                        <td id=\"T_dd692_row1_col5\" class=\"data row1 col5\" >0.081629</td>\n",
       "                        <td id=\"T_dd692_row1_col6\" class=\"data row1 col6\" >0.257307</td>\n",
       "            </tr>\n",
       "            <tr>\n",
       "                        <th id=\"T_dd692_level0_row2\" class=\"row_heading level0 row2\" >Pclass</th>\n",
       "                        <td id=\"T_dd692_row2_col0\" class=\"data row2 col0\" >-0.035144</td>\n",
       "                        <td id=\"T_dd692_row2_col1\" class=\"data row2 col1\" >-0.338481</td>\n",
       "                        <td id=\"T_dd692_row2_col2\" class=\"data row2 col2\" >1.000000</td>\n",
       "                        <td id=\"T_dd692_row2_col3\" class=\"data row2 col3\" >-0.369226</td>\n",
       "                        <td id=\"T_dd692_row2_col4\" class=\"data row2 col4\" >0.083081</td>\n",
       "                        <td id=\"T_dd692_row2_col5\" class=\"data row2 col5\" >0.018443</td>\n",
       "                        <td id=\"T_dd692_row2_col6\" class=\"data row2 col6\" >-0.549500</td>\n",
       "            </tr>\n",
       "            <tr>\n",
       "                        <th id=\"T_dd692_level0_row3\" class=\"row_heading level0 row3\" >Age</th>\n",
       "                        <td id=\"T_dd692_row3_col0\" class=\"data row3 col0\" >0.036847</td>\n",
       "                        <td id=\"T_dd692_row3_col1\" class=\"data row3 col1\" >-0.077221</td>\n",
       "                        <td id=\"T_dd692_row3_col2\" class=\"data row3 col2\" >-0.369226</td>\n",
       "                        <td id=\"T_dd692_row3_col3\" class=\"data row3 col3\" >1.000000</td>\n",
       "                        <td id=\"T_dd692_row3_col4\" class=\"data row3 col4\" >-0.308247</td>\n",
       "                        <td id=\"T_dd692_row3_col5\" class=\"data row3 col5\" >-0.189119</td>\n",
       "                        <td id=\"T_dd692_row3_col6\" class=\"data row3 col6\" >0.096067</td>\n",
       "            </tr>\n",
       "            <tr>\n",
       "                        <th id=\"T_dd692_level0_row4\" class=\"row_heading level0 row4\" >nb_siblings</th>\n",
       "                        <td id=\"T_dd692_row4_col0\" class=\"data row4 col0\" >-0.057527</td>\n",
       "                        <td id=\"T_dd692_row4_col1\" class=\"data row4 col1\" >-0.035322</td>\n",
       "                        <td id=\"T_dd692_row4_col2\" class=\"data row4 col2\" >0.083081</td>\n",
       "                        <td id=\"T_dd692_row4_col3\" class=\"data row4 col3\" >-0.308247</td>\n",
       "                        <td id=\"T_dd692_row4_col4\" class=\"data row4 col4\" >1.000000</td>\n",
       "                        <td id=\"T_dd692_row4_col5\" class=\"data row4 col5\" >0.414838</td>\n",
       "                        <td id=\"T_dd692_row4_col6\" class=\"data row4 col6\" >0.159651</td>\n",
       "            </tr>\n",
       "            <tr>\n",
       "                        <th id=\"T_dd692_level0_row5\" class=\"row_heading level0 row5\" >nb_parents</th>\n",
       "                        <td id=\"T_dd692_row5_col0\" class=\"data row5 col0\" >-0.001652</td>\n",
       "                        <td id=\"T_dd692_row5_col1\" class=\"data row5 col1\" >0.081629</td>\n",
       "                        <td id=\"T_dd692_row5_col2\" class=\"data row5 col2\" >0.018443</td>\n",
       "                        <td id=\"T_dd692_row5_col3\" class=\"data row5 col3\" >-0.189119</td>\n",
       "                        <td id=\"T_dd692_row5_col4\" class=\"data row5 col4\" >0.414838</td>\n",
       "                        <td id=\"T_dd692_row5_col5\" class=\"data row5 col5\" >1.000000</td>\n",
       "                        <td id=\"T_dd692_row5_col6\" class=\"data row5 col6\" >0.216225</td>\n",
       "            </tr>\n",
       "            <tr>\n",
       "                        <th id=\"T_dd692_level0_row6\" class=\"row_heading level0 row6\" >Fare</th>\n",
       "                        <td id=\"T_dd692_row6_col0\" class=\"data row6 col0\" >0.012658</td>\n",
       "                        <td id=\"T_dd692_row6_col1\" class=\"data row6 col1\" >0.257307</td>\n",
       "                        <td id=\"T_dd692_row6_col2\" class=\"data row6 col2\" >-0.549500</td>\n",
       "                        <td id=\"T_dd692_row6_col3\" class=\"data row6 col3\" >0.096067</td>\n",
       "                        <td id=\"T_dd692_row6_col4\" class=\"data row6 col4\" >0.159651</td>\n",
       "                        <td id=\"T_dd692_row6_col5\" class=\"data row6 col5\" >0.216225</td>\n",
       "                        <td id=\"T_dd692_row6_col6\" class=\"data row6 col6\" >1.000000</td>\n",
       "            </tr>\n",
       "    </tbody></table>"
      ],
      "text/plain": [
       "<pandas.io.formats.style.Styler at 0x18cc4c88bb0>"
      ]
     },
     "execution_count": 9,
     "metadata": {},
     "output_type": "execute_result"
    }
   ],
   "source": [
    "#Matrice de corrélation des valeurs numériques en utilisant la méthodes Pearson (linéaire) :\n",
    "corr = df.corr()\n",
    "corr.style.background_gradient(cmap='coolwarm')"
   ]
  },
  {
   "cell_type": "markdown",
   "id": "1928d11d",
   "metadata": {},
   "source": [
    "#### Remarques : \n",
    "\n",
    "- Pclass et Fare sont peu corrélés avec la survie des passagers\n",
    "- nb_siblings et nb_parents n'affectent en rien la survie. Cependant ces variables sont corrélées entre elles, on pourrait les utiliser pour construire d'autres variables.\n",
    "- l'Age a une faible corrélation avec la survie. Il faut pas oublier cependant que la méthode pearson de la méthode corr() calcule les corrélations linéaires entre les variable et qu'ainsi il se peut qu'il existe une corrélation non linéaire entre les variables, il faut donc les étudier à l'aide de visualisation graphiques.\n",
    "- PassengerId n'étant qu'un simple id non ordonné, il n'apporte aucune information supplémentaire, on peut donc le supprimer dès maintenant."
   ]
  },
  {
   "cell_type": "code",
   "execution_count": 10,
   "id": "633166bc",
   "metadata": {},
   "outputs": [],
   "source": [
    "df.drop('PassengerId', axis=1, inplace = True)"
   ]
  },
  {
   "cell_type": "markdown",
   "id": "4860faa3",
   "metadata": {},
   "source": [
    "### Variables catégoriques :"
   ]
  },
  {
   "cell_type": "markdown",
   "id": "886010c6",
   "metadata": {},
   "source": [
    "#### Survived :\n",
    "Environ deux tiers des passagers n'ont pas survécu l'accident"
   ]
  },
  {
   "cell_type": "code",
   "execution_count": 11,
   "id": "b3532410",
   "metadata": {},
   "outputs": [
    {
     "name": "stdout",
     "output_type": "stream",
     "text": [
      "61.61616161616161 % des passagers sont morts\n",
      "38.38383838383838 % des passagers ont survécu\n"
     ]
    }
   ],
   "source": [
    "print((len(df[df.Survived == 0])/len(df))*100,'% des passagers sont morts')\n",
    "print((len(df[df.Survived == 1])/len(df))*100,'% des passagers ont survécu')\n"
   ]
  },
  {
   "cell_type": "code",
   "execution_count": 12,
   "id": "b9234083",
   "metadata": {},
   "outputs": [
    {
     "data": {
      "text/plain": [
       "<AxesSubplot:xlabel='Survived', ylabel='count'>"
      ]
     },
     "execution_count": 12,
     "metadata": {},
     "output_type": "execute_result"
    },
    {
     "data": {
      "image/png": "[encoded data removed]",
      "text/plain": [
       "<Figure size 432x288 with 1 Axes>"
      ]
     },
     "metadata": {
      "needs_background": "light"
     },
     "output_type": "display_data"
    }
   ],
   "source": [
    "sns.countplot(x='Survived', data = df )"
   ]
  },
  {
   "cell_type": "markdown",
   "id": "2ee76924",
   "metadata": {},
   "source": [
    "#### Sex :\n",
    "\n",
    "- Les deux tiers des passagers sont des hommes.\n",
    "- Même si les femmes était moins nombreux que les hommes, ils avaient plus de chance de survie."
   ]
  },
  {
   "cell_type": "code",
   "execution_count": 13,
   "id": "8ecd3379",
   "metadata": {},
   "outputs": [
    {
     "name": "stdout",
     "output_type": "stream",
     "text": [
      "64.75869809203144 % des passagers sont des hommes\n",
      "35.24130190796858 % des passagers sont des femmes\n"
     ]
    }
   ],
   "source": [
    "print((len(df[df.Sex == 'male'])/len(df))*100,'% des passagers sont des hommes')\n",
    "print((len(df[df.Sex == 'female'])/len(df))*100,'% des passagers sont des femmes')"
   ]
  },
  {
   "cell_type": "code",
   "execution_count": 14,
   "id": "6b013253",
   "metadata": {
    "scrolled": true
   },
   "outputs": [
    {
     "data": {
      "text/plain": [
       "<AxesSubplot:xlabel='Sex', ylabel='count'>"
      ]
     },
     "execution_count": 14,
     "metadata": {},
     "output_type": "execute_result"
    },
    {
     "data": {
      "image/png": "[encoded data removed]",
      "text/plain": [
       "<Figure size 432x288 with 1 Axes>"
      ]
     },
     "metadata": {
      "needs_background": "light"
     },
     "output_type": "display_data"
    }
   ],
   "source": [
    "sns.countplot(x='Sex', data = df )"
   ]
  },
  {
   "cell_type": "code",
   "execution_count": 15,
   "id": "efc1e997",
   "metadata": {},
   "outputs": [
    {
     "data": {
      "text/plain": [
       "<AxesSubplot:xlabel='Sex', ylabel='Survived'>"
      ]
     },
     "execution_count": 15,
     "metadata": {},
     "output_type": "execute_result"
    },
    {
     "data": {
      "image/png": "[encoded data removed]",
      "text/plain": [
       "<Figure size 432x288 with 1 Axes>"
      ]
     },
     "metadata": {
      "needs_background": "light"
     },
     "output_type": "display_data"
    }
   ],
   "source": [
    "sns.barplot(x = 'Sex', y = 'Survived', data = df)"
   ]
  },
  {
   "cell_type": "markdown",
   "id": "160e6a5f",
   "metadata": {},
   "source": [
    "#### Pclass :\n",
    "- Plus de la moitié des passagers sont en 3ème classe.\n",
    "- Les passagers de 1ère classe avait plus de chance de survie (62%), suivis par ceux de 2ème classe (48%) et 3ème classe (23%)."
   ]
  },
  {
   "cell_type": "code",
   "execution_count": 16,
   "id": "fee624e1",
   "metadata": {},
   "outputs": [
    {
     "data": {
      "text/plain": [
       "<AxesSubplot:xlabel='Pclass', ylabel='count'>"
      ]
     },
     "execution_count": 16,
     "metadata": {},
     "output_type": "execute_result"
    },
    {
     "data": {
      "image/png": "[encoded data removed]",
      "text/plain": [
       "<Figure size 432x288 with 1 Axes>"
      ]
     },
     "metadata": {
      "needs_background": "light"
     },
     "output_type": "display_data"
    }
   ],
   "source": [
    "sns.countplot(x='Pclass', data = df )"
   ]
  },
  {
   "cell_type": "code",
   "execution_count": 17,
   "id": "f2721ab3",
   "metadata": {},
   "outputs": [
    {
     "data": {
      "text/plain": [
       "<AxesSubplot:xlabel='Pclass', ylabel='Survived'>"
      ]
     },
     "execution_count": 17,
     "metadata": {},
     "output_type": "execute_result"
    },
    {
     "data": {
      "image/png": "[encoded data removed]",
      "text/plain": [
       "<Figure size 432x288 with 1 Axes>"
      ]
     },
     "metadata": {
      "needs_background": "light"
     },
     "output_type": "display_data"
    }
   ],
   "source": [
    "sns.barplot(data = df, x ='Pclass', y = 'Survived')"
   ]
  },
  {
   "cell_type": "markdown",
   "id": "fa32e4eb",
   "metadata": {},
   "source": [
    "#### Station"
   ]
  },
  {
   "cell_type": "code",
   "execution_count": 18,
   "id": "a2e40f9f",
   "metadata": {},
   "outputs": [
    {
     "data": {
      "text/plain": [
       "<AxesSubplot:xlabel='Station', ylabel='count'>"
      ]
     },
     "execution_count": 18,
     "metadata": {},
     "output_type": "execute_result"
    },
    {
     "data": {
      "image/png": "[encoded data removed]",
      "text/plain": [
       "<Figure size 432x288 with 1 Axes>"
      ]
     },
     "metadata": {
      "needs_background": "light"
     },
     "output_type": "display_data"
    }
   ],
   "source": [
    "sns.countplot(x='Station', data = df )"
   ]
  },
  {
   "cell_type": "markdown",
   "id": "8fff3b13",
   "metadata": {},
   "source": [
    "Il existe apparement dans la colonne Station des valeurs vides qui n'ont pas été détécté comme étant manquantes. "
   ]
  },
  {
   "cell_type": "code",
   "execution_count": 19,
   "id": "b7c3b087",
   "metadata": {},
   "outputs": [
    {
     "data": {
      "text/plain": [
       "Station\n",
       "       2\n",
       "C    168\n",
       "Q     77\n",
       "S    644\n",
       "Name: Station, dtype: int64"
      ]
     },
     "execution_count": 19,
     "metadata": {},
     "output_type": "execute_result"
    }
   ],
   "source": [
    "df.groupby('Station')['Station'].count()"
   ]
  },
  {
   "cell_type": "markdown",
   "id": "a9f3dad7",
   "metadata": {},
   "source": [
    "Puisqu'il s'agit que de 2 valeurs on les remplace par la station la plus fréquente, à savoir S."
   ]
  },
  {
   "cell_type": "code",
   "execution_count": 20,
   "id": "97964929",
   "metadata": {},
   "outputs": [],
   "source": [
    "df.loc[df.Station == '', 'Station'] = 'S'"
   ]
  },
  {
   "cell_type": "code",
   "execution_count": 21,
   "id": "3ad6d2ed",
   "metadata": {},
   "outputs": [
    {
     "data": {
      "text/plain": [
       "<AxesSubplot:xlabel='Station', ylabel='count'>"
      ]
     },
     "execution_count": 21,
     "metadata": {},
     "output_type": "execute_result"
    },
    {
     "data": {
      "image/png": "[encoded data removed]",
      "text/plain": [
       "<Figure size 432x288 with 1 Axes>"
      ]
     },
     "metadata": {
      "needs_background": "light"
     },
     "output_type": "display_data"
    }
   ],
   "source": [
    "sns.countplot(x='Station', data = df )"
   ]
  },
  {
   "cell_type": "code",
   "execution_count": 22,
   "id": "b7a754fb",
   "metadata": {},
   "outputs": [
    {
     "data": {
      "image/png": "[encoded data removed]",
      "text/plain": [
       "<Figure size 432x288 with 1 Axes>"
      ]
     },
     "metadata": {
      "needs_background": "light"
     },
     "output_type": "display_data"
    }
   ],
   "source": [
    "sns.barplot(data = df, x ='Station', y = 'Survived');"
   ]
  },
  {
   "cell_type": "markdown",
   "id": "0852bfe0",
   "metadata": {},
   "source": [
    "On remarque que les passagers qui sont montés depuis Carthagène ont plus de chance de survie par rapport aux autres stations.\n",
    "Examinons cela de plus près en regardant d'autres variables"
   ]
  },
  {
   "cell_type": "code",
   "execution_count": 23,
   "id": "ea33d1c0",
   "metadata": {},
   "outputs": [
    {
     "data": {
      "text/plain": [
       "<AxesSubplot:xlabel='Station', ylabel='count'>"
      ]
     },
     "execution_count": 23,
     "metadata": {},
     "output_type": "execute_result"
    },
    {
     "data": {
      "image/png": "[encoded data removed]",
      "text/plain": [
       "<Figure size 432x288 with 1 Axes>"
      ]
     },
     "metadata": {
      "needs_background": "light"
     },
     "output_type": "display_data"
    }
   ],
   "source": [
    "sns.countplot(data = df, x ='Station', hue = 'Sex')"
   ]
  },
  {
   "cell_type": "code",
   "execution_count": 24,
   "id": "a23478c4",
   "metadata": {},
   "outputs": [
    {
     "data": {
      "text/plain": [
       "<AxesSubplot:xlabel='Station', ylabel='count'>"
      ]
     },
     "execution_count": 24,
     "metadata": {},
     "output_type": "execute_result"
    },
    {
     "data": {
      "image/png": "[encoded data removed]",
      "text/plain": [
       "<Figure size 432x288 with 1 Axes>"
      ]
     },
     "metadata": {
      "needs_background": "light"
     },
     "output_type": "display_data"
    }
   ],
   "source": [
    "sns.countplot(data = df, x ='Station', hue = 'Pclass')"
   ]
  },
  {
   "cell_type": "markdown",
   "id": "dfc0ee79",
   "metadata": {},
   "source": [
    "On peut donc justifier cela par le fait que les passagers ayant montés de Carthagène étaient à majorité en première classe (contrairement aux deux autres stations qui était majoritairements en 3ème classe) et ont ainsi plus de chance de survie. "
   ]
  },
  {
   "cell_type": "markdown",
   "id": "641cf0f3",
   "metadata": {},
   "source": [
    "## Corrélation des variables non catégoriques :"
   ]
  },
  {
   "cell_type": "markdown",
   "id": "07bc6d12",
   "metadata": {},
   "source": [
    "### Ticket :\n",
    "La colonne Ticket contient des valeurs très variées et complexes. Je décide de la supprimer."
   ]
  },
  {
   "cell_type": "code",
   "execution_count": 25,
   "id": "0603dd73",
   "metadata": {},
   "outputs": [],
   "source": [
    "df = df.drop('Ticket', axis=1)"
   ]
  },
  {
   "cell_type": "markdown",
   "id": "27ed37d0",
   "metadata": {},
   "source": [
    "### Fare :"
   ]
  },
  {
   "cell_type": "markdown",
   "id": "ce4df227",
   "metadata": {},
   "source": [
    "D'après la matrice de corrélation, on remarque que la colonne Fare a une corrélation non négligeable avec la colonne Survived. Cependant, la distribution des valeurs de cette colonne est fortement asymétrique (skewness = 4,8) et il existe un grand nombre de valeurs extrêmes (outliers). Ces valeurs si on ne les traitent pas affecteront négativement la performance des modèles de prédiction. J'utiliserai la méthode IQR afin de définir des barrières de valeurs à ne pas dépasser, à savoir Q3 + 1,5*IQR et Q1 - 1,5*IQR."
   ]
  },
  {
   "cell_type": "code",
   "execution_count": 26,
   "id": "aca54bba",
   "metadata": {},
   "outputs": [
    {
     "data": {
      "text/plain": [
       "count    891.000000\n",
       "mean      32.204208\n",
       "std       49.693429\n",
       "min        0.000000\n",
       "25%        7.910400\n",
       "50%       14.454200\n",
       "75%       31.000000\n",
       "max      512.329200\n",
       "Name: Fare, dtype: float64"
      ]
     },
     "execution_count": 26,
     "metadata": {},
     "output_type": "execute_result"
    }
   ],
   "source": [
    "df['Fare'].describe()"
   ]
  },
  {
   "cell_type": "markdown",
   "id": "29eaeb79",
   "metadata": {},
   "source": [
    "75% des valeurs sont plus petits que 31, mais il existe tout de même des valeurs dépassant 500."
   ]
  },
  {
   "cell_type": "code",
   "execution_count": 27,
   "id": "869e40ab",
   "metadata": {},
   "outputs": [
    {
     "data": {
      "image/png": "[encoded data removed]",
      "text/plain": [
       "<Figure size 432x288 with 1 Axes>"
      ]
     },
     "metadata": {
      "needs_background": "light"
     },
     "output_type": "display_data"
    }
   ],
   "source": [
    "sns.boxplot(data = df, x = 'Fare')\n",
    "plt.show()"
   ]
  },
  {
   "cell_type": "code",
   "execution_count": 28,
   "id": "7285e86d",
   "metadata": {},
   "outputs": [
    {
     "data": {
      "text/plain": [
       "<seaborn.axisgrid.FacetGrid at 0x18cc8323ac0>"
      ]
     },
     "execution_count": 28,
     "metadata": {},
     "output_type": "execute_result"
    },
    {
     "data": {
      "image/png": "[encoded data removed]",
      "text/plain": [
       "<Figure size 360x360 with 1 Axes>"
      ]
     },
     "metadata": {
      "needs_background": "light"
     },
     "output_type": "display_data"
    }
   ],
   "source": [
    "sns.displot(data=df, x=\"Fare\", kind ='kde')"
   ]
  },
  {
   "cell_type": "code",
   "execution_count": 29,
   "id": "43bb77fd",
   "metadata": {},
   "outputs": [
    {
     "name": "stdout",
     "output_type": "stream",
     "text": [
      "Fare skewness :  4.787316519674893\n"
     ]
    }
   ],
   "source": [
    "print('Fare skewness : ' , df['Fare'].skew())"
   ]
  },
  {
   "cell_type": "code",
   "execution_count": 30,
   "id": "d8d7c812",
   "metadata": {},
   "outputs": [
    {
     "name": "stdout",
     "output_type": "stream",
     "text": [
      "65.6344\n",
      "-26.724\n"
     ]
    }
   ],
   "source": [
    "#Calcul de IQR puis des barrières inf et max :\n",
    "IQR=df.Fare.quantile(0.75)-df.Fare.quantile(0.25)\n",
    "barrière_max=df['Fare'].quantile(0.75)+(IQR*1.5)\n",
    "barrière_inf=df['Fare'].quantile(0.25)-(IQR*1.5)\n",
    "print(barrière_max)\n",
    "print(barrière_inf)"
   ]
  },
  {
   "cell_type": "markdown",
   "id": "864e5b05",
   "metadata": {},
   "source": [
    "Toutes les valeurs de Fare étant supérieures ou égales à 0, on ne traitera que les valeurs supérieures à la barrière max.\n",
    "Je remplace toutes les valeurs supérieures à cette barrière par 66 :"
   ]
  },
  {
   "cell_type": "code",
   "execution_count": 31,
   "id": "b5175074",
   "metadata": {},
   "outputs": [],
   "source": [
    "df.loc[df['Fare']>=66,'Fare']=66"
   ]
  },
  {
   "cell_type": "markdown",
   "id": "35407c46",
   "metadata": {},
   "source": [
    "La distribution et le boxplot après le traitement des valeurs extrêmes :"
   ]
  },
  {
   "cell_type": "code",
   "execution_count": 32,
   "id": "e512ea43",
   "metadata": {},
   "outputs": [
    {
     "data": {
      "text/plain": [
       "<AxesSubplot:xlabel='Fare'>"
      ]
     },
     "execution_count": 32,
     "metadata": {},
     "output_type": "execute_result"
    },
    {
     "data": {
      "image/png": "[encoded data removed]",
      "text/plain": [
       "<Figure size 432x288 with 1 Axes>"
      ]
     },
     "metadata": {
      "needs_background": "light"
     },
     "output_type": "display_data"
    }
   ],
   "source": [
    "sns.boxplot(data = df, x = 'Fare')"
   ]
  },
  {
   "cell_type": "code",
   "execution_count": 33,
   "id": "8e451641",
   "metadata": {},
   "outputs": [
    {
     "data": {
      "text/plain": [
       "<seaborn.axisgrid.FacetGrid at 0x18cc849a6d0>"
      ]
     },
     "execution_count": 33,
     "metadata": {},
     "output_type": "execute_result"
    },
    {
     "data": {
      "image/png": "[encoded data removed]",
      "text/plain": [
       "<Figure size 360x360 with 1 Axes>"
      ]
     },
     "metadata": {
      "needs_background": "light"
     },
     "output_type": "display_data"
    }
   ],
   "source": [
    "sns.displot(data=df, x=\"Fare\", kind ='kde')"
   ]
  },
  {
   "cell_type": "code",
   "execution_count": 34,
   "id": "0e5b64f2",
   "metadata": {},
   "outputs": [
    {
     "name": "stdout",
     "output_type": "stream",
     "text": [
      "Fare skewness :  1.0886952079299204\n"
     ]
    }
   ],
   "source": [
    "print('Fare skewness : ' , df['Fare'].skew())"
   ]
  },
  {
   "cell_type": "markdown",
   "id": "cb6fc343",
   "metadata": {},
   "source": [
    "Vérifions maintenant la corrélation entre Fare et la survie des passagers :"
   ]
  },
  {
   "cell_type": "code",
   "execution_count": 35,
   "id": "87bd553e",
   "metadata": {},
   "outputs": [
    {
     "data": {
      "image/png": "[encoded data removed]",
      "text/plain": [
       "<Figure size 483.875x216 with 1 Axes>"
      ]
     },
     "metadata": {
      "needs_background": "light"
     },
     "output_type": "display_data"
    }
   ],
   "source": [
    "grid = sns.FacetGrid(df, hue=\"Survived\",aspect=2, xlim=(0, df['Fare'].max()))\n",
    "grid.map(sns.kdeplot,'Fare',shade= True)\n",
    "grid.fig.suptitle('Distribution de Fare selon Survived')\n",
    "grid.add_legend()\n",
    "plt.show()"
   ]
  },
  {
   "cell_type": "markdown",
   "id": "02664a10",
   "metadata": {},
   "source": [
    "Les personnes ayant payés le plus avait plus de chances de survie, tandis que ceux qui ont payés le moins avait moins de chance de survie."
   ]
  },
  {
   "cell_type": "markdown",
   "id": "ae4ad05c",
   "metadata": {},
   "source": [
    "#### nb_siblings et nb_parents :\n",
    "- Plus le nombre de nb_siblings augmente plus les chances de survie diminuent\n",
    "- Je crée tout d'abord une nouvelle variable que j'appelle nb_family qui est égale à la somme de nb_parents et nb_siblings\n",
    "- Les passagers ayant entre 1 et 3 membres de familles les accomagant ont beaucoup plus de chance de survie. Je divise nb_Family en trois variables prenant des valeurs binaires : F0 = 1 si nb_family = 0, F1 = 1 si nb_ family est entre 1 et 3, et F2 = 1 si nb_family est supérieur à 3.\n",
    "- Je supprime ensuite les variables nb_siblings, nb_parents et nb_family"
   ]
  },
  {
   "cell_type": "code",
   "execution_count": 36,
   "id": "3999d086",
   "metadata": {},
   "outputs": [
    {
     "data": {
      "text/plain": [
       "<AxesSubplot:xlabel='nb_siblings', ylabel='Survived'>"
      ]
     },
     "execution_count": 36,
     "metadata": {},
     "output_type": "execute_result"
    },
    {
     "data": {
      "image/png": "[encoded data removed]",
      "text/plain": [
       "<Figure size 432x288 with 1 Axes>"
      ]
     },
     "metadata": {
      "needs_background": "light"
     },
     "output_type": "display_data"
    }
   ],
   "source": [
    "sns.barplot(x=\"nb_siblings\",y=\"Survived\",data=df)"
   ]
  },
  {
   "cell_type": "code",
   "execution_count": 37,
   "id": "2ee4ed18",
   "metadata": {},
   "outputs": [
    {
     "data": {
      "text/plain": [
       "<AxesSubplot:xlabel='nb_parents', ylabel='Survived'>"
      ]
     },
     "execution_count": 37,
     "metadata": {},
     "output_type": "execute_result"
    },
    {
     "data": {
      "image/png": "[encoded data removed]",
      "text/plain": [
       "<Figure size 432x288 with 1 Axes>"
      ]
     },
     "metadata": {
      "needs_background": "light"
     },
     "output_type": "display_data"
    }
   ],
   "source": [
    "sns.barplot(x=\"nb_parents\",y=\"Survived\",data=df)"
   ]
  },
  {
   "cell_type": "code",
   "execution_count": 38,
   "id": "84198bdb",
   "metadata": {},
   "outputs": [
    {
     "data": {
      "text/html": [
       "<div>\n",
       "<style scoped>\n",
       "    .dataframe tbody tr th:only-of-type {\n",
       "        vertical-align: middle;\n",
       "    }\n",
       "\n",
       "    .dataframe tbody tr th {\n",
       "        vertical-align: top;\n",
       "    }\n",
       "\n",
       "    .dataframe thead th {\n",
       "        text-align: right;\n",
       "    }\n",
       "</style>\n",
       "<table border=\"1\" class=\"dataframe\">\n",
       "  <thead>\n",
       "    <tr style=\"text-align: right;\">\n",
       "      <th></th>\n",
       "      <th>Survived</th>\n",
       "      <th>Pclass</th>\n",
       "      <th>Name</th>\n",
       "      <th>Sex</th>\n",
       "      <th>Age</th>\n",
       "      <th>nb_siblings</th>\n",
       "      <th>nb_parents</th>\n",
       "      <th>Fare</th>\n",
       "      <th>Station</th>\n",
       "      <th>nb_family</th>\n",
       "    </tr>\n",
       "  </thead>\n",
       "  <tbody>\n",
       "    <tr>\n",
       "      <th>0</th>\n",
       "      <td>0</td>\n",
       "      <td>3</td>\n",
       "      <td>Braund Mr. Owen Harris</td>\n",
       "      <td>male</td>\n",
       "      <td>22.0</td>\n",
       "      <td>1</td>\n",
       "      <td>0</td>\n",
       "      <td>7.250</td>\n",
       "      <td>S</td>\n",
       "      <td>1</td>\n",
       "    </tr>\n",
       "    <tr>\n",
       "      <th>1</th>\n",
       "      <td>1</td>\n",
       "      <td>1</td>\n",
       "      <td>Cumings Mrs. John Bradley (Florence Briggs Tha...</td>\n",
       "      <td>female</td>\n",
       "      <td>38.0</td>\n",
       "      <td>1</td>\n",
       "      <td>0</td>\n",
       "      <td>66.000</td>\n",
       "      <td>C</td>\n",
       "      <td>1</td>\n",
       "    </tr>\n",
       "    <tr>\n",
       "      <th>2</th>\n",
       "      <td>1</td>\n",
       "      <td>3</td>\n",
       "      <td>Heikkinen Miss. Laina</td>\n",
       "      <td>female</td>\n",
       "      <td>26.0</td>\n",
       "      <td>0</td>\n",
       "      <td>0</td>\n",
       "      <td>7.925</td>\n",
       "      <td>S</td>\n",
       "      <td>0</td>\n",
       "    </tr>\n",
       "    <tr>\n",
       "      <th>3</th>\n",
       "      <td>1</td>\n",
       "      <td>1</td>\n",
       "      <td>Futrelle Mrs. Jacques Heath (Lily May Peel)</td>\n",
       "      <td>female</td>\n",
       "      <td>35.0</td>\n",
       "      <td>1</td>\n",
       "      <td>0</td>\n",
       "      <td>53.100</td>\n",
       "      <td>S</td>\n",
       "      <td>1</td>\n",
       "    </tr>\n",
       "    <tr>\n",
       "      <th>4</th>\n",
       "      <td>0</td>\n",
       "      <td>3</td>\n",
       "      <td>Allen Mr. William Henry</td>\n",
       "      <td>male</td>\n",
       "      <td>35.0</td>\n",
       "      <td>0</td>\n",
       "      <td>0</td>\n",
       "      <td>8.050</td>\n",
       "      <td>S</td>\n",
       "      <td>0</td>\n",
       "    </tr>\n",
       "  </tbody>\n",
       "</table>\n",
       "</div>"
      ],
      "text/plain": [
       "   Survived  Pclass                                               Name  \\\n",
       "0         0       3                             Braund Mr. Owen Harris   \n",
       "1         1       1  Cumings Mrs. John Bradley (Florence Briggs Tha...   \n",
       "2         1       3                              Heikkinen Miss. Laina   \n",
       "3         1       1        Futrelle Mrs. Jacques Heath (Lily May Peel)   \n",
       "4         0       3                            Allen Mr. William Henry   \n",
       "\n",
       "      Sex   Age  nb_siblings  nb_parents    Fare Station  nb_family  \n",
       "0    male  22.0            1           0   7.250       S          1  \n",
       "1  female  38.0            1           0  66.000       C          1  \n",
       "2  female  26.0            0           0   7.925       S          0  \n",
       "3  female  35.0            1           0  53.100       S          1  \n",
       "4    male  35.0            0           0   8.050       S          0  "
      ]
     },
     "execution_count": 38,
     "metadata": {},
     "output_type": "execute_result"
    }
   ],
   "source": [
    "#Création de la variable nb_family\n",
    "df['nb_family'] = (df['nb_siblings'] + df['nb_parents'])\n",
    "df.head()"
   ]
  },
  {
   "cell_type": "code",
   "execution_count": 39,
   "id": "0ed4cf88",
   "metadata": {},
   "outputs": [
    {
     "data": {
      "text/plain": [
       "<AxesSubplot:xlabel='nb_family', ylabel='Survived'>"
      ]
     },
     "execution_count": 39,
     "metadata": {},
     "output_type": "execute_result"
    },
    {
     "data": {
      "image/png": "[encoded data removed]",
      "text/plain": [
       "<Figure size 432x288 with 1 Axes>"
      ]
     },
     "metadata": {
      "needs_background": "light"
     },
     "output_type": "display_data"
    }
   ],
   "source": [
    "sns.barplot(x=\"nb_family\",y=\"Survived\",data=df)"
   ]
  },
  {
   "cell_type": "code",
   "execution_count": 40,
   "id": "acb0395e",
   "metadata": {},
   "outputs": [],
   "source": [
    "[]\n",
    "df.loc[(df['nb_family'] == 0),'F0']=1\n",
    "df.loc[(df['nb_family'] != 0),'F0']=0\n",
    "\n",
    "\n",
    "df.loc[(df['nb_family']>=1) & (df['nb_family']<=3),'F1']=1\n",
    "df.loc[(df['nb_family'] == 0) | (df['nb_family']>3),'F1']=0\n",
    "\n",
    "df.loc[(df['nb_family'] >= 4),'F2']=1\n",
    "df.loc[(df['nb_family'] < 4),'F2']=0\n"
   ]
  },
  {
   "cell_type": "code",
   "execution_count": 41,
   "id": "1c642edc",
   "metadata": {},
   "outputs": [],
   "source": [
    "#on supprime une des 3 colonnes car si on a l'information sur deux colonnes on peut déduire l'information sur l'autre\n",
    "df.drop('F2', axis=1, inplace = True)"
   ]
  },
  {
   "cell_type": "code",
   "execution_count": 42,
   "id": "aff4f8b7",
   "metadata": {},
   "outputs": [
    {
     "data": {
      "text/html": [
       "<style  type=\"text/css\" >\n",
       "#T_a8320_row0_col0,#T_a8320_row1_col1,#T_a8320_row2_col2,#T_a8320_row3_col3,#T_a8320_row4_col4,#T_a8320_row5_col5,#T_a8320_row6_col6,#T_a8320_row7_col7,#T_a8320_row8_col8{\n",
       "            background-color:  #b40426;\n",
       "            color:  #f1f1f1;\n",
       "        }#T_a8320_row0_col1{\n",
       "            background-color:  #82a6fb;\n",
       "            color:  #000000;\n",
       "        }#T_a8320_row0_col2{\n",
       "            background-color:  #80a3fa;\n",
       "            color:  #000000;\n",
       "        }#T_a8320_row0_col3{\n",
       "            background-color:  #aec9fc;\n",
       "            color:  #000000;\n",
       "        }#T_a8320_row0_col4,#T_a8320_row0_col6,#T_a8320_row1_col3{\n",
       "            background-color:  #c6d6f1;\n",
       "            color:  #000000;\n",
       "        }#T_a8320_row0_col5,#T_a8320_row4_col8{\n",
       "            background-color:  #f2cab5;\n",
       "            color:  #000000;\n",
       "        }#T_a8320_row0_col7{\n",
       "            background-color:  #b1cbfc;\n",
       "            color:  #000000;\n",
       "        }#T_a8320_row0_col8,#T_a8320_row3_col5,#T_a8320_row6_col8{\n",
       "            background-color:  #f3c8b2;\n",
       "            color:  #000000;\n",
       "        }#T_a8320_row1_col0,#T_a8320_row1_col2,#T_a8320_row1_col5,#T_a8320_row5_col1,#T_a8320_row7_col3,#T_a8320_row7_col4,#T_a8320_row7_col6,#T_a8320_row7_col8,#T_a8320_row8_col7{\n",
       "            background-color:  #3b4cc0;\n",
       "            color:  #f1f1f1;\n",
       "        }#T_a8320_row1_col4,#T_a8320_row5_col2{\n",
       "            background-color:  #bad0f8;\n",
       "            color:  #000000;\n",
       "        }#T_a8320_row1_col6{\n",
       "            background-color:  #cedaeb;\n",
       "            color:  #000000;\n",
       "        }#T_a8320_row1_col7{\n",
       "            background-color:  #e5d8d1;\n",
       "            color:  #000000;\n",
       "        }#T_a8320_row1_col8{\n",
       "            background-color:  #adc9fd;\n",
       "            color:  #000000;\n",
       "        }#T_a8320_row2_col0{\n",
       "            background-color:  #799cf8;\n",
       "            color:  #000000;\n",
       "        }#T_a8320_row2_col1{\n",
       "            background-color:  #7b9ff9;\n",
       "            color:  #000000;\n",
       "        }#T_a8320_row2_col3{\n",
       "            background-color:  #7295f4;\n",
       "            color:  #000000;\n",
       "        }#T_a8320_row2_col4{\n",
       "            background-color:  #8caffe;\n",
       "            color:  #000000;\n",
       "        }#T_a8320_row2_col5{\n",
       "            background-color:  #dedcdb;\n",
       "            color:  #000000;\n",
       "        }#T_a8320_row2_col6{\n",
       "            background-color:  #85a8fc;\n",
       "            color:  #000000;\n",
       "        }#T_a8320_row2_col7{\n",
       "            background-color:  #edd2c3;\n",
       "            color:  #000000;\n",
       "        }#T_a8320_row2_col8,#T_a8320_row7_col2{\n",
       "            background-color:  #c5d6f2;\n",
       "            color:  #000000;\n",
       "        }#T_a8320_row3_col0{\n",
       "            background-color:  #84a7fc;\n",
       "            color:  #000000;\n",
       "        }#T_a8320_row3_col1{\n",
       "            background-color:  #d4dbe6;\n",
       "            color:  #000000;\n",
       "        }#T_a8320_row3_col2{\n",
       "            background-color:  #485fd1;\n",
       "            color:  #f1f1f1;\n",
       "        }#T_a8320_row3_col4,#T_a8320_row4_col3,#T_a8320_row5_col6,#T_a8320_row8_col5{\n",
       "            background-color:  #f5c2aa;\n",
       "            color:  #000000;\n",
       "        }#T_a8320_row3_col6{\n",
       "            background-color:  #cb3e38;\n",
       "            color:  #f1f1f1;\n",
       "        }#T_a8320_row3_col7{\n",
       "            background-color:  #688aef;\n",
       "            color:  #000000;\n",
       "        }#T_a8320_row3_col8{\n",
       "            background-color:  #eed0c0;\n",
       "            color:  #000000;\n",
       "        }#T_a8320_row4_col0{\n",
       "            background-color:  #a3c2fe;\n",
       "            color:  #000000;\n",
       "        }#T_a8320_row4_col1{\n",
       "            background-color:  #c9d7f0;\n",
       "            color:  #000000;\n",
       "        }#T_a8320_row4_col2{\n",
       "            background-color:  #6384eb;\n",
       "            color:  #000000;\n",
       "        }#T_a8320_row4_col5{\n",
       "            background-color:  #f0cdbb;\n",
       "            color:  #000000;\n",
       "        }#T_a8320_row4_col6{\n",
       "            background-color:  #de614d;\n",
       "            color:  #000000;\n",
       "        }#T_a8320_row4_col7{\n",
       "            background-color:  #6a8bef;\n",
       "            color:  #000000;\n",
       "        }#T_a8320_row5_col0{\n",
       "            background-color:  #dadce0;\n",
       "            color:  #000000;\n",
       "        }#T_a8320_row5_col3{\n",
       "            background-color:  #efcfbf;\n",
       "            color:  #000000;\n",
       "        }#T_a8320_row5_col4{\n",
       "            background-color:  #ead5c9;\n",
       "            color:  #000000;\n",
       "        }#T_a8320_row5_col7{\n",
       "            background-color:  #81a4fb;\n",
       "            color:  #000000;\n",
       "        }#T_a8320_row5_col8{\n",
       "            background-color:  #f7ba9f;\n",
       "            color:  #000000;\n",
       "        }#T_a8320_row6_col0{\n",
       "            background-color:  #92b4fe;\n",
       "            color:  #000000;\n",
       "        }#T_a8320_row6_col1{\n",
       "            background-color:  #d1dae9;\n",
       "            color:  #000000;\n",
       "        }#T_a8320_row6_col2{\n",
       "            background-color:  #4961d2;\n",
       "            color:  #f1f1f1;\n",
       "        }#T_a8320_row6_col3{\n",
       "            background-color:  #cc403a;\n",
       "            color:  #f1f1f1;\n",
       "        }#T_a8320_row6_col4{\n",
       "            background-color:  #e16751;\n",
       "            color:  #000000;\n",
       "        }#T_a8320_row6_col5{\n",
       "            background-color:  #f5c1a9;\n",
       "            color:  #000000;\n",
       "        }#T_a8320_row6_col7{\n",
       "            background-color:  #5673e0;\n",
       "            color:  #000000;\n",
       "        }#T_a8320_row7_col0{\n",
       "            background-color:  #5977e3;\n",
       "            color:  #000000;\n",
       "        }#T_a8320_row7_col1{\n",
       "            background-color:  #dbdcde;\n",
       "            color:  #000000;\n",
       "        }#T_a8320_row7_col5{\n",
       "            background-color:  #6b8df0;\n",
       "            color:  #000000;\n",
       "        }#T_a8320_row8_col0{\n",
       "            background-color:  #d3dbe7;\n",
       "            color:  #000000;\n",
       "        }#T_a8320_row8_col1{\n",
       "            background-color:  #9abbff;\n",
       "            color:  #000000;\n",
       "        }#T_a8320_row8_col2{\n",
       "            background-color:  #7ea1fa;\n",
       "            color:  #000000;\n",
       "        }#T_a8320_row8_col3{\n",
       "            background-color:  #dddcdc;\n",
       "            color:  #000000;\n",
       "        }#T_a8320_row8_col4{\n",
       "            background-color:  #e6d7cf;\n",
       "            color:  #000000;\n",
       "        }#T_a8320_row8_col6{\n",
       "            background-color:  #edd1c2;\n",
       "            color:  #000000;\n",
       "        }</style><table id=\"T_a8320_\" ><thead>    <tr>        <th class=\"blank level0\" ></th>        <th class=\"col_heading level0 col0\" >Survived</th>        <th class=\"col_heading level0 col1\" >Pclass</th>        <th class=\"col_heading level0 col2\" >Age</th>        <th class=\"col_heading level0 col3\" >nb_siblings</th>        <th class=\"col_heading level0 col4\" >nb_parents</th>        <th class=\"col_heading level0 col5\" >Fare</th>        <th class=\"col_heading level0 col6\" >nb_family</th>        <th class=\"col_heading level0 col7\" >F0</th>        <th class=\"col_heading level0 col8\" >F1</th>    </tr></thead><tbody>\n",
       "                <tr>\n",
       "                        <th id=\"T_a8320_level0_row0\" class=\"row_heading level0 row0\" >Survived</th>\n",
       "                        <td id=\"T_a8320_row0_col0\" class=\"data row0 col0\" >1.000000</td>\n",
       "                        <td id=\"T_a8320_row0_col1\" class=\"data row0 col1\" >-0.338481</td>\n",
       "                        <td id=\"T_a8320_row0_col2\" class=\"data row0 col2\" >-0.077221</td>\n",
       "                        <td id=\"T_a8320_row0_col3\" class=\"data row0 col3\" >-0.035322</td>\n",
       "                        <td id=\"T_a8320_row0_col4\" class=\"data row0 col4\" >0.081629</td>\n",
       "                        <td id=\"T_a8320_row0_col5\" class=\"data row0 col5\" >0.317350</td>\n",
       "                        <td id=\"T_a8320_row0_col6\" class=\"data row0 col6\" >0.016639</td>\n",
       "                        <td id=\"T_a8320_row0_col7\" class=\"data row0 col7\" >-0.203367</td>\n",
       "                        <td id=\"T_a8320_row0_col8\" class=\"data row0 col8\" >0.279855</td>\n",
       "            </tr>\n",
       "            <tr>\n",
       "                        <th id=\"T_a8320_level0_row1\" class=\"row_heading level0 row1\" >Pclass</th>\n",
       "                        <td id=\"T_a8320_row1_col0\" class=\"data row1 col0\" >-0.338481</td>\n",
       "                        <td id=\"T_a8320_row1_col1\" class=\"data row1 col1\" >1.000000</td>\n",
       "                        <td id=\"T_a8320_row1_col2\" class=\"data row1 col2\" >-0.369226</td>\n",
       "                        <td id=\"T_a8320_row1_col3\" class=\"data row1 col3\" >0.083081</td>\n",
       "                        <td id=\"T_a8320_row1_col4\" class=\"data row1 col4\" >0.018443</td>\n",
       "                        <td id=\"T_a8320_row1_col5\" class=\"data row1 col5\" >-0.715103</td>\n",
       "                        <td id=\"T_a8320_row1_col6\" class=\"data row1 col6\" >0.065997</td>\n",
       "                        <td id=\"T_a8320_row1_col7\" class=\"data row1 col7\" >0.135207</td>\n",
       "                        <td id=\"T_a8320_row1_col8\" class=\"data row1 col8\" >-0.223551</td>\n",
       "            </tr>\n",
       "            <tr>\n",
       "                        <th id=\"T_a8320_level0_row2\" class=\"row_heading level0 row2\" >Age</th>\n",
       "                        <td id=\"T_a8320_row2_col0\" class=\"data row2 col0\" >-0.077221</td>\n",
       "                        <td id=\"T_a8320_row2_col1\" class=\"data row2 col1\" >-0.369226</td>\n",
       "                        <td id=\"T_a8320_row2_col2\" class=\"data row2 col2\" >1.000000</td>\n",
       "                        <td id=\"T_a8320_row2_col3\" class=\"data row2 col3\" >-0.308247</td>\n",
       "                        <td id=\"T_a8320_row2_col4\" class=\"data row2 col4\" >-0.189119</td>\n",
       "                        <td id=\"T_a8320_row2_col5\" class=\"data row2 col5\" >0.151967</td>\n",
       "                        <td id=\"T_a8320_row2_col6\" class=\"data row2 col6\" >-0.301914</td>\n",
       "                        <td id=\"T_a8320_row2_col7\" class=\"data row2 col7\" >0.198270</td>\n",
       "                        <td id=\"T_a8320_row2_col8\" class=\"data row2 col8\" >-0.083059</td>\n",
       "            </tr>\n",
       "            <tr>\n",
       "                        <th id=\"T_a8320_level0_row3\" class=\"row_heading level0 row3\" >nb_siblings</th>\n",
       "                        <td id=\"T_a8320_row3_col0\" class=\"data row3 col0\" >-0.035322</td>\n",
       "                        <td id=\"T_a8320_row3_col1\" class=\"data row3 col1\" >0.083081</td>\n",
       "                        <td id=\"T_a8320_row3_col2\" class=\"data row3 col2\" >-0.308247</td>\n",
       "                        <td id=\"T_a8320_row3_col3\" class=\"data row3 col3\" >1.000000</td>\n",
       "                        <td id=\"T_a8320_row3_col4\" class=\"data row3 col4\" >0.414838</td>\n",
       "                        <td id=\"T_a8320_row3_col5\" class=\"data row3 col5\" >0.331658</td>\n",
       "                        <td id=\"T_a8320_row3_col6\" class=\"data row3 col6\" >0.890712</td>\n",
       "                        <td id=\"T_a8320_row3_col7\" class=\"data row3 col7\" >-0.584471</td>\n",
       "                        <td id=\"T_a8320_row3_col8\" class=\"data row3 col8\" >0.213225</td>\n",
       "            </tr>\n",
       "            <tr>\n",
       "                        <th id=\"T_a8320_level0_row4\" class=\"row_heading level0 row4\" >nb_parents</th>\n",
       "                        <td id=\"T_a8320_row4_col0\" class=\"data row4 col0\" >0.081629</td>\n",
       "                        <td id=\"T_a8320_row4_col1\" class=\"data row4 col1\" >0.018443</td>\n",
       "                        <td id=\"T_a8320_row4_col2\" class=\"data row4 col2\" >-0.189119</td>\n",
       "                        <td id=\"T_a8320_row4_col3\" class=\"data row4 col3\" >0.414838</td>\n",
       "                        <td id=\"T_a8320_row4_col4\" class=\"data row4 col4\" >1.000000</td>\n",
       "                        <td id=\"T_a8320_row4_col5\" class=\"data row4 col5\" >0.292024</td>\n",
       "                        <td id=\"T_a8320_row4_col6\" class=\"data row4 col6\" >0.783111</td>\n",
       "                        <td id=\"T_a8320_row4_col7\" class=\"data row4 col7\" >-0.583398</td>\n",
       "                        <td id=\"T_a8320_row4_col8\" class=\"data row4 col8\" >0.265863</td>\n",
       "            </tr>\n",
       "            <tr>\n",
       "                        <th id=\"T_a8320_level0_row5\" class=\"row_heading level0 row5\" >Fare</th>\n",
       "                        <td id=\"T_a8320_row5_col0\" class=\"data row5 col0\" >0.317350</td>\n",
       "                        <td id=\"T_a8320_row5_col1\" class=\"data row5 col1\" >-0.715103</td>\n",
       "                        <td id=\"T_a8320_row5_col2\" class=\"data row5 col2\" >0.151967</td>\n",
       "                        <td id=\"T_a8320_row5_col3\" class=\"data row5 col3\" >0.331658</td>\n",
       "                        <td id=\"T_a8320_row5_col4\" class=\"data row5 col4\" >0.292024</td>\n",
       "                        <td id=\"T_a8320_row5_col5\" class=\"data row5 col5\" >1.000000</td>\n",
       "                        <td id=\"T_a8320_row5_col6\" class=\"data row5 col6\" >0.372567</td>\n",
       "                        <td id=\"T_a8320_row5_col7\" class=\"data row5 col7\" >-0.453557</td>\n",
       "                        <td id=\"T_a8320_row5_col8\" class=\"data row5 col8\" >0.366521</td>\n",
       "            </tr>\n",
       "            <tr>\n",
       "                        <th id=\"T_a8320_level0_row6\" class=\"row_heading level0 row6\" >nb_family</th>\n",
       "                        <td id=\"T_a8320_row6_col0\" class=\"data row6 col0\" >0.016639</td>\n",
       "                        <td id=\"T_a8320_row6_col1\" class=\"data row6 col1\" >0.065997</td>\n",
       "                        <td id=\"T_a8320_row6_col2\" class=\"data row6 col2\" >-0.301914</td>\n",
       "                        <td id=\"T_a8320_row6_col3\" class=\"data row6 col3\" >0.890712</td>\n",
       "                        <td id=\"T_a8320_row6_col4\" class=\"data row6 col4\" >0.783111</td>\n",
       "                        <td id=\"T_a8320_row6_col5\" class=\"data row6 col5\" >0.372567</td>\n",
       "                        <td id=\"T_a8320_row6_col6\" class=\"data row6 col6\" >1.000000</td>\n",
       "                        <td id=\"T_a8320_row6_col7\" class=\"data row6 col7\" >-0.690922</td>\n",
       "                        <td id=\"T_a8320_row6_col8\" class=\"data row6 col8\" >0.278553</td>\n",
       "            </tr>\n",
       "            <tr>\n",
       "                        <th id=\"T_a8320_level0_row7\" class=\"row_heading level0 row7\" >F0</th>\n",
       "                        <td id=\"T_a8320_row7_col0\" class=\"data row7 col0\" >-0.203367</td>\n",
       "                        <td id=\"T_a8320_row7_col1\" class=\"data row7 col1\" >0.135207</td>\n",
       "                        <td id=\"T_a8320_row7_col2\" class=\"data row7 col2\" >0.198270</td>\n",
       "                        <td id=\"T_a8320_row7_col3\" class=\"data row7 col3\" >-0.584471</td>\n",
       "                        <td id=\"T_a8320_row7_col4\" class=\"data row7 col4\" >-0.583398</td>\n",
       "                        <td id=\"T_a8320_row7_col5\" class=\"data row7 col5\" >-0.453557</td>\n",
       "                        <td id=\"T_a8320_row7_col6\" class=\"data row7 col6\" >-0.690922</td>\n",
       "                        <td id=\"T_a8320_row7_col7\" class=\"data row7 col7\" >1.000000</td>\n",
       "                        <td id=\"T_a8320_row7_col8\" class=\"data row7 col8\" >-0.859931</td>\n",
       "            </tr>\n",
       "            <tr>\n",
       "                        <th id=\"T_a8320_level0_row8\" class=\"row_heading level0 row8\" >F1</th>\n",
       "                        <td id=\"T_a8320_row8_col0\" class=\"data row8 col0\" >0.279855</td>\n",
       "                        <td id=\"T_a8320_row8_col1\" class=\"data row8 col1\" >-0.223551</td>\n",
       "                        <td id=\"T_a8320_row8_col2\" class=\"data row8 col2\" >-0.083059</td>\n",
       "                        <td id=\"T_a8320_row8_col3\" class=\"data row8 col3\" >0.213225</td>\n",
       "                        <td id=\"T_a8320_row8_col4\" class=\"data row8 col4\" >0.265863</td>\n",
       "                        <td id=\"T_a8320_row8_col5\" class=\"data row8 col5\" >0.366521</td>\n",
       "                        <td id=\"T_a8320_row8_col6\" class=\"data row8 col6\" >0.278553</td>\n",
       "                        <td id=\"T_a8320_row8_col7\" class=\"data row8 col7\" >-0.859931</td>\n",
       "                        <td id=\"T_a8320_row8_col8\" class=\"data row8 col8\" >1.000000</td>\n",
       "            </tr>\n",
       "    </tbody></table>"
      ],
      "text/plain": [
       "<pandas.io.formats.style.Styler at 0x18cc8613910>"
      ]
     },
     "execution_count": 42,
     "metadata": {},
     "output_type": "execute_result"
    }
   ],
   "source": [
    "corr = df.corr()\n",
    "corr.style.background_gradient(cmap='coolwarm')"
   ]
  },
  {
   "cell_type": "markdown",
   "id": "dc5c5b8e",
   "metadata": {},
   "source": [
    "#### Name :\n",
    "La variable Name contient une information imporante à savoir le titre honorifique des passagers (Mr, Major, Don ...). Après extraction des titres dans la colonne honorific on remarque les passagères ayant le titre Mrs ont le plus de chance de survie.\n"
   ]
  },
  {
   "cell_type": "code",
   "execution_count": 43,
   "id": "e8916d55",
   "metadata": {},
   "outputs": [],
   "source": [
    "#Création de la colonne honorific\n",
    "df['honorific'] = df['Name'].str.extract('(\\w*)\\.')"
   ]
  },
  {
   "cell_type": "code",
   "execution_count": 44,
   "id": "9b32632d",
   "metadata": {},
   "outputs": [
    {
     "data": {
      "text/plain": [
       "Mr          517\n",
       "Miss        182\n",
       "Mrs         125\n",
       "Master       40\n",
       "Dr            7\n",
       "Rev           6\n",
       "Col           2\n",
       "Major         2\n",
       "Mlle          2\n",
       "Lady          1\n",
       "Ms            1\n",
       "Jonkheer      1\n",
       "Don           1\n",
       "Mme           1\n",
       "Capt          1\n",
       "Countess      1\n",
       "Sir           1\n",
       "Name: honorific, dtype: int64"
      ]
     },
     "execution_count": 44,
     "metadata": {},
     "output_type": "execute_result"
    }
   ],
   "source": [
    "#Nombre de passagers par titre honorifique\n",
    "df.honorific.value_counts()"
   ]
  },
  {
   "cell_type": "code",
   "execution_count": 45,
   "id": "4b54d1c7",
   "metadata": {
    "scrolled": false
   },
   "outputs": [
    {
     "data": {
      "text/html": [
       "<div>\n",
       "<style scoped>\n",
       "    .dataframe tbody tr th:only-of-type {\n",
       "        vertical-align: middle;\n",
       "    }\n",
       "\n",
       "    .dataframe tbody tr th {\n",
       "        vertical-align: top;\n",
       "    }\n",
       "\n",
       "    .dataframe thead th {\n",
       "        text-align: right;\n",
       "    }\n",
       "</style>\n",
       "<table border=\"1\" class=\"dataframe\">\n",
       "  <thead>\n",
       "    <tr style=\"text-align: right;\">\n",
       "      <th></th>\n",
       "      <th>mean</th>\n",
       "      <th>count</th>\n",
       "    </tr>\n",
       "    <tr>\n",
       "      <th>honorific</th>\n",
       "      <th></th>\n",
       "      <th></th>\n",
       "    </tr>\n",
       "  </thead>\n",
       "  <tbody>\n",
       "    <tr>\n",
       "      <th>Mr</th>\n",
       "      <td>0.156673</td>\n",
       "      <td>517</td>\n",
       "    </tr>\n",
       "    <tr>\n",
       "      <th>Miss</th>\n",
       "      <td>0.697802</td>\n",
       "      <td>182</td>\n",
       "    </tr>\n",
       "    <tr>\n",
       "      <th>Mrs</th>\n",
       "      <td>0.792000</td>\n",
       "      <td>125</td>\n",
       "    </tr>\n",
       "    <tr>\n",
       "      <th>Master</th>\n",
       "      <td>0.575000</td>\n",
       "      <td>40</td>\n",
       "    </tr>\n",
       "    <tr>\n",
       "      <th>Dr</th>\n",
       "      <td>0.428571</td>\n",
       "      <td>7</td>\n",
       "    </tr>\n",
       "    <tr>\n",
       "      <th>Rev</th>\n",
       "      <td>0.000000</td>\n",
       "      <td>6</td>\n",
       "    </tr>\n",
       "    <tr>\n",
       "      <th>Major</th>\n",
       "      <td>0.500000</td>\n",
       "      <td>2</td>\n",
       "    </tr>\n",
       "    <tr>\n",
       "      <th>Col</th>\n",
       "      <td>0.500000</td>\n",
       "      <td>2</td>\n",
       "    </tr>\n",
       "    <tr>\n",
       "      <th>Mlle</th>\n",
       "      <td>1.000000</td>\n",
       "      <td>2</td>\n",
       "    </tr>\n",
       "    <tr>\n",
       "      <th>Mme</th>\n",
       "      <td>1.000000</td>\n",
       "      <td>1</td>\n",
       "    </tr>\n",
       "    <tr>\n",
       "      <th>Ms</th>\n",
       "      <td>1.000000</td>\n",
       "      <td>1</td>\n",
       "    </tr>\n",
       "    <tr>\n",
       "      <th>Capt</th>\n",
       "      <td>0.000000</td>\n",
       "      <td>1</td>\n",
       "    </tr>\n",
       "    <tr>\n",
       "      <th>Lady</th>\n",
       "      <td>1.000000</td>\n",
       "      <td>1</td>\n",
       "    </tr>\n",
       "    <tr>\n",
       "      <th>Jonkheer</th>\n",
       "      <td>0.000000</td>\n",
       "      <td>1</td>\n",
       "    </tr>\n",
       "    <tr>\n",
       "      <th>Don</th>\n",
       "      <td>0.000000</td>\n",
       "      <td>1</td>\n",
       "    </tr>\n",
       "    <tr>\n",
       "      <th>Countess</th>\n",
       "      <td>1.000000</td>\n",
       "      <td>1</td>\n",
       "    </tr>\n",
       "    <tr>\n",
       "      <th>Sir</th>\n",
       "      <td>1.000000</td>\n",
       "      <td>1</td>\n",
       "    </tr>\n",
       "  </tbody>\n",
       "</table>\n",
       "</div>"
      ],
      "text/plain": [
       "               mean  count\n",
       "honorific                 \n",
       "Mr         0.156673    517\n",
       "Miss       0.697802    182\n",
       "Mrs        0.792000    125\n",
       "Master     0.575000     40\n",
       "Dr         0.428571      7\n",
       "Rev        0.000000      6\n",
       "Major      0.500000      2\n",
       "Col        0.500000      2\n",
       "Mlle       1.000000      2\n",
       "Mme        1.000000      1\n",
       "Ms         1.000000      1\n",
       "Capt       0.000000      1\n",
       "Lady       1.000000      1\n",
       "Jonkheer   0.000000      1\n",
       "Don        0.000000      1\n",
       "Countess   1.000000      1\n",
       "Sir        1.000000      1"
      ]
     },
     "execution_count": 45,
     "metadata": {},
     "output_type": "execute_result"
    }
   ],
   "source": [
    "#On regarde la moyenne d'age de chaque titre honorifique\n",
    "df.groupby(['honorific'])['Survived'].agg(['mean','count']).sort_values(by='count', ascending = False)"
   ]
  },
  {
   "cell_type": "code",
   "execution_count": 46,
   "id": "08c5dcfc",
   "metadata": {},
   "outputs": [],
   "source": [
    "#On garde le top 4 des titres honorifiques les plus fréquents, tout en remplaçant 'Mlle' et 'Ms' par 'Miss', 'Mme' par 'Mrs'\n",
    "#et en remplaçant les autres titres par 'high_status'\n",
    "fr_honorifics = ['Mr','Miss','Mrs','Master']\n",
    "high_status = ['Countess','Sir','Lady','Don','Rev','Major','Jonkheer','Col','Capt','Dr']\n",
    "df['honorific'] = df['honorific'].map(lambda x : 'Miss' if x in ['Mlle','Ms'] else x)\n",
    "df['honorific'] = df['honorific'].map(lambda x : 'Mrs' if x=='Mme' else x)\n",
    "df['honorific'] = df['honorific'].map(lambda x : 'high_status' if x in high_status else x)"
   ]
  },
  {
   "cell_type": "code",
   "execution_count": 47,
   "id": "af4218d9",
   "metadata": {},
   "outputs": [
    {
     "data": {
      "text/html": [
       "<div>\n",
       "<style scoped>\n",
       "    .dataframe tbody tr th:only-of-type {\n",
       "        vertical-align: middle;\n",
       "    }\n",
       "\n",
       "    .dataframe tbody tr th {\n",
       "        vertical-align: top;\n",
       "    }\n",
       "\n",
       "    .dataframe thead th {\n",
       "        text-align: right;\n",
       "    }\n",
       "</style>\n",
       "<table border=\"1\" class=\"dataframe\">\n",
       "  <thead>\n",
       "    <tr style=\"text-align: right;\">\n",
       "      <th></th>\n",
       "      <th>count</th>\n",
       "    </tr>\n",
       "    <tr>\n",
       "      <th>honorific</th>\n",
       "      <th></th>\n",
       "    </tr>\n",
       "  </thead>\n",
       "  <tbody>\n",
       "    <tr>\n",
       "      <th>Master</th>\n",
       "      <td>40</td>\n",
       "    </tr>\n",
       "    <tr>\n",
       "      <th>Miss</th>\n",
       "      <td>185</td>\n",
       "    </tr>\n",
       "    <tr>\n",
       "      <th>Mr</th>\n",
       "      <td>517</td>\n",
       "    </tr>\n",
       "    <tr>\n",
       "      <th>Mrs</th>\n",
       "      <td>126</td>\n",
       "    </tr>\n",
       "    <tr>\n",
       "      <th>high_status</th>\n",
       "      <td>23</td>\n",
       "    </tr>\n",
       "  </tbody>\n",
       "</table>\n",
       "</div>"
      ],
      "text/plain": [
       "             count\n",
       "honorific         \n",
       "Master          40\n",
       "Miss           185\n",
       "Mr             517\n",
       "Mrs            126\n",
       "high_status     23"
      ]
     },
     "execution_count": 47,
     "metadata": {},
     "output_type": "execute_result"
    }
   ],
   "source": [
    "df.groupby(['honorific'])['honorific'].agg(['count'])"
   ]
  },
  {
   "cell_type": "code",
   "execution_count": 48,
   "id": "69d77073",
   "metadata": {},
   "outputs": [
    {
     "data": {
      "text/plain": [
       "<AxesSubplot:xlabel='honorific', ylabel='Survived'>"
      ]
     },
     "execution_count": 48,
     "metadata": {},
     "output_type": "execute_result"
    },
    {
     "data": {
      "image/png": "[encoded data removed]",
      "text/plain": [
       "<Figure size 432x288 with 1 Axes>"
      ]
     },
     "metadata": {
      "needs_background": "light"
     },
     "output_type": "display_data"
    }
   ],
   "source": [
    "sns.barplot(x=\"honorific\",y=\"Survived\",data=df)"
   ]
  },
  {
   "cell_type": "markdown",
   "id": "71e6b6c7",
   "metadata": {},
   "source": [
    "#### Age :\n",
    "- La colonne Age contient des valeurs extrêmes, cependant la distribution est symétrique et semblable à une loi normale.\n",
    "- Les passagers de moins de 14 ans avait plus de chance de survie, tandis que ceux ayant plus de 60 ans en avait moins \n",
    "- On remarque que 'Pclass', 'honorific' et F0 sont corrélés avec l'age des passagers. On remplace les valeaurs d'Age manquantes en prenant les moyennes sur ces colonnes.\n"
   ]
  },
  {
   "cell_type": "code",
   "execution_count": 49,
   "id": "a21bc80d",
   "metadata": {},
   "outputs": [
    {
     "data": {
      "image/png": "[encoded data removed]",
      "text/plain": [
       "<Figure size 432x288 with 1 Axes>"
      ]
     },
     "metadata": {
      "needs_background": "light"
     },
     "output_type": "display_data"
    }
   ],
   "source": [
    "sns.boxplot(x = 'Age', data = df)\n",
    "plt.show()"
   ]
  },
  {
   "cell_type": "code",
   "execution_count": 50,
   "id": "0ac2f700",
   "metadata": {},
   "outputs": [
    {
     "data": {
      "image/png": "[encoded data removed]",
      "text/plain": [
       "<Figure size 483.875x216 with 1 Axes>"
      ]
     },
     "metadata": {
      "needs_background": "light"
     },
     "output_type": "display_data"
    }
   ],
   "source": [
    "\n",
    "grid = sns.FacetGrid(df, hue=\"Survived\",aspect=2, xlim=(0, df['Age'].max()))\n",
    "grid.map(sns.kdeplot,'Age',shade= True)\n",
    "grid.fig.suptitle('Distribution de Age selon Survived')\n",
    "grid.add_legend()\n",
    "plt.show()"
   ]
  },
  {
   "cell_type": "code",
   "execution_count": 51,
   "id": "971fd7c7",
   "metadata": {},
   "outputs": [
    {
     "data": {
      "text/plain": [
       "<seaborn.axisgrid.FacetGrid at 0x18cc86c3730>"
      ]
     },
     "execution_count": 51,
     "metadata": {},
     "output_type": "execute_result"
    },
    {
     "data": {
      "image/png": "[encoded data removed]",
      "text/plain": [
       "<Figure size 360x360 with 1 Axes>"
      ]
     },
     "metadata": {
      "needs_background": "light"
     },
     "output_type": "display_data"
    }
   ],
   "source": [
    "sns.displot(data=df, x=\"Age\", kind ='kde')"
   ]
  },
  {
   "cell_type": "code",
   "execution_count": 52,
   "id": "9ecf3fb8",
   "metadata": {},
   "outputs": [
    {
     "data": {
      "text/plain": [
       "0.38910778230082704"
      ]
     },
     "execution_count": 52,
     "metadata": {},
     "output_type": "execute_result"
    }
   ],
   "source": [
    "df['Age'].skew()"
   ]
  },
  {
   "cell_type": "code",
   "execution_count": 53,
   "id": "5d9110a5",
   "metadata": {},
   "outputs": [
    {
     "data": {
      "image/png": "[encoded data removed]",
      "text/plain": [
       "<Figure size 474.375x216 with 1 Axes>"
      ]
     },
     "metadata": {
      "needs_background": "light"
     },
     "output_type": "display_data"
    }
   ],
   "source": [
    "grid = sns.FacetGrid(df, hue=\"Pclass\",aspect=2, xlim=(0, df['Age'].max()))\n",
    "grid.map(sns.kdeplot,'Age',shade= True)\n",
    "grid.fig.suptitle('Distribution de Age selon Pclass')\n",
    "grid.add_legend()\n",
    "plt.show()"
   ]
  },
  {
   "cell_type": "code",
   "execution_count": 54,
   "id": "65445e38",
   "metadata": {},
   "outputs": [
    {
     "data": {
      "image/png": "[encoded data removed]",
      "text/plain": [
       "<Figure size 475.75x216 with 1 Axes>"
      ]
     },
     "metadata": {
      "needs_background": "light"
     },
     "output_type": "display_data"
    }
   ],
   "source": [
    "grid = sns.FacetGrid(df, hue=\"Station\",aspect=2, xlim=(0, df['Age'].max()))\n",
    "grid.map(sns.kdeplot,'Age',shade= True)\n",
    "grid.fig.suptitle('Distribution de Age selon Station')\n",
    "grid.add_legend()\n",
    "plt.show()"
   ]
  },
  {
   "cell_type": "code",
   "execution_count": 55,
   "id": "ec6ead4d",
   "metadata": {},
   "outputs": [
    {
     "data": {
      "image/png": "[encoded data removed]",
      "text/plain": [
       "<Figure size 525.75x216 with 1 Axes>"
      ]
     },
     "metadata": {
      "needs_background": "light"
     },
     "output_type": "display_data"
    }
   ],
   "source": [
    "grid = sns.FacetGrid(df, hue=\"honorific\",aspect=2, xlim=(0, df['Age'].max()))\n",
    "grid.map(sns.kdeplot,'Age',shade= True)\n",
    "grid.fig.suptitle('Distribution de Age selon honorific')\n",
    "grid.add_legend()\n",
    "plt.show()"
   ]
  },
  {
   "cell_type": "code",
   "execution_count": 56,
   "id": "d6008537",
   "metadata": {},
   "outputs": [
    {
     "data": {
      "image/png": "[encoded data removed]",
      "text/plain": [
       "<Figure size 484x216 with 1 Axes>"
      ]
     },
     "metadata": {
      "needs_background": "light"
     },
     "output_type": "display_data"
    }
   ],
   "source": [
    "grid = sns.FacetGrid(df, hue=\"F0\",aspect=2)\n",
    "grid.map(sns.kdeplot,'Age',shade= True)\n",
    "grid.fig.suptitle('Distribution de Age selon F0')\n",
    "grid.add_legend()\n",
    "plt.show()"
   ]
  },
  {
   "cell_type": "code",
   "execution_count": 57,
   "id": "605c0409",
   "metadata": {},
   "outputs": [
    {
     "data": {
      "text/html": [
       "<div>\n",
       "<style scoped>\n",
       "    .dataframe tbody tr th:only-of-type {\n",
       "        vertical-align: middle;\n",
       "    }\n",
       "\n",
       "    .dataframe tbody tr th {\n",
       "        vertical-align: top;\n",
       "    }\n",
       "\n",
       "    .dataframe thead th {\n",
       "        text-align: right;\n",
       "    }\n",
       "</style>\n",
       "<table border=\"1\" class=\"dataframe\">\n",
       "  <thead>\n",
       "    <tr style=\"text-align: right;\">\n",
       "      <th></th>\n",
       "      <th></th>\n",
       "      <th>mean</th>\n",
       "      <th>count</th>\n",
       "    </tr>\n",
       "    <tr>\n",
       "      <th>honorific</th>\n",
       "      <th>Pclass</th>\n",
       "      <th></th>\n",
       "      <th></th>\n",
       "    </tr>\n",
       "  </thead>\n",
       "  <tbody>\n",
       "    <tr>\n",
       "      <th rowspan=\"3\" valign=\"top\">Master</th>\n",
       "      <th>1</th>\n",
       "      <td>5.306667</td>\n",
       "      <td>3</td>\n",
       "    </tr>\n",
       "    <tr>\n",
       "      <th>2</th>\n",
       "      <td>2.258889</td>\n",
       "      <td>9</td>\n",
       "    </tr>\n",
       "    <tr>\n",
       "      <th>3</th>\n",
       "      <td>5.350833</td>\n",
       "      <td>24</td>\n",
       "    </tr>\n",
       "    <tr>\n",
       "      <th rowspan=\"3\" valign=\"top\">Miss</th>\n",
       "      <th>1</th>\n",
       "      <td>29.744681</td>\n",
       "      <td>47</td>\n",
       "    </tr>\n",
       "    <tr>\n",
       "      <th>2</th>\n",
       "      <td>22.560606</td>\n",
       "      <td>33</td>\n",
       "    </tr>\n",
       "    <tr>\n",
       "      <th>3</th>\n",
       "      <td>16.123188</td>\n",
       "      <td>69</td>\n",
       "    </tr>\n",
       "    <tr>\n",
       "      <th rowspan=\"3\" valign=\"top\">Mr</th>\n",
       "      <th>1</th>\n",
       "      <td>41.580460</td>\n",
       "      <td>87</td>\n",
       "    </tr>\n",
       "    <tr>\n",
       "      <th>2</th>\n",
       "      <td>32.768293</td>\n",
       "      <td>82</td>\n",
       "    </tr>\n",
       "    <tr>\n",
       "      <th>3</th>\n",
       "      <td>28.724891</td>\n",
       "      <td>229</td>\n",
       "    </tr>\n",
       "    <tr>\n",
       "      <th rowspan=\"3\" valign=\"top\">Mrs</th>\n",
       "      <th>1</th>\n",
       "      <td>40.400000</td>\n",
       "      <td>35</td>\n",
       "    </tr>\n",
       "    <tr>\n",
       "      <th>2</th>\n",
       "      <td>33.682927</td>\n",
       "      <td>41</td>\n",
       "    </tr>\n",
       "    <tr>\n",
       "      <th>3</th>\n",
       "      <td>33.515152</td>\n",
       "      <td>33</td>\n",
       "    </tr>\n",
       "    <tr>\n",
       "      <th rowspan=\"2\" valign=\"top\">high_status</th>\n",
       "      <th>1</th>\n",
       "      <td>47.571429</td>\n",
       "      <td>14</td>\n",
       "    </tr>\n",
       "    <tr>\n",
       "      <th>2</th>\n",
       "      <td>42.000000</td>\n",
       "      <td>8</td>\n",
       "    </tr>\n",
       "  </tbody>\n",
       "</table>\n",
       "</div>"
      ],
      "text/plain": [
       "                         mean  count\n",
       "honorific   Pclass                  \n",
       "Master      1        5.306667      3\n",
       "            2        2.258889      9\n",
       "            3        5.350833     24\n",
       "Miss        1       29.744681     47\n",
       "            2       22.560606     33\n",
       "            3       16.123188     69\n",
       "Mr          1       41.580460     87\n",
       "            2       32.768293     82\n",
       "            3       28.724891    229\n",
       "Mrs         1       40.400000     35\n",
       "            2       33.682927     41\n",
       "            3       33.515152     33\n",
       "high_status 1       47.571429     14\n",
       "            2       42.000000      8"
      ]
     },
     "execution_count": 57,
     "metadata": {},
     "output_type": "execute_result"
    }
   ],
   "source": [
    "#La moyenne d'age par classe et titre honorifique\n",
    "df.groupby(['honorific','Pclass'])['Age'].agg(['mean', 'count'])"
   ]
  },
  {
   "cell_type": "code",
   "execution_count": 58,
   "id": "5c5c96b4",
   "metadata": {},
   "outputs": [
    {
     "data": {
      "text/html": [
       "<div>\n",
       "<style scoped>\n",
       "    .dataframe tbody tr th:only-of-type {\n",
       "        vertical-align: middle;\n",
       "    }\n",
       "\n",
       "    .dataframe tbody tr th {\n",
       "        vertical-align: top;\n",
       "    }\n",
       "\n",
       "    .dataframe thead th {\n",
       "        text-align: right;\n",
       "    }\n",
       "</style>\n",
       "<table border=\"1\" class=\"dataframe\">\n",
       "  <thead>\n",
       "    <tr style=\"text-align: right;\">\n",
       "      <th></th>\n",
       "      <th></th>\n",
       "      <th>mean</th>\n",
       "      <th>count</th>\n",
       "    </tr>\n",
       "    <tr>\n",
       "      <th>honorific</th>\n",
       "      <th>F0</th>\n",
       "      <th></th>\n",
       "      <th></th>\n",
       "    </tr>\n",
       "  </thead>\n",
       "  <tbody>\n",
       "    <tr>\n",
       "      <th>Master</th>\n",
       "      <th>0.0</th>\n",
       "      <td>4.574167</td>\n",
       "      <td>36</td>\n",
       "    </tr>\n",
       "    <tr>\n",
       "      <th rowspan=\"2\" valign=\"top\">Miss</th>\n",
       "      <th>0.0</th>\n",
       "      <td>14.926471</td>\n",
       "      <td>68</td>\n",
       "    </tr>\n",
       "    <tr>\n",
       "      <th>1.0</th>\n",
       "      <td>27.654321</td>\n",
       "      <td>81</td>\n",
       "    </tr>\n",
       "    <tr>\n",
       "      <th rowspan=\"2\" valign=\"top\">Mr</th>\n",
       "      <th>0.0</th>\n",
       "      <td>32.313084</td>\n",
       "      <td>107</td>\n",
       "    </tr>\n",
       "    <tr>\n",
       "      <th>1.0</th>\n",
       "      <td>32.388316</td>\n",
       "      <td>291</td>\n",
       "    </tr>\n",
       "    <tr>\n",
       "      <th rowspan=\"2\" valign=\"top\">Mrs</th>\n",
       "      <th>0.0</th>\n",
       "      <td>34.869565</td>\n",
       "      <td>92</td>\n",
       "    </tr>\n",
       "    <tr>\n",
       "      <th>1.0</th>\n",
       "      <td>40.764706</td>\n",
       "      <td>17</td>\n",
       "    </tr>\n",
       "    <tr>\n",
       "      <th rowspan=\"2\" valign=\"top\">high_status</th>\n",
       "      <th>0.0</th>\n",
       "      <td>49.000000</td>\n",
       "      <td>7</td>\n",
       "    </tr>\n",
       "    <tr>\n",
       "      <th>1.0</th>\n",
       "      <td>43.933333</td>\n",
       "      <td>15</td>\n",
       "    </tr>\n",
       "  </tbody>\n",
       "</table>\n",
       "</div>"
      ],
      "text/plain": [
       "                      mean  count\n",
       "honorific   F0                   \n",
       "Master      0.0   4.574167     36\n",
       "Miss        0.0  14.926471     68\n",
       "            1.0  27.654321     81\n",
       "Mr          0.0  32.313084    107\n",
       "            1.0  32.388316    291\n",
       "Mrs         0.0  34.869565     92\n",
       "            1.0  40.764706     17\n",
       "high_status 0.0  49.000000      7\n",
       "            1.0  43.933333     15"
      ]
     },
     "execution_count": 58,
     "metadata": {},
     "output_type": "execute_result"
    }
   ],
   "source": [
    "#la mooyenne d'age par F0 et titre honrifique :\n",
    "df.groupby(['honorific','F0'])['Age'].agg(['mean', 'count'])"
   ]
  },
  {
   "cell_type": "markdown",
   "id": "739fb757",
   "metadata": {},
   "source": [
    "F0 influe fortement sur l'age des des jeunes femmes non mariées. "
   ]
  },
  {
   "cell_type": "code",
   "execution_count": 59,
   "id": "3d3206e7",
   "metadata": {},
   "outputs": [
    {
     "data": {
      "text/html": [
       "<div>\n",
       "<style scoped>\n",
       "    .dataframe tbody tr th:only-of-type {\n",
       "        vertical-align: middle;\n",
       "    }\n",
       "\n",
       "    .dataframe tbody tr th {\n",
       "        vertical-align: top;\n",
       "    }\n",
       "\n",
       "    .dataframe thead th {\n",
       "        text-align: right;\n",
       "    }\n",
       "</style>\n",
       "<table border=\"1\" class=\"dataframe\">\n",
       "  <thead>\n",
       "    <tr style=\"text-align: right;\">\n",
       "      <th></th>\n",
       "      <th></th>\n",
       "      <th></th>\n",
       "      <th>mean</th>\n",
       "      <th>count</th>\n",
       "    </tr>\n",
       "    <tr>\n",
       "      <th>honorific</th>\n",
       "      <th>Pclass</th>\n",
       "      <th>F0</th>\n",
       "      <th></th>\n",
       "      <th></th>\n",
       "    </tr>\n",
       "  </thead>\n",
       "  <tbody>\n",
       "    <tr>\n",
       "      <th rowspan=\"6\" valign=\"top\">Miss</th>\n",
       "      <th rowspan=\"2\" valign=\"top\">1</th>\n",
       "      <th>0.0</th>\n",
       "      <td>25.714286</td>\n",
       "      <td>21</td>\n",
       "    </tr>\n",
       "    <tr>\n",
       "      <th>1.0</th>\n",
       "      <td>33.000000</td>\n",
       "      <td>26</td>\n",
       "    </tr>\n",
       "    <tr>\n",
       "      <th rowspan=\"2\" valign=\"top\">2</th>\n",
       "      <th>0.0</th>\n",
       "      <td>11.714286</td>\n",
       "      <td>14</td>\n",
       "    </tr>\n",
       "    <tr>\n",
       "      <th>1.0</th>\n",
       "      <td>30.552632</td>\n",
       "      <td>19</td>\n",
       "    </tr>\n",
       "    <tr>\n",
       "      <th rowspan=\"2\" valign=\"top\">3</th>\n",
       "      <th>0.0</th>\n",
       "      <td>9.424242</td>\n",
       "      <td>33</td>\n",
       "    </tr>\n",
       "    <tr>\n",
       "      <th>1.0</th>\n",
       "      <td>22.263889</td>\n",
       "      <td>36</td>\n",
       "    </tr>\n",
       "  </tbody>\n",
       "</table>\n",
       "</div>"
      ],
      "text/plain": [
       "                           mean  count\n",
       "honorific Pclass F0                   \n",
       "Miss      1      0.0  25.714286     21\n",
       "                 1.0  33.000000     26\n",
       "          2      0.0  11.714286     14\n",
       "                 1.0  30.552632     19\n",
       "          3      0.0   9.424242     33\n",
       "                 1.0  22.263889     36"
      ]
     },
     "execution_count": 59,
     "metadata": {},
     "output_type": "execute_result"
    }
   ],
   "source": [
    "df[(df.honorific == 'Miss')].groupby(['honorific','Pclass','F0'])['Age'].agg(['mean', 'count'])"
   ]
  },
  {
   "cell_type": "code",
   "execution_count": 60,
   "id": "87502d24",
   "metadata": {},
   "outputs": [],
   "source": [
    "#Remplacement des valeurs manquantes\n",
    "df.loc[(df.Age.isnull())&(df.honorific=='Master')&((df.Pclass==1)|(df.Pclass==3)),'Age'] = 5\n",
    "df.loc[(df.Age.isnull())&(df.honorific=='Master')&(df.Pclass==2),'Age'] = 2\n",
    "df.loc[(df.Age.isnull())&(df.honorific=='Mr')&(df.Pclass==1),'Age'] = 42\n",
    "df.loc[(df.Age.isnull())&(df.honorific=='Mr')&(df.Pclass==2),'Age'] = 33\n",
    "df.loc[(df.Age.isnull())&(df.honorific=='Mr')&(df.Pclass==3),'Age'] = 29\n",
    "df.loc[(df.Age.isnull())&(df.honorific=='Mrs')&(df.Pclass==1),'Age'] = 40\n",
    "df.loc[(df.Age.isnull())&(df.honorific=='Mrs')&((df.Pclass==2)|(df.Pclass==3)),'Age'] = 34\n",
    "df.loc[(df.Age.isnull())&(df.honorific=='high_status')&(df.Pclass==1),'Age'] = 48\n",
    "df.loc[(df.Age.isnull())&(df.honorific=='high_status')&(df.Pclass==2),'Age'] = 42\n",
    "\n",
    "df.loc[(df.Age.isnull())&(df.honorific=='Miss')&(df.Pclass==1)&(df.F0==0),'Age'] = 33\n",
    "df.loc[(df.Age.isnull())&(df.honorific=='Miss')&(df.Pclass==1)&(df.F0==1),'Age'] = 26\n",
    "df.loc[(df.Age.isnull())&(df.honorific=='Miss')&(df.Pclass==2)&(df.F0==0),'Age'] = 31\n",
    "df.loc[(df.Age.isnull())&(df.honorific=='Miss')&(df.Pclass==2)&(df.F0==1),'Age'] = 12\n",
    "df.loc[(df.Age.isnull())&(df.honorific=='Miss')&(df.Pclass==3)&(df.F0==0),'Age'] = 22\n",
    "df.loc[(df.Age.isnull())&(df.honorific=='Miss')&(df.Pclass==3)&(df.F0==1),'Age'] = 9"
   ]
  },
  {
   "cell_type": "code",
   "execution_count": 61,
   "id": "887f68ec",
   "metadata": {},
   "outputs": [
    {
     "data": {
      "text/plain": [
       "Survived       0\n",
       "Pclass         0\n",
       "Name           0\n",
       "Sex            0\n",
       "Age            0\n",
       "nb_siblings    0\n",
       "nb_parents     0\n",
       "Fare           0\n",
       "Station        0\n",
       "nb_family      0\n",
       "F0             0\n",
       "F1             0\n",
       "honorific      0\n",
       "dtype: int64"
      ]
     },
     "execution_count": 61,
     "metadata": {},
     "output_type": "execute_result"
    }
   ],
   "source": [
    "df.isnull().sum()"
   ]
  },
  {
   "cell_type": "code",
   "execution_count": 62,
   "id": "bbfccdf5",
   "metadata": {},
   "outputs": [
    {
     "data": {
      "text/html": [
       "<style  type=\"text/css\" >\n",
       "#T_233fd_row0_col0,#T_233fd_row1_col1,#T_233fd_row2_col2,#T_233fd_row3_col3,#T_233fd_row4_col4,#T_233fd_row5_col5,#T_233fd_row6_col6,#T_233fd_row7_col7,#T_233fd_row8_col8{\n",
       "            background-color:  #b40426;\n",
       "            color:  #f1f1f1;\n",
       "        }#T_233fd_row0_col1,#T_233fd_row0_col2{\n",
       "            background-color:  #82a6fb;\n",
       "            color:  #000000;\n",
       "        }#T_233fd_row0_col3{\n",
       "            background-color:  #aec9fc;\n",
       "            color:  #000000;\n",
       "        }#T_233fd_row0_col4,#T_233fd_row0_col6,#T_233fd_row1_col3{\n",
       "            background-color:  #c6d6f1;\n",
       "            color:  #000000;\n",
       "        }#T_233fd_row0_col5,#T_233fd_row4_col8{\n",
       "            background-color:  #f2cab5;\n",
       "            color:  #000000;\n",
       "        }#T_233fd_row0_col7{\n",
       "            background-color:  #b1cbfc;\n",
       "            color:  #000000;\n",
       "        }#T_233fd_row0_col8,#T_233fd_row3_col5,#T_233fd_row6_col8{\n",
       "            background-color:  #f3c8b2;\n",
       "            color:  #000000;\n",
       "        }#T_233fd_row1_col0,#T_233fd_row1_col2,#T_233fd_row1_col5,#T_233fd_row5_col1,#T_233fd_row7_col3,#T_233fd_row7_col4,#T_233fd_row7_col6,#T_233fd_row7_col8,#T_233fd_row8_col7{\n",
       "            background-color:  #3b4cc0;\n",
       "            color:  #f1f1f1;\n",
       "        }#T_233fd_row1_col4{\n",
       "            background-color:  #bad0f8;\n",
       "            color:  #000000;\n",
       "        }#T_233fd_row1_col6{\n",
       "            background-color:  #cedaeb;\n",
       "            color:  #000000;\n",
       "        }#T_233fd_row1_col7{\n",
       "            background-color:  #e5d8d1;\n",
       "            color:  #000000;\n",
       "        }#T_233fd_row1_col8{\n",
       "            background-color:  #adc9fd;\n",
       "            color:  #000000;\n",
       "        }#T_233fd_row2_col0{\n",
       "            background-color:  #7699f6;\n",
       "            color:  #000000;\n",
       "        }#T_233fd_row2_col1{\n",
       "            background-color:  #7597f6;\n",
       "            color:  #000000;\n",
       "        }#T_233fd_row2_col3{\n",
       "            background-color:  #7ea1fa;\n",
       "            color:  #000000;\n",
       "        }#T_233fd_row2_col4{\n",
       "            background-color:  #8fb1fe;\n",
       "            color:  #000000;\n",
       "        }#T_233fd_row2_col5{\n",
       "            background-color:  #e1dad6;\n",
       "            color:  #000000;\n",
       "        }#T_233fd_row2_col6{\n",
       "            background-color:  #8db0fe;\n",
       "            color:  #000000;\n",
       "        }#T_233fd_row2_col7,#T_233fd_row5_col4{\n",
       "            background-color:  #ead5c9;\n",
       "            color:  #000000;\n",
       "        }#T_233fd_row2_col8{\n",
       "            background-color:  #cad8ef;\n",
       "            color:  #000000;\n",
       "        }#T_233fd_row3_col0{\n",
       "            background-color:  #84a7fc;\n",
       "            color:  #000000;\n",
       "        }#T_233fd_row3_col1{\n",
       "            background-color:  #d4dbe6;\n",
       "            color:  #000000;\n",
       "        }#T_233fd_row3_col2{\n",
       "            background-color:  #5a78e4;\n",
       "            color:  #000000;\n",
       "        }#T_233fd_row3_col4,#T_233fd_row4_col3,#T_233fd_row5_col6,#T_233fd_row8_col5{\n",
       "            background-color:  #f5c2aa;\n",
       "            color:  #000000;\n",
       "        }#T_233fd_row3_col6{\n",
       "            background-color:  #cb3e38;\n",
       "            color:  #f1f1f1;\n",
       "        }#T_233fd_row3_col7{\n",
       "            background-color:  #688aef;\n",
       "            color:  #000000;\n",
       "        }#T_233fd_row3_col8{\n",
       "            background-color:  #eed0c0;\n",
       "            color:  #000000;\n",
       "        }#T_233fd_row4_col0{\n",
       "            background-color:  #a3c2fe;\n",
       "            color:  #000000;\n",
       "        }#T_233fd_row4_col1{\n",
       "            background-color:  #c9d7f0;\n",
       "            color:  #000000;\n",
       "        }#T_233fd_row4_col2{\n",
       "            background-color:  #6c8ff1;\n",
       "            color:  #000000;\n",
       "        }#T_233fd_row4_col5{\n",
       "            background-color:  #f0cdbb;\n",
       "            color:  #000000;\n",
       "        }#T_233fd_row4_col6{\n",
       "            background-color:  #de614d;\n",
       "            color:  #000000;\n",
       "        }#T_233fd_row4_col7{\n",
       "            background-color:  #6a8bef;\n",
       "            color:  #000000;\n",
       "        }#T_233fd_row5_col0{\n",
       "            background-color:  #dadce0;\n",
       "            color:  #000000;\n",
       "        }#T_233fd_row5_col2,#T_233fd_row7_col2{\n",
       "            background-color:  #c3d5f4;\n",
       "            color:  #000000;\n",
       "        }#T_233fd_row5_col3{\n",
       "            background-color:  #efcfbf;\n",
       "            color:  #000000;\n",
       "        }#T_233fd_row5_col7{\n",
       "            background-color:  #81a4fb;\n",
       "            color:  #000000;\n",
       "        }#T_233fd_row5_col8{\n",
       "            background-color:  #f7ba9f;\n",
       "            color:  #000000;\n",
       "        }#T_233fd_row6_col0{\n",
       "            background-color:  #92b4fe;\n",
       "            color:  #000000;\n",
       "        }#T_233fd_row6_col1{\n",
       "            background-color:  #d1dae9;\n",
       "            color:  #000000;\n",
       "        }#T_233fd_row6_col2,#T_233fd_row7_col0{\n",
       "            background-color:  #5977e3;\n",
       "            color:  #000000;\n",
       "        }#T_233fd_row6_col3{\n",
       "            background-color:  #cc403a;\n",
       "            color:  #f1f1f1;\n",
       "        }#T_233fd_row6_col4{\n",
       "            background-color:  #e16751;\n",
       "            color:  #000000;\n",
       "        }#T_233fd_row6_col5{\n",
       "            background-color:  #f5c1a9;\n",
       "            color:  #000000;\n",
       "        }#T_233fd_row6_col7{\n",
       "            background-color:  #5673e0;\n",
       "            color:  #000000;\n",
       "        }#T_233fd_row7_col1{\n",
       "            background-color:  #dbdcde;\n",
       "            color:  #000000;\n",
       "        }#T_233fd_row7_col5{\n",
       "            background-color:  #6b8df0;\n",
       "            color:  #000000;\n",
       "        }#T_233fd_row8_col0{\n",
       "            background-color:  #d3dbe7;\n",
       "            color:  #000000;\n",
       "        }#T_233fd_row8_col1{\n",
       "            background-color:  #9abbff;\n",
       "            color:  #000000;\n",
       "        }#T_233fd_row8_col2{\n",
       "            background-color:  #8badfd;\n",
       "            color:  #000000;\n",
       "        }#T_233fd_row8_col3{\n",
       "            background-color:  #dddcdc;\n",
       "            color:  #000000;\n",
       "        }#T_233fd_row8_col4{\n",
       "            background-color:  #e6d7cf;\n",
       "            color:  #000000;\n",
       "        }#T_233fd_row8_col6{\n",
       "            background-color:  #edd1c2;\n",
       "            color:  #000000;\n",
       "        }</style><table id=\"T_233fd_\" ><thead>    <tr>        <th class=\"blank level0\" ></th>        <th class=\"col_heading level0 col0\" >Survived</th>        <th class=\"col_heading level0 col1\" >Pclass</th>        <th class=\"col_heading level0 col2\" >Age</th>        <th class=\"col_heading level0 col3\" >nb_siblings</th>        <th class=\"col_heading level0 col4\" >nb_parents</th>        <th class=\"col_heading level0 col5\" >Fare</th>        <th class=\"col_heading level0 col6\" >nb_family</th>        <th class=\"col_heading level0 col7\" >F0</th>        <th class=\"col_heading level0 col8\" >F1</th>    </tr></thead><tbody>\n",
       "                <tr>\n",
       "                        <th id=\"T_233fd_level0_row0\" class=\"row_heading level0 row0\" >Survived</th>\n",
       "                        <td id=\"T_233fd_row0_col0\" class=\"data row0 col0\" >1.000000</td>\n",
       "                        <td id=\"T_233fd_row0_col1\" class=\"data row0 col1\" >-0.338481</td>\n",
       "                        <td id=\"T_233fd_row0_col2\" class=\"data row0 col2\" >-0.089084</td>\n",
       "                        <td id=\"T_233fd_row0_col3\" class=\"data row0 col3\" >-0.035322</td>\n",
       "                        <td id=\"T_233fd_row0_col4\" class=\"data row0 col4\" >0.081629</td>\n",
       "                        <td id=\"T_233fd_row0_col5\" class=\"data row0 col5\" >0.317350</td>\n",
       "                        <td id=\"T_233fd_row0_col6\" class=\"data row0 col6\" >0.016639</td>\n",
       "                        <td id=\"T_233fd_row0_col7\" class=\"data row0 col7\" >-0.203367</td>\n",
       "                        <td id=\"T_233fd_row0_col8\" class=\"data row0 col8\" >0.279855</td>\n",
       "            </tr>\n",
       "            <tr>\n",
       "                        <th id=\"T_233fd_level0_row1\" class=\"row_heading level0 row1\" >Pclass</th>\n",
       "                        <td id=\"T_233fd_row1_col0\" class=\"data row1 col0\" >-0.338481</td>\n",
       "                        <td id=\"T_233fd_row1_col1\" class=\"data row1 col1\" >1.000000</td>\n",
       "                        <td id=\"T_233fd_row1_col2\" class=\"data row1 col2\" >-0.400777</td>\n",
       "                        <td id=\"T_233fd_row1_col3\" class=\"data row1 col3\" >0.083081</td>\n",
       "                        <td id=\"T_233fd_row1_col4\" class=\"data row1 col4\" >0.018443</td>\n",
       "                        <td id=\"T_233fd_row1_col5\" class=\"data row1 col5\" >-0.715103</td>\n",
       "                        <td id=\"T_233fd_row1_col6\" class=\"data row1 col6\" >0.065997</td>\n",
       "                        <td id=\"T_233fd_row1_col7\" class=\"data row1 col7\" >0.135207</td>\n",
       "                        <td id=\"T_233fd_row1_col8\" class=\"data row1 col8\" >-0.223551</td>\n",
       "            </tr>\n",
       "            <tr>\n",
       "                        <th id=\"T_233fd_level0_row2\" class=\"row_heading level0 row2\" >Age</th>\n",
       "                        <td id=\"T_233fd_row2_col0\" class=\"data row2 col0\" >-0.089084</td>\n",
       "                        <td id=\"T_233fd_row2_col1\" class=\"data row2 col1\" >-0.400777</td>\n",
       "                        <td id=\"T_233fd_row2_col2\" class=\"data row2 col2\" >1.000000</td>\n",
       "                        <td id=\"T_233fd_row2_col3\" class=\"data row2 col3\" >-0.253056</td>\n",
       "                        <td id=\"T_233fd_row2_col4\" class=\"data row2 col4\" >-0.180291</td>\n",
       "                        <td id=\"T_233fd_row2_col5\" class=\"data row2 col5\" >0.171712</td>\n",
       "                        <td id=\"T_233fd_row2_col6\" class=\"data row2 col6\" >-0.263025</td>\n",
       "                        <td id=\"T_233fd_row2_col7\" class=\"data row2 col7\" >0.171315</td>\n",
       "                        <td id=\"T_233fd_row2_col8\" class=\"data row2 col8\" >-0.059394</td>\n",
       "            </tr>\n",
       "            <tr>\n",
       "                        <th id=\"T_233fd_level0_row3\" class=\"row_heading level0 row3\" >nb_siblings</th>\n",
       "                        <td id=\"T_233fd_row3_col0\" class=\"data row3 col0\" >-0.035322</td>\n",
       "                        <td id=\"T_233fd_row3_col1\" class=\"data row3 col1\" >0.083081</td>\n",
       "                        <td id=\"T_233fd_row3_col2\" class=\"data row3 col2\" >-0.253056</td>\n",
       "                        <td id=\"T_233fd_row3_col3\" class=\"data row3 col3\" >1.000000</td>\n",
       "                        <td id=\"T_233fd_row3_col4\" class=\"data row3 col4\" >0.414838</td>\n",
       "                        <td id=\"T_233fd_row3_col5\" class=\"data row3 col5\" >0.331658</td>\n",
       "                        <td id=\"T_233fd_row3_col6\" class=\"data row3 col6\" >0.890712</td>\n",
       "                        <td id=\"T_233fd_row3_col7\" class=\"data row3 col7\" >-0.584471</td>\n",
       "                        <td id=\"T_233fd_row3_col8\" class=\"data row3 col8\" >0.213225</td>\n",
       "            </tr>\n",
       "            <tr>\n",
       "                        <th id=\"T_233fd_level0_row4\" class=\"row_heading level0 row4\" >nb_parents</th>\n",
       "                        <td id=\"T_233fd_row4_col0\" class=\"data row4 col0\" >0.081629</td>\n",
       "                        <td id=\"T_233fd_row4_col1\" class=\"data row4 col1\" >0.018443</td>\n",
       "                        <td id=\"T_233fd_row4_col2\" class=\"data row4 col2\" >-0.180291</td>\n",
       "                        <td id=\"T_233fd_row4_col3\" class=\"data row4 col3\" >0.414838</td>\n",
       "                        <td id=\"T_233fd_row4_col4\" class=\"data row4 col4\" >1.000000</td>\n",
       "                        <td id=\"T_233fd_row4_col5\" class=\"data row4 col5\" >0.292024</td>\n",
       "                        <td id=\"T_233fd_row4_col6\" class=\"data row4 col6\" >0.783111</td>\n",
       "                        <td id=\"T_233fd_row4_col7\" class=\"data row4 col7\" >-0.583398</td>\n",
       "                        <td id=\"T_233fd_row4_col8\" class=\"data row4 col8\" >0.265863</td>\n",
       "            </tr>\n",
       "            <tr>\n",
       "                        <th id=\"T_233fd_level0_row5\" class=\"row_heading level0 row5\" >Fare</th>\n",
       "                        <td id=\"T_233fd_row5_col0\" class=\"data row5 col0\" >0.317350</td>\n",
       "                        <td id=\"T_233fd_row5_col1\" class=\"data row5 col1\" >-0.715103</td>\n",
       "                        <td id=\"T_233fd_row5_col2\" class=\"data row5 col2\" >0.171712</td>\n",
       "                        <td id=\"T_233fd_row5_col3\" class=\"data row5 col3\" >0.331658</td>\n",
       "                        <td id=\"T_233fd_row5_col4\" class=\"data row5 col4\" >0.292024</td>\n",
       "                        <td id=\"T_233fd_row5_col5\" class=\"data row5 col5\" >1.000000</td>\n",
       "                        <td id=\"T_233fd_row5_col6\" class=\"data row5 col6\" >0.372567</td>\n",
       "                        <td id=\"T_233fd_row5_col7\" class=\"data row5 col7\" >-0.453557</td>\n",
       "                        <td id=\"T_233fd_row5_col8\" class=\"data row5 col8\" >0.366521</td>\n",
       "            </tr>\n",
       "            <tr>\n",
       "                        <th id=\"T_233fd_level0_row6\" class=\"row_heading level0 row6\" >nb_family</th>\n",
       "                        <td id=\"T_233fd_row6_col0\" class=\"data row6 col0\" >0.016639</td>\n",
       "                        <td id=\"T_233fd_row6_col1\" class=\"data row6 col1\" >0.065997</td>\n",
       "                        <td id=\"T_233fd_row6_col2\" class=\"data row6 col2\" >-0.263025</td>\n",
       "                        <td id=\"T_233fd_row6_col3\" class=\"data row6 col3\" >0.890712</td>\n",
       "                        <td id=\"T_233fd_row6_col4\" class=\"data row6 col4\" >0.783111</td>\n",
       "                        <td id=\"T_233fd_row6_col5\" class=\"data row6 col5\" >0.372567</td>\n",
       "                        <td id=\"T_233fd_row6_col6\" class=\"data row6 col6\" >1.000000</td>\n",
       "                        <td id=\"T_233fd_row6_col7\" class=\"data row6 col7\" >-0.690922</td>\n",
       "                        <td id=\"T_233fd_row6_col8\" class=\"data row6 col8\" >0.278553</td>\n",
       "            </tr>\n",
       "            <tr>\n",
       "                        <th id=\"T_233fd_level0_row7\" class=\"row_heading level0 row7\" >F0</th>\n",
       "                        <td id=\"T_233fd_row7_col0\" class=\"data row7 col0\" >-0.203367</td>\n",
       "                        <td id=\"T_233fd_row7_col1\" class=\"data row7 col1\" >0.135207</td>\n",
       "                        <td id=\"T_233fd_row7_col2\" class=\"data row7 col2\" >0.171315</td>\n",
       "                        <td id=\"T_233fd_row7_col3\" class=\"data row7 col3\" >-0.584471</td>\n",
       "                        <td id=\"T_233fd_row7_col4\" class=\"data row7 col4\" >-0.583398</td>\n",
       "                        <td id=\"T_233fd_row7_col5\" class=\"data row7 col5\" >-0.453557</td>\n",
       "                        <td id=\"T_233fd_row7_col6\" class=\"data row7 col6\" >-0.690922</td>\n",
       "                        <td id=\"T_233fd_row7_col7\" class=\"data row7 col7\" >1.000000</td>\n",
       "                        <td id=\"T_233fd_row7_col8\" class=\"data row7 col8\" >-0.859931</td>\n",
       "            </tr>\n",
       "            <tr>\n",
       "                        <th id=\"T_233fd_level0_row8\" class=\"row_heading level0 row8\" >F1</th>\n",
       "                        <td id=\"T_233fd_row8_col0\" class=\"data row8 col0\" >0.279855</td>\n",
       "                        <td id=\"T_233fd_row8_col1\" class=\"data row8 col1\" >-0.223551</td>\n",
       "                        <td id=\"T_233fd_row8_col2\" class=\"data row8 col2\" >-0.059394</td>\n",
       "                        <td id=\"T_233fd_row8_col3\" class=\"data row8 col3\" >0.213225</td>\n",
       "                        <td id=\"T_233fd_row8_col4\" class=\"data row8 col4\" >0.265863</td>\n",
       "                        <td id=\"T_233fd_row8_col5\" class=\"data row8 col5\" >0.366521</td>\n",
       "                        <td id=\"T_233fd_row8_col6\" class=\"data row8 col6\" >0.278553</td>\n",
       "                        <td id=\"T_233fd_row8_col7\" class=\"data row8 col7\" >-0.859931</td>\n",
       "                        <td id=\"T_233fd_row8_col8\" class=\"data row8 col8\" >1.000000</td>\n",
       "            </tr>\n",
       "    </tbody></table>"
      ],
      "text/plain": [
       "<pandas.io.formats.style.Styler at 0x18cc88b2940>"
      ]
     },
     "execution_count": 62,
     "metadata": {},
     "output_type": "execute_result"
    }
   ],
   "source": [
    "corr = df.corr()\n",
    "corr.style.background_gradient(cmap='coolwarm')"
   ]
  },
  {
   "cell_type": "code",
   "execution_count": 63,
   "id": "7d837909",
   "metadata": {},
   "outputs": [],
   "source": [
    "#Suppression des colonnes \n",
    "df.drop(['Name','nb_siblings','nb_parents','nb_family'], axis=1, inplace = True)"
   ]
  },
  {
   "cell_type": "code",
   "execution_count": 64,
   "id": "c70bc912",
   "metadata": {},
   "outputs": [],
   "source": [
    "#df.drop('F1', axis=1, inplace = True)"
   ]
  },
  {
   "cell_type": "markdown",
   "id": "225d7c0f",
   "metadata": {},
   "source": [
    "### Transformation des données :\n",
    "On transforme les valeurs Str en numériques. Pour les colonnes Station et honorific on utilise la technique du 'One Hot Encoding'."
   ]
  },
  {
   "cell_type": "markdown",
   "id": "d0ef6d91",
   "metadata": {},
   "source": [
    "#### Sex :"
   ]
  },
  {
   "cell_type": "code",
   "execution_count": 65,
   "id": "a7752e45",
   "metadata": {},
   "outputs": [],
   "source": [
    "df['Sex'] = df['Sex'].map(lambda x : 0 if x=='male' else 1)"
   ]
  },
  {
   "cell_type": "code",
   "execution_count": 66,
   "id": "1eaacee3",
   "metadata": {},
   "outputs": [
    {
     "data": {
      "text/html": [
       "<div>\n",
       "<style scoped>\n",
       "    .dataframe tbody tr th:only-of-type {\n",
       "        vertical-align: middle;\n",
       "    }\n",
       "\n",
       "    .dataframe tbody tr th {\n",
       "        vertical-align: top;\n",
       "    }\n",
       "\n",
       "    .dataframe thead th {\n",
       "        text-align: right;\n",
       "    }\n",
       "</style>\n",
       "<table border=\"1\" class=\"dataframe\">\n",
       "  <thead>\n",
       "    <tr style=\"text-align: right;\">\n",
       "      <th></th>\n",
       "      <th>Survived</th>\n",
       "      <th>Pclass</th>\n",
       "      <th>Sex</th>\n",
       "      <th>Age</th>\n",
       "      <th>Fare</th>\n",
       "      <th>Station</th>\n",
       "      <th>F0</th>\n",
       "      <th>F1</th>\n",
       "      <th>honorific</th>\n",
       "    </tr>\n",
       "  </thead>\n",
       "  <tbody>\n",
       "    <tr>\n",
       "      <th>0</th>\n",
       "      <td>0</td>\n",
       "      <td>3</td>\n",
       "      <td>0</td>\n",
       "      <td>22.0</td>\n",
       "      <td>7.250</td>\n",
       "      <td>S</td>\n",
       "      <td>0.0</td>\n",
       "      <td>1.0</td>\n",
       "      <td>Mr</td>\n",
       "    </tr>\n",
       "    <tr>\n",
       "      <th>1</th>\n",
       "      <td>1</td>\n",
       "      <td>1</td>\n",
       "      <td>1</td>\n",
       "      <td>38.0</td>\n",
       "      <td>66.000</td>\n",
       "      <td>C</td>\n",
       "      <td>0.0</td>\n",
       "      <td>1.0</td>\n",
       "      <td>Mrs</td>\n",
       "    </tr>\n",
       "    <tr>\n",
       "      <th>2</th>\n",
       "      <td>1</td>\n",
       "      <td>3</td>\n",
       "      <td>1</td>\n",
       "      <td>26.0</td>\n",
       "      <td>7.925</td>\n",
       "      <td>S</td>\n",
       "      <td>1.0</td>\n",
       "      <td>0.0</td>\n",
       "      <td>Miss</td>\n",
       "    </tr>\n",
       "    <tr>\n",
       "      <th>3</th>\n",
       "      <td>1</td>\n",
       "      <td>1</td>\n",
       "      <td>1</td>\n",
       "      <td>35.0</td>\n",
       "      <td>53.100</td>\n",
       "      <td>S</td>\n",
       "      <td>0.0</td>\n",
       "      <td>1.0</td>\n",
       "      <td>Mrs</td>\n",
       "    </tr>\n",
       "    <tr>\n",
       "      <th>4</th>\n",
       "      <td>0</td>\n",
       "      <td>3</td>\n",
       "      <td>0</td>\n",
       "      <td>35.0</td>\n",
       "      <td>8.050</td>\n",
       "      <td>S</td>\n",
       "      <td>1.0</td>\n",
       "      <td>0.0</td>\n",
       "      <td>Mr</td>\n",
       "    </tr>\n",
       "    <tr>\n",
       "      <th>...</th>\n",
       "      <td>...</td>\n",
       "      <td>...</td>\n",
       "      <td>...</td>\n",
       "      <td>...</td>\n",
       "      <td>...</td>\n",
       "      <td>...</td>\n",
       "      <td>...</td>\n",
       "      <td>...</td>\n",
       "      <td>...</td>\n",
       "    </tr>\n",
       "    <tr>\n",
       "      <th>886</th>\n",
       "      <td>0</td>\n",
       "      <td>2</td>\n",
       "      <td>0</td>\n",
       "      <td>27.0</td>\n",
       "      <td>13.000</td>\n",
       "      <td>S</td>\n",
       "      <td>1.0</td>\n",
       "      <td>0.0</td>\n",
       "      <td>high_status</td>\n",
       "    </tr>\n",
       "    <tr>\n",
       "      <th>887</th>\n",
       "      <td>1</td>\n",
       "      <td>1</td>\n",
       "      <td>1</td>\n",
       "      <td>19.0</td>\n",
       "      <td>30.000</td>\n",
       "      <td>S</td>\n",
       "      <td>1.0</td>\n",
       "      <td>0.0</td>\n",
       "      <td>Miss</td>\n",
       "    </tr>\n",
       "    <tr>\n",
       "      <th>888</th>\n",
       "      <td>0</td>\n",
       "      <td>3</td>\n",
       "      <td>1</td>\n",
       "      <td>22.0</td>\n",
       "      <td>23.450</td>\n",
       "      <td>S</td>\n",
       "      <td>0.0</td>\n",
       "      <td>1.0</td>\n",
       "      <td>Miss</td>\n",
       "    </tr>\n",
       "    <tr>\n",
       "      <th>889</th>\n",
       "      <td>1</td>\n",
       "      <td>1</td>\n",
       "      <td>0</td>\n",
       "      <td>26.0</td>\n",
       "      <td>30.000</td>\n",
       "      <td>C</td>\n",
       "      <td>1.0</td>\n",
       "      <td>0.0</td>\n",
       "      <td>Mr</td>\n",
       "    </tr>\n",
       "    <tr>\n",
       "      <th>890</th>\n",
       "      <td>0</td>\n",
       "      <td>3</td>\n",
       "      <td>0</td>\n",
       "      <td>32.0</td>\n",
       "      <td>7.750</td>\n",
       "      <td>Q</td>\n",
       "      <td>1.0</td>\n",
       "      <td>0.0</td>\n",
       "      <td>Mr</td>\n",
       "    </tr>\n",
       "  </tbody>\n",
       "</table>\n",
       "<p>891 rows × 9 columns</p>\n",
       "</div>"
      ],
      "text/plain": [
       "     Survived  Pclass  Sex   Age    Fare Station   F0   F1    honorific\n",
       "0           0       3    0  22.0   7.250       S  0.0  1.0           Mr\n",
       "1           1       1    1  38.0  66.000       C  0.0  1.0          Mrs\n",
       "2           1       3    1  26.0   7.925       S  1.0  0.0         Miss\n",
       "3           1       1    1  35.0  53.100       S  0.0  1.0          Mrs\n",
       "4           0       3    0  35.0   8.050       S  1.0  0.0           Mr\n",
       "..        ...     ...  ...   ...     ...     ...  ...  ...          ...\n",
       "886         0       2    0  27.0  13.000       S  1.0  0.0  high_status\n",
       "887         1       1    1  19.0  30.000       S  1.0  0.0         Miss\n",
       "888         0       3    1  22.0  23.450       S  0.0  1.0         Miss\n",
       "889         1       1    0  26.0  30.000       C  1.0  0.0           Mr\n",
       "890         0       3    0  32.0   7.750       Q  1.0  0.0           Mr\n",
       "\n",
       "[891 rows x 9 columns]"
      ]
     },
     "execution_count": 66,
     "metadata": {},
     "output_type": "execute_result"
    }
   ],
   "source": [
    "df"
   ]
  },
  {
   "cell_type": "markdown",
   "id": "37eaa217",
   "metadata": {},
   "source": [
    "### One hot encoding :"
   ]
  },
  {
   "cell_type": "markdown",
   "id": "3c0aa723",
   "metadata": {},
   "source": [
    "#### Station :"
   ]
  },
  {
   "cell_type": "code",
   "execution_count": 67,
   "id": "168f0d5e",
   "metadata": {},
   "outputs": [
    {
     "data": {
      "text/html": [
       "<div>\n",
       "<style scoped>\n",
       "    .dataframe tbody tr th:only-of-type {\n",
       "        vertical-align: middle;\n",
       "    }\n",
       "\n",
       "    .dataframe tbody tr th {\n",
       "        vertical-align: top;\n",
       "    }\n",
       "\n",
       "    .dataframe thead th {\n",
       "        text-align: right;\n",
       "    }\n",
       "</style>\n",
       "<table border=\"1\" class=\"dataframe\">\n",
       "  <thead>\n",
       "    <tr style=\"text-align: right;\">\n",
       "      <th></th>\n",
       "      <th>C</th>\n",
       "      <th>Q</th>\n",
       "      <th>S</th>\n",
       "    </tr>\n",
       "  </thead>\n",
       "  <tbody>\n",
       "    <tr>\n",
       "      <th>0</th>\n",
       "      <td>0</td>\n",
       "      <td>0</td>\n",
       "      <td>1</td>\n",
       "    </tr>\n",
       "    <tr>\n",
       "      <th>1</th>\n",
       "      <td>1</td>\n",
       "      <td>0</td>\n",
       "      <td>0</td>\n",
       "    </tr>\n",
       "    <tr>\n",
       "      <th>2</th>\n",
       "      <td>0</td>\n",
       "      <td>0</td>\n",
       "      <td>1</td>\n",
       "    </tr>\n",
       "    <tr>\n",
       "      <th>3</th>\n",
       "      <td>0</td>\n",
       "      <td>0</td>\n",
       "      <td>1</td>\n",
       "    </tr>\n",
       "    <tr>\n",
       "      <th>4</th>\n",
       "      <td>0</td>\n",
       "      <td>0</td>\n",
       "      <td>1</td>\n",
       "    </tr>\n",
       "    <tr>\n",
       "      <th>...</th>\n",
       "      <td>...</td>\n",
       "      <td>...</td>\n",
       "      <td>...</td>\n",
       "    </tr>\n",
       "    <tr>\n",
       "      <th>886</th>\n",
       "      <td>0</td>\n",
       "      <td>0</td>\n",
       "      <td>1</td>\n",
       "    </tr>\n",
       "    <tr>\n",
       "      <th>887</th>\n",
       "      <td>0</td>\n",
       "      <td>0</td>\n",
       "      <td>1</td>\n",
       "    </tr>\n",
       "    <tr>\n",
       "      <th>888</th>\n",
       "      <td>0</td>\n",
       "      <td>0</td>\n",
       "      <td>1</td>\n",
       "    </tr>\n",
       "    <tr>\n",
       "      <th>889</th>\n",
       "      <td>1</td>\n",
       "      <td>0</td>\n",
       "      <td>0</td>\n",
       "    </tr>\n",
       "    <tr>\n",
       "      <th>890</th>\n",
       "      <td>0</td>\n",
       "      <td>1</td>\n",
       "      <td>0</td>\n",
       "    </tr>\n",
       "  </tbody>\n",
       "</table>\n",
       "<p>891 rows × 3 columns</p>\n",
       "</div>"
      ],
      "text/plain": [
       "     C  Q  S\n",
       "0    0  0  1\n",
       "1    1  0  0\n",
       "2    0  0  1\n",
       "3    0  0  1\n",
       "4    0  0  1\n",
       "..  .. .. ..\n",
       "886  0  0  1\n",
       "887  0  0  1\n",
       "888  0  0  1\n",
       "889  1  0  0\n",
       "890  0  1  0\n",
       "\n",
       "[891 rows x 3 columns]"
      ]
     },
     "execution_count": 67,
     "metadata": {},
     "output_type": "execute_result"
    }
   ],
   "source": [
    "dummies = pd.get_dummies(df.Station)\n",
    "dummies"
   ]
  },
  {
   "cell_type": "code",
   "execution_count": 68,
   "id": "dee38385",
   "metadata": {},
   "outputs": [],
   "source": [
    "df = pd.concat([df,dummies],axis=1)"
   ]
  },
  {
   "cell_type": "code",
   "execution_count": 69,
   "id": "b9ba3911",
   "metadata": {},
   "outputs": [],
   "source": [
    "df.drop('Station', axis = 1, inplace = True)"
   ]
  },
  {
   "cell_type": "code",
   "execution_count": 70,
   "id": "8d95882b",
   "metadata": {},
   "outputs": [],
   "source": [
    "#On supprime une des 3 colonnes créés puisque toute l'information peut être stockés dans deux colonnes (Si Q=0 et C =0 alors S =1)\n",
    "df.drop('S', axis = 1, inplace = True)"
   ]
  },
  {
   "cell_type": "code",
   "execution_count": 71,
   "id": "8a5fd883",
   "metadata": {},
   "outputs": [
    {
     "data": {
      "text/html": [
       "<div>\n",
       "<style scoped>\n",
       "    .dataframe tbody tr th:only-of-type {\n",
       "        vertical-align: middle;\n",
       "    }\n",
       "\n",
       "    .dataframe tbody tr th {\n",
       "        vertical-align: top;\n",
       "    }\n",
       "\n",
       "    .dataframe thead th {\n",
       "        text-align: right;\n",
       "    }\n",
       "</style>\n",
       "<table border=\"1\" class=\"dataframe\">\n",
       "  <thead>\n",
       "    <tr style=\"text-align: right;\">\n",
       "      <th></th>\n",
       "      <th>Survived</th>\n",
       "      <th>Pclass</th>\n",
       "      <th>Sex</th>\n",
       "      <th>Age</th>\n",
       "      <th>Fare</th>\n",
       "      <th>F0</th>\n",
       "      <th>F1</th>\n",
       "      <th>honorific</th>\n",
       "      <th>C</th>\n",
       "      <th>Q</th>\n",
       "    </tr>\n",
       "  </thead>\n",
       "  <tbody>\n",
       "    <tr>\n",
       "      <th>0</th>\n",
       "      <td>0</td>\n",
       "      <td>3</td>\n",
       "      <td>0</td>\n",
       "      <td>22.0</td>\n",
       "      <td>7.250</td>\n",
       "      <td>0.0</td>\n",
       "      <td>1.0</td>\n",
       "      <td>Mr</td>\n",
       "      <td>0</td>\n",
       "      <td>0</td>\n",
       "    </tr>\n",
       "    <tr>\n",
       "      <th>1</th>\n",
       "      <td>1</td>\n",
       "      <td>1</td>\n",
       "      <td>1</td>\n",
       "      <td>38.0</td>\n",
       "      <td>66.000</td>\n",
       "      <td>0.0</td>\n",
       "      <td>1.0</td>\n",
       "      <td>Mrs</td>\n",
       "      <td>1</td>\n",
       "      <td>0</td>\n",
       "    </tr>\n",
       "    <tr>\n",
       "      <th>2</th>\n",
       "      <td>1</td>\n",
       "      <td>3</td>\n",
       "      <td>1</td>\n",
       "      <td>26.0</td>\n",
       "      <td>7.925</td>\n",
       "      <td>1.0</td>\n",
       "      <td>0.0</td>\n",
       "      <td>Miss</td>\n",
       "      <td>0</td>\n",
       "      <td>0</td>\n",
       "    </tr>\n",
       "    <tr>\n",
       "      <th>3</th>\n",
       "      <td>1</td>\n",
       "      <td>1</td>\n",
       "      <td>1</td>\n",
       "      <td>35.0</td>\n",
       "      <td>53.100</td>\n",
       "      <td>0.0</td>\n",
       "      <td>1.0</td>\n",
       "      <td>Mrs</td>\n",
       "      <td>0</td>\n",
       "      <td>0</td>\n",
       "    </tr>\n",
       "    <tr>\n",
       "      <th>4</th>\n",
       "      <td>0</td>\n",
       "      <td>3</td>\n",
       "      <td>0</td>\n",
       "      <td>35.0</td>\n",
       "      <td>8.050</td>\n",
       "      <td>1.0</td>\n",
       "      <td>0.0</td>\n",
       "      <td>Mr</td>\n",
       "      <td>0</td>\n",
       "      <td>0</td>\n",
       "    </tr>\n",
       "    <tr>\n",
       "      <th>...</th>\n",
       "      <td>...</td>\n",
       "      <td>...</td>\n",
       "      <td>...</td>\n",
       "      <td>...</td>\n",
       "      <td>...</td>\n",
       "      <td>...</td>\n",
       "      <td>...</td>\n",
       "      <td>...</td>\n",
       "      <td>...</td>\n",
       "      <td>...</td>\n",
       "    </tr>\n",
       "    <tr>\n",
       "      <th>886</th>\n",
       "      <td>0</td>\n",
       "      <td>2</td>\n",
       "      <td>0</td>\n",
       "      <td>27.0</td>\n",
       "      <td>13.000</td>\n",
       "      <td>1.0</td>\n",
       "      <td>0.0</td>\n",
       "      <td>high_status</td>\n",
       "      <td>0</td>\n",
       "      <td>0</td>\n",
       "    </tr>\n",
       "    <tr>\n",
       "      <th>887</th>\n",
       "      <td>1</td>\n",
       "      <td>1</td>\n",
       "      <td>1</td>\n",
       "      <td>19.0</td>\n",
       "      <td>30.000</td>\n",
       "      <td>1.0</td>\n",
       "      <td>0.0</td>\n",
       "      <td>Miss</td>\n",
       "      <td>0</td>\n",
       "      <td>0</td>\n",
       "    </tr>\n",
       "    <tr>\n",
       "      <th>888</th>\n",
       "      <td>0</td>\n",
       "      <td>3</td>\n",
       "      <td>1</td>\n",
       "      <td>22.0</td>\n",
       "      <td>23.450</td>\n",
       "      <td>0.0</td>\n",
       "      <td>1.0</td>\n",
       "      <td>Miss</td>\n",
       "      <td>0</td>\n",
       "      <td>0</td>\n",
       "    </tr>\n",
       "    <tr>\n",
       "      <th>889</th>\n",
       "      <td>1</td>\n",
       "      <td>1</td>\n",
       "      <td>0</td>\n",
       "      <td>26.0</td>\n",
       "      <td>30.000</td>\n",
       "      <td>1.0</td>\n",
       "      <td>0.0</td>\n",
       "      <td>Mr</td>\n",
       "      <td>1</td>\n",
       "      <td>0</td>\n",
       "    </tr>\n",
       "    <tr>\n",
       "      <th>890</th>\n",
       "      <td>0</td>\n",
       "      <td>3</td>\n",
       "      <td>0</td>\n",
       "      <td>32.0</td>\n",
       "      <td>7.750</td>\n",
       "      <td>1.0</td>\n",
       "      <td>0.0</td>\n",
       "      <td>Mr</td>\n",
       "      <td>0</td>\n",
       "      <td>1</td>\n",
       "    </tr>\n",
       "  </tbody>\n",
       "</table>\n",
       "<p>891 rows × 10 columns</p>\n",
       "</div>"
      ],
      "text/plain": [
       "     Survived  Pclass  Sex   Age    Fare   F0   F1    honorific  C  Q\n",
       "0           0       3    0  22.0   7.250  0.0  1.0           Mr  0  0\n",
       "1           1       1    1  38.0  66.000  0.0  1.0          Mrs  1  0\n",
       "2           1       3    1  26.0   7.925  1.0  0.0         Miss  0  0\n",
       "3           1       1    1  35.0  53.100  0.0  1.0          Mrs  0  0\n",
       "4           0       3    0  35.0   8.050  1.0  0.0           Mr  0  0\n",
       "..        ...     ...  ...   ...     ...  ...  ...          ... .. ..\n",
       "886         0       2    0  27.0  13.000  1.0  0.0  high_status  0  0\n",
       "887         1       1    1  19.0  30.000  1.0  0.0         Miss  0  0\n",
       "888         0       3    1  22.0  23.450  0.0  1.0         Miss  0  0\n",
       "889         1       1    0  26.0  30.000  1.0  0.0           Mr  1  0\n",
       "890         0       3    0  32.0   7.750  1.0  0.0           Mr  0  1\n",
       "\n",
       "[891 rows x 10 columns]"
      ]
     },
     "execution_count": 71,
     "metadata": {},
     "output_type": "execute_result"
    }
   ],
   "source": [
    "df"
   ]
  },
  {
   "cell_type": "markdown",
   "id": "fbd8445e",
   "metadata": {},
   "source": [
    "#### honorific :"
   ]
  },
  {
   "cell_type": "code",
   "execution_count": 72,
   "id": "51845a22",
   "metadata": {},
   "outputs": [
    {
     "data": {
      "text/html": [
       "<div>\n",
       "<style scoped>\n",
       "    .dataframe tbody tr th:only-of-type {\n",
       "        vertical-align: middle;\n",
       "    }\n",
       "\n",
       "    .dataframe tbody tr th {\n",
       "        vertical-align: top;\n",
       "    }\n",
       "\n",
       "    .dataframe thead th {\n",
       "        text-align: right;\n",
       "    }\n",
       "</style>\n",
       "<table border=\"1\" class=\"dataframe\">\n",
       "  <thead>\n",
       "    <tr style=\"text-align: right;\">\n",
       "      <th></th>\n",
       "      <th>Master</th>\n",
       "      <th>Miss</th>\n",
       "      <th>Mr</th>\n",
       "      <th>Mrs</th>\n",
       "      <th>high_status</th>\n",
       "    </tr>\n",
       "  </thead>\n",
       "  <tbody>\n",
       "    <tr>\n",
       "      <th>0</th>\n",
       "      <td>0</td>\n",
       "      <td>0</td>\n",
       "      <td>1</td>\n",
       "      <td>0</td>\n",
       "      <td>0</td>\n",
       "    </tr>\n",
       "    <tr>\n",
       "      <th>1</th>\n",
       "      <td>0</td>\n",
       "      <td>0</td>\n",
       "      <td>0</td>\n",
       "      <td>1</td>\n",
       "      <td>0</td>\n",
       "    </tr>\n",
       "    <tr>\n",
       "      <th>2</th>\n",
       "      <td>0</td>\n",
       "      <td>1</td>\n",
       "      <td>0</td>\n",
       "      <td>0</td>\n",
       "      <td>0</td>\n",
       "    </tr>\n",
       "    <tr>\n",
       "      <th>3</th>\n",
       "      <td>0</td>\n",
       "      <td>0</td>\n",
       "      <td>0</td>\n",
       "      <td>1</td>\n",
       "      <td>0</td>\n",
       "    </tr>\n",
       "    <tr>\n",
       "      <th>4</th>\n",
       "      <td>0</td>\n",
       "      <td>0</td>\n",
       "      <td>1</td>\n",
       "      <td>0</td>\n",
       "      <td>0</td>\n",
       "    </tr>\n",
       "    <tr>\n",
       "      <th>...</th>\n",
       "      <td>...</td>\n",
       "      <td>...</td>\n",
       "      <td>...</td>\n",
       "      <td>...</td>\n",
       "      <td>...</td>\n",
       "    </tr>\n",
       "    <tr>\n",
       "      <th>886</th>\n",
       "      <td>0</td>\n",
       "      <td>0</td>\n",
       "      <td>0</td>\n",
       "      <td>0</td>\n",
       "      <td>1</td>\n",
       "    </tr>\n",
       "    <tr>\n",
       "      <th>887</th>\n",
       "      <td>0</td>\n",
       "      <td>1</td>\n",
       "      <td>0</td>\n",
       "      <td>0</td>\n",
       "      <td>0</td>\n",
       "    </tr>\n",
       "    <tr>\n",
       "      <th>888</th>\n",
       "      <td>0</td>\n",
       "      <td>1</td>\n",
       "      <td>0</td>\n",
       "      <td>0</td>\n",
       "      <td>0</td>\n",
       "    </tr>\n",
       "    <tr>\n",
       "      <th>889</th>\n",
       "      <td>0</td>\n",
       "      <td>0</td>\n",
       "      <td>1</td>\n",
       "      <td>0</td>\n",
       "      <td>0</td>\n",
       "    </tr>\n",
       "    <tr>\n",
       "      <th>890</th>\n",
       "      <td>0</td>\n",
       "      <td>0</td>\n",
       "      <td>1</td>\n",
       "      <td>0</td>\n",
       "      <td>0</td>\n",
       "    </tr>\n",
       "  </tbody>\n",
       "</table>\n",
       "<p>891 rows × 5 columns</p>\n",
       "</div>"
      ],
      "text/plain": [
       "     Master  Miss  Mr  Mrs  high_status\n",
       "0         0     0   1    0            0\n",
       "1         0     0   0    1            0\n",
       "2         0     1   0    0            0\n",
       "3         0     0   0    1            0\n",
       "4         0     0   1    0            0\n",
       "..      ...   ...  ..  ...          ...\n",
       "886       0     0   0    0            1\n",
       "887       0     1   0    0            0\n",
       "888       0     1   0    0            0\n",
       "889       0     0   1    0            0\n",
       "890       0     0   1    0            0\n",
       "\n",
       "[891 rows x 5 columns]"
      ]
     },
     "execution_count": 72,
     "metadata": {},
     "output_type": "execute_result"
    }
   ],
   "source": [
    "dummies = pd.get_dummies(df.honorific)\n",
    "dummies"
   ]
  },
  {
   "cell_type": "code",
   "execution_count": 73,
   "id": "7ae72463",
   "metadata": {},
   "outputs": [],
   "source": [
    "df = pd.concat([df,dummies],axis=1)"
   ]
  },
  {
   "cell_type": "code",
   "execution_count": 74,
   "id": "fc2f56f1",
   "metadata": {},
   "outputs": [],
   "source": [
    "df.drop('honorific', axis = 1, inplace = True)"
   ]
  },
  {
   "cell_type": "code",
   "execution_count": 75,
   "id": "b3d0675a",
   "metadata": {},
   "outputs": [],
   "source": [
    "df.drop('high_status', axis = 1, inplace = True)"
   ]
  },
  {
   "cell_type": "markdown",
   "id": "5704a60c",
   "metadata": {},
   "source": [
    "### Dataframe final :"
   ]
  },
  {
   "cell_type": "code",
   "execution_count": 76,
   "id": "08a7f0e1",
   "metadata": {},
   "outputs": [
    {
     "data": {
      "text/html": [
       "<div>\n",
       "<style scoped>\n",
       "    .dataframe tbody tr th:only-of-type {\n",
       "        vertical-align: middle;\n",
       "    }\n",
       "\n",
       "    .dataframe tbody tr th {\n",
       "        vertical-align: top;\n",
       "    }\n",
       "\n",
       "    .dataframe thead th {\n",
       "        text-align: right;\n",
       "    }\n",
       "</style>\n",
       "<table border=\"1\" class=\"dataframe\">\n",
       "  <thead>\n",
       "    <tr style=\"text-align: right;\">\n",
       "      <th></th>\n",
       "      <th>Survived</th>\n",
       "      <th>Pclass</th>\n",
       "      <th>Sex</th>\n",
       "      <th>Age</th>\n",
       "      <th>Fare</th>\n",
       "      <th>F0</th>\n",
       "      <th>F1</th>\n",
       "      <th>C</th>\n",
       "      <th>Q</th>\n",
       "      <th>Master</th>\n",
       "      <th>Miss</th>\n",
       "      <th>Mr</th>\n",
       "      <th>Mrs</th>\n",
       "    </tr>\n",
       "  </thead>\n",
       "  <tbody>\n",
       "    <tr>\n",
       "      <th>0</th>\n",
       "      <td>0</td>\n",
       "      <td>3</td>\n",
       "      <td>0</td>\n",
       "      <td>22.0</td>\n",
       "      <td>7.250</td>\n",
       "      <td>0.0</td>\n",
       "      <td>1.0</td>\n",
       "      <td>0</td>\n",
       "      <td>0</td>\n",
       "      <td>0</td>\n",
       "      <td>0</td>\n",
       "      <td>1</td>\n",
       "      <td>0</td>\n",
       "    </tr>\n",
       "    <tr>\n",
       "      <th>1</th>\n",
       "      <td>1</td>\n",
       "      <td>1</td>\n",
       "      <td>1</td>\n",
       "      <td>38.0</td>\n",
       "      <td>66.000</td>\n",
       "      <td>0.0</td>\n",
       "      <td>1.0</td>\n",
       "      <td>1</td>\n",
       "      <td>0</td>\n",
       "      <td>0</td>\n",
       "      <td>0</td>\n",
       "      <td>0</td>\n",
       "      <td>1</td>\n",
       "    </tr>\n",
       "    <tr>\n",
       "      <th>2</th>\n",
       "      <td>1</td>\n",
       "      <td>3</td>\n",
       "      <td>1</td>\n",
       "      <td>26.0</td>\n",
       "      <td>7.925</td>\n",
       "      <td>1.0</td>\n",
       "      <td>0.0</td>\n",
       "      <td>0</td>\n",
       "      <td>0</td>\n",
       "      <td>0</td>\n",
       "      <td>1</td>\n",
       "      <td>0</td>\n",
       "      <td>0</td>\n",
       "    </tr>\n",
       "    <tr>\n",
       "      <th>3</th>\n",
       "      <td>1</td>\n",
       "      <td>1</td>\n",
       "      <td>1</td>\n",
       "      <td>35.0</td>\n",
       "      <td>53.100</td>\n",
       "      <td>0.0</td>\n",
       "      <td>1.0</td>\n",
       "      <td>0</td>\n",
       "      <td>0</td>\n",
       "      <td>0</td>\n",
       "      <td>0</td>\n",
       "      <td>0</td>\n",
       "      <td>1</td>\n",
       "    </tr>\n",
       "    <tr>\n",
       "      <th>4</th>\n",
       "      <td>0</td>\n",
       "      <td>3</td>\n",
       "      <td>0</td>\n",
       "      <td>35.0</td>\n",
       "      <td>8.050</td>\n",
       "      <td>1.0</td>\n",
       "      <td>0.0</td>\n",
       "      <td>0</td>\n",
       "      <td>0</td>\n",
       "      <td>0</td>\n",
       "      <td>0</td>\n",
       "      <td>1</td>\n",
       "      <td>0</td>\n",
       "    </tr>\n",
       "    <tr>\n",
       "      <th>...</th>\n",
       "      <td>...</td>\n",
       "      <td>...</td>\n",
       "      <td>...</td>\n",
       "      <td>...</td>\n",
       "      <td>...</td>\n",
       "      <td>...</td>\n",
       "      <td>...</td>\n",
       "      <td>...</td>\n",
       "      <td>...</td>\n",
       "      <td>...</td>\n",
       "      <td>...</td>\n",
       "      <td>...</td>\n",
       "      <td>...</td>\n",
       "    </tr>\n",
       "    <tr>\n",
       "      <th>886</th>\n",
       "      <td>0</td>\n",
       "      <td>2</td>\n",
       "      <td>0</td>\n",
       "      <td>27.0</td>\n",
       "      <td>13.000</td>\n",
       "      <td>1.0</td>\n",
       "      <td>0.0</td>\n",
       "      <td>0</td>\n",
       "      <td>0</td>\n",
       "      <td>0</td>\n",
       "      <td>0</td>\n",
       "      <td>0</td>\n",
       "      <td>0</td>\n",
       "    </tr>\n",
       "    <tr>\n",
       "      <th>887</th>\n",
       "      <td>1</td>\n",
       "      <td>1</td>\n",
       "      <td>1</td>\n",
       "      <td>19.0</td>\n",
       "      <td>30.000</td>\n",
       "      <td>1.0</td>\n",
       "      <td>0.0</td>\n",
       "      <td>0</td>\n",
       "      <td>0</td>\n",
       "      <td>0</td>\n",
       "      <td>1</td>\n",
       "      <td>0</td>\n",
       "      <td>0</td>\n",
       "    </tr>\n",
       "    <tr>\n",
       "      <th>888</th>\n",
       "      <td>0</td>\n",
       "      <td>3</td>\n",
       "      <td>1</td>\n",
       "      <td>22.0</td>\n",
       "      <td>23.450</td>\n",
       "      <td>0.0</td>\n",
       "      <td>1.0</td>\n",
       "      <td>0</td>\n",
       "      <td>0</td>\n",
       "      <td>0</td>\n",
       "      <td>1</td>\n",
       "      <td>0</td>\n",
       "      <td>0</td>\n",
       "    </tr>\n",
       "    <tr>\n",
       "      <th>889</th>\n",
       "      <td>1</td>\n",
       "      <td>1</td>\n",
       "      <td>0</td>\n",
       "      <td>26.0</td>\n",
       "      <td>30.000</td>\n",
       "      <td>1.0</td>\n",
       "      <td>0.0</td>\n",
       "      <td>1</td>\n",
       "      <td>0</td>\n",
       "      <td>0</td>\n",
       "      <td>0</td>\n",
       "      <td>1</td>\n",
       "      <td>0</td>\n",
       "    </tr>\n",
       "    <tr>\n",
       "      <th>890</th>\n",
       "      <td>0</td>\n",
       "      <td>3</td>\n",
       "      <td>0</td>\n",
       "      <td>32.0</td>\n",
       "      <td>7.750</td>\n",
       "      <td>1.0</td>\n",
       "      <td>0.0</td>\n",
       "      <td>0</td>\n",
       "      <td>1</td>\n",
       "      <td>0</td>\n",
       "      <td>0</td>\n",
       "      <td>1</td>\n",
       "      <td>0</td>\n",
       "    </tr>\n",
       "  </tbody>\n",
       "</table>\n",
       "<p>891 rows × 13 columns</p>\n",
       "</div>"
      ],
      "text/plain": [
       "     Survived  Pclass  Sex   Age    Fare   F0   F1  C  Q  Master  Miss  Mr  \\\n",
       "0           0       3    0  22.0   7.250  0.0  1.0  0  0       0     0   1   \n",
       "1           1       1    1  38.0  66.000  0.0  1.0  1  0       0     0   0   \n",
       "2           1       3    1  26.0   7.925  1.0  0.0  0  0       0     1   0   \n",
       "3           1       1    1  35.0  53.100  0.0  1.0  0  0       0     0   0   \n",
       "4           0       3    0  35.0   8.050  1.0  0.0  0  0       0     0   1   \n",
       "..        ...     ...  ...   ...     ...  ...  ... .. ..     ...   ...  ..   \n",
       "886         0       2    0  27.0  13.000  1.0  0.0  0  0       0     0   0   \n",
       "887         1       1    1  19.0  30.000  1.0  0.0  0  0       0     1   0   \n",
       "888         0       3    1  22.0  23.450  0.0  1.0  0  0       0     1   0   \n",
       "889         1       1    0  26.0  30.000  1.0  0.0  1  0       0     0   1   \n",
       "890         0       3    0  32.0   7.750  1.0  0.0  0  1       0     0   1   \n",
       "\n",
       "     Mrs  \n",
       "0      0  \n",
       "1      1  \n",
       "2      0  \n",
       "3      1  \n",
       "4      0  \n",
       "..   ...  \n",
       "886    0  \n",
       "887    0  \n",
       "888    0  \n",
       "889    0  \n",
       "890    0  \n",
       "\n",
       "[891 rows x 13 columns]"
      ]
     },
     "execution_count": 76,
     "metadata": {},
     "output_type": "execute_result"
    }
   ],
   "source": [
    "df"
   ]
  },
  {
   "cell_type": "code",
   "execution_count": 77,
   "id": "0905e946",
   "metadata": {},
   "outputs": [
    {
     "data": {
      "text/html": [
       "<style  type=\"text/css\" >\n",
       "#T_41776_row0_col0,#T_41776_row1_col1,#T_41776_row2_col2,#T_41776_row3_col3,#T_41776_row4_col4,#T_41776_row5_col5,#T_41776_row6_col6,#T_41776_row7_col7,#T_41776_row8_col8,#T_41776_row9_col9,#T_41776_row10_col10,#T_41776_row11_col11,#T_41776_row12_col12{\n",
       "            background-color:  #b40426;\n",
       "            color:  #f1f1f1;\n",
       "        }#T_41776_row0_col1,#T_41776_row0_col3,#T_41776_row1_col12,#T_41776_row5_col8{\n",
       "            background-color:  #82a6fb;\n",
       "            color:  #000000;\n",
       "        }#T_41776_row0_col2{\n",
       "            background-color:  #f39778;\n",
       "            color:  #000000;\n",
       "        }#T_41776_row0_col4,#T_41776_row2_col6,#T_41776_row6_col2{\n",
       "            background-color:  #f2cab5;\n",
       "            color:  #000000;\n",
       "        }#T_41776_row0_col5,#T_41776_row6_col9{\n",
       "            background-color:  #b1cbfc;\n",
       "            color:  #000000;\n",
       "        }#T_41776_row0_col6{\n",
       "            background-color:  #f3c8b2;\n",
       "            color:  #000000;\n",
       "        }#T_41776_row0_col7,#T_41776_row4_col9{\n",
       "            background-color:  #a9c6fd;\n",
       "            color:  #000000;\n",
       "        }#T_41776_row0_col8{\n",
       "            background-color:  #6a8bef;\n",
       "            color:  #000000;\n",
       "        }#T_41776_row0_col9,#T_41776_row1_col6,#T_41776_row1_col9,#T_41776_row2_col1{\n",
       "            background-color:  #adc9fd;\n",
       "            color:  #000000;\n",
       "        }#T_41776_row0_col10{\n",
       "            background-color:  #efcebd;\n",
       "            color:  #000000;\n",
       "        }#T_41776_row0_col11{\n",
       "            background-color:  #7093f3;\n",
       "            color:  #000000;\n",
       "        }#T_41776_row0_col12,#T_41776_row2_col4,#T_41776_row3_col5{\n",
       "            background-color:  #ead5c9;\n",
       "            color:  #000000;\n",
       "        }#T_41776_row1_col0{\n",
       "            background-color:  #6485ec;\n",
       "            color:  #000000;\n",
       "        }#T_41776_row1_col2,#T_41776_row3_col2{\n",
       "            background-color:  #bed2f6;\n",
       "            color:  #000000;\n",
       "        }#T_41776_row1_col3,#T_41776_row1_col4,#T_41776_row1_col7,#T_41776_row2_col11,#T_41776_row3_col9,#T_41776_row4_col1,#T_41776_row4_col8,#T_41776_row5_col6,#T_41776_row6_col5,#T_41776_row11_col0,#T_41776_row11_col2,#T_41776_row11_col10,#T_41776_row11_col12{\n",
       "            background-color:  #3b4cc0;\n",
       "            color:  #f1f1f1;\n",
       "        }#T_41776_row1_col5,#T_41776_row6_col0{\n",
       "            background-color:  #e5d8d1;\n",
       "            color:  #000000;\n",
       "        }#T_41776_row1_col8{\n",
       "            background-color:  #aac7fd;\n",
       "            color:  #000000;\n",
       "        }#T_41776_row1_col10,#T_41776_row6_col10,#T_41776_row7_col12{\n",
       "            background-color:  #b6cefa;\n",
       "            color:  #000000;\n",
       "        }#T_41776_row1_col11{\n",
       "            background-color:  #e7d7ce;\n",
       "            color:  #000000;\n",
       "        }#T_41776_row2_col0{\n",
       "            background-color:  #f7aa8c;\n",
       "            color:  #000000;\n",
       "        }#T_41776_row2_col3{\n",
       "            background-color:  #779af7;\n",
       "            color:  #000000;\n",
       "        }#T_41776_row2_col5,#T_41776_row3_col0{\n",
       "            background-color:  #9ebeff;\n",
       "            color:  #000000;\n",
       "        }#T_41776_row2_col7,#T_41776_row8_col12,#T_41776_row9_col12{\n",
       "            background-color:  #92b4fe;\n",
       "            color:  #000000;\n",
       "        }#T_41776_row2_col8,#T_41776_row12_col11{\n",
       "            background-color:  #7ea1fa;\n",
       "            color:  #000000;\n",
       "        }#T_41776_row2_col9,#T_41776_row3_col10,#T_41776_row9_col7{\n",
       "            background-color:  #6f92f3;\n",
       "            color:  #000000;\n",
       "        }#T_41776_row2_col10{\n",
       "            background-color:  #ec7f63;\n",
       "            color:  #000000;\n",
       "        }#T_41776_row2_col12{\n",
       "            background-color:  #f7ad90;\n",
       "            color:  #000000;\n",
       "        }#T_41776_row3_col1,#T_41776_row10_col12{\n",
       "            background-color:  #7597f6;\n",
       "            color:  #000000;\n",
       "        }#T_41776_row3_col4,#T_41776_row9_col6{\n",
       "            background-color:  #e1dad6;\n",
       "            color:  #000000;\n",
       "        }#T_41776_row3_col6,#T_41776_row4_col10{\n",
       "            background-color:  #cad8ef;\n",
       "            color:  #000000;\n",
       "        }#T_41776_row3_col7{\n",
       "            background-color:  #89acfd;\n",
       "            color:  #000000;\n",
       "        }#T_41776_row3_col8{\n",
       "            background-color:  #455cce;\n",
       "            color:  #f1f1f1;\n",
       "        }#T_41776_row3_col11,#T_41776_row4_col2{\n",
       "            background-color:  #f1cdba;\n",
       "            color:  #000000;\n",
       "        }#T_41776_row3_col12{\n",
       "            background-color:  #d1dae9;\n",
       "            color:  #000000;\n",
       "        }#T_41776_row4_col0{\n",
       "            background-color:  #ebd3c6;\n",
       "            color:  #000000;\n",
       "        }#T_41776_row4_col3,#T_41776_row4_col7,#T_41776_row5_col3,#T_41776_row9_col0{\n",
       "            background-color:  #c3d5f4;\n",
       "            color:  #000000;\n",
       "        }#T_41776_row4_col5,#T_41776_row12_col9{\n",
       "            background-color:  #81a4fb;\n",
       "            color:  #000000;\n",
       "        }#T_41776_row4_col6{\n",
       "            background-color:  #f7ba9f;\n",
       "            color:  #000000;\n",
       "        }#T_41776_row4_col11,#T_41776_row8_col4,#T_41776_row9_col5{\n",
       "            background-color:  #a5c3fe;\n",
       "            color:  #000000;\n",
       "        }#T_41776_row4_col12,#T_41776_row7_col0,#T_41776_row9_col1{\n",
       "            background-color:  #d3dbe7;\n",
       "            color:  #000000;\n",
       "        }#T_41776_row5_col0,#T_41776_row10_col7{\n",
       "            background-color:  #84a7fc;\n",
       "            color:  #000000;\n",
       "        }#T_41776_row5_col1{\n",
       "            background-color:  #dbdcde;\n",
       "            color:  #000000;\n",
       "        }#T_41776_row5_col2{\n",
       "            background-color:  #9fbfff;\n",
       "            color:  #000000;\n",
       "        }#T_41776_row5_col4,#T_41776_row9_col8{\n",
       "            background-color:  #6b8df0;\n",
       "            color:  #000000;\n",
       "        }#T_41776_row5_col7{\n",
       "            background-color:  #5f7fe8;\n",
       "            color:  #000000;\n",
       "        }#T_41776_row5_col9{\n",
       "            background-color:  #5673e0;\n",
       "            color:  #000000;\n",
       "        }#T_41776_row5_col10{\n",
       "            background-color:  #aec9fc;\n",
       "            color:  #000000;\n",
       "        }#T_41776_row5_col11{\n",
       "            background-color:  #f7b497;\n",
       "            color:  #000000;\n",
       "        }#T_41776_row5_col12,#T_41776_row11_col8{\n",
       "            background-color:  #536edd;\n",
       "            color:  #000000;\n",
       "        }#T_41776_row6_col1{\n",
       "            background-color:  #9abbff;\n",
       "            color:  #000000;\n",
       "        }#T_41776_row6_col3,#T_41776_row12_col10{\n",
       "            background-color:  #8badfd;\n",
       "            color:  #000000;\n",
       "        }#T_41776_row6_col4{\n",
       "            background-color:  #f5c2aa;\n",
       "            color:  #000000;\n",
       "        }#T_41776_row6_col7{\n",
       "            background-color:  #a6c4fe;\n",
       "            color:  #000000;\n",
       "        }#T_41776_row6_col8{\n",
       "            background-color:  #506bda;\n",
       "            color:  #000000;\n",
       "        }#T_41776_row6_col11,#T_41776_row9_col10,#T_41776_row11_col6{\n",
       "            background-color:  #a1c0ff;\n",
       "            color:  #000000;\n",
       "        }#T_41776_row6_col12,#T_41776_row7_col4,#T_41776_row10_col0{\n",
       "            background-color:  #edd1c2;\n",
       "            color:  #000000;\n",
       "        }#T_41776_row7_col1{\n",
       "            background-color:  #96b7ff;\n",
       "            color:  #000000;\n",
       "        }#T_41776_row7_col2,#T_41776_row8_col5{\n",
       "            background-color:  #dfdbd9;\n",
       "            color:  #000000;\n",
       "        }#T_41776_row7_col3,#T_41776_row9_col11,#T_41776_row12_col1{\n",
       "            background-color:  #a7c5fe;\n",
       "            color:  #000000;\n",
       "        }#T_41776_row7_col5,#T_41776_row10_col1{\n",
       "            background-color:  #c4d5f3;\n",
       "            color:  #000000;\n",
       "        }#T_41776_row7_col6{\n",
       "            background-color:  #e9d5cb;\n",
       "            color:  #000000;\n",
       "        }#T_41776_row7_col8{\n",
       "            background-color:  #3f53c6;\n",
       "            color:  #f1f1f1;\n",
       "        }#T_41776_row7_col9{\n",
       "            background-color:  #8fb1fe;\n",
       "            color:  #000000;\n",
       "        }#T_41776_row7_col10{\n",
       "            background-color:  #bfd3f6;\n",
       "            color:  #000000;\n",
       "        }#T_41776_row7_col11,#T_41776_row8_col11,#T_41776_row12_col3{\n",
       "            background-color:  #c7d7f0;\n",
       "            color:  #000000;\n",
       "        }#T_41776_row8_col0{\n",
       "            background-color:  #b2ccfb;\n",
       "            color:  #000000;\n",
       "        }#T_41776_row8_col1{\n",
       "            background-color:  #e8d6cc;\n",
       "            color:  #000000;\n",
       "        }#T_41776_row8_col2{\n",
       "            background-color:  #dedcdb;\n",
       "            color:  #000000;\n",
       "        }#T_41776_row8_col3{\n",
       "            background-color:  #799cf8;\n",
       "            color:  #000000;\n",
       "        }#T_41776_row8_col6{\n",
       "            background-color:  #c5d6f2;\n",
       "            color:  #000000;\n",
       "        }#T_41776_row8_col7{\n",
       "            background-color:  #516ddb;\n",
       "            color:  #000000;\n",
       "        }#T_41776_row8_col9,#T_41776_row10_col8{\n",
       "            background-color:  #9bbcff;\n",
       "            color:  #000000;\n",
       "        }#T_41776_row8_col10{\n",
       "            background-color:  #d7dce3;\n",
       "            color:  #000000;\n",
       "        }#T_41776_row9_col2{\n",
       "            background-color:  #b9d0f9;\n",
       "            color:  #000000;\n",
       "        }#T_41776_row9_col3{\n",
       "            background-color:  #3c4ec2;\n",
       "            color:  #f1f1f1;\n",
       "        }#T_41776_row9_col4,#T_41776_row10_col6,#T_41776_row11_col3{\n",
       "            background-color:  #d2dbe8;\n",
       "            color:  #000000;\n",
       "        }#T_41776_row10_col2{\n",
       "            background-color:  #e67259;\n",
       "            color:  #000000;\n",
       "        }#T_41776_row10_col3{\n",
       "            background-color:  #4961d2;\n",
       "            color:  #f1f1f1;\n",
       "        }#T_41776_row10_col4{\n",
       "            background-color:  #d5dbe5;\n",
       "            color:  #000000;\n",
       "        }#T_41776_row10_col5{\n",
       "            background-color:  #cbd8ee;\n",
       "            color:  #000000;\n",
       "        }#T_41776_row10_col9{\n",
       "            background-color:  #7b9ff9;\n",
       "            color:  #000000;\n",
       "        }#T_41776_row10_col11{\n",
       "            background-color:  #6788ee;\n",
       "            color:  #000000;\n",
       "        }#T_41776_row11_col1{\n",
       "            background-color:  #dddcdc;\n",
       "            color:  #000000;\n",
       "        }#T_41776_row11_col4{\n",
       "            background-color:  #90b2fe;\n",
       "            color:  #000000;\n",
       "        }#T_41776_row11_col5{\n",
       "            background-color:  #f7b599;\n",
       "            color:  #000000;\n",
       "        }#T_41776_row11_col7{\n",
       "            background-color:  #6687ed;\n",
       "            color:  #000000;\n",
       "        }#T_41776_row11_col9{\n",
       "            background-color:  #5977e3;\n",
       "            color:  #000000;\n",
       "        }#T_41776_row12_col0{\n",
       "            background-color:  #eed0c0;\n",
       "            color:  #000000;\n",
       "        }#T_41776_row12_col2{\n",
       "            background-color:  #f39577;\n",
       "            color:  #000000;\n",
       "        }#T_41776_row12_col4{\n",
       "            background-color:  #e6d7cf;\n",
       "            color:  #000000;\n",
       "        }#T_41776_row12_col5{\n",
       "            background-color:  #93b5fe;\n",
       "            color:  #000000;\n",
       "        }#T_41776_row12_col6{\n",
       "            background-color:  #f7b99e;\n",
       "            color:  #000000;\n",
       "        }#T_41776_row12_col7{\n",
       "            background-color:  #8db0fe;\n",
       "            color:  #000000;\n",
       "        }#T_41776_row12_col8{\n",
       "            background-color:  #4f69d9;\n",
       "            color:  #000000;\n",
       "        }</style><table id=\"T_41776_\" ><thead>    <tr>        <th class=\"blank level0\" ></th>        <th class=\"col_heading level0 col0\" >Survived</th>        <th class=\"col_heading level0 col1\" >Pclass</th>        <th class=\"col_heading level0 col2\" >Sex</th>        <th class=\"col_heading level0 col3\" >Age</th>        <th class=\"col_heading level0 col4\" >Fare</th>        <th class=\"col_heading level0 col5\" >F0</th>        <th class=\"col_heading level0 col6\" >F1</th>        <th class=\"col_heading level0 col7\" >C</th>        <th class=\"col_heading level0 col8\" >Q</th>        <th class=\"col_heading level0 col9\" >Master</th>        <th class=\"col_heading level0 col10\" >Miss</th>        <th class=\"col_heading level0 col11\" >Mr</th>        <th class=\"col_heading level0 col12\" >Mrs</th>    </tr></thead><tbody>\n",
       "                <tr>\n",
       "                        <th id=\"T_41776_level0_row0\" class=\"row_heading level0 row0\" >Survived</th>\n",
       "                        <td id=\"T_41776_row0_col0\" class=\"data row0 col0\" >1.000000</td>\n",
       "                        <td id=\"T_41776_row0_col1\" class=\"data row0 col1\" >-0.338481</td>\n",
       "                        <td id=\"T_41776_row0_col2\" class=\"data row0 col2\" >0.543351</td>\n",
       "                        <td id=\"T_41776_row0_col3\" class=\"data row0 col3\" >-0.089084</td>\n",
       "                        <td id=\"T_41776_row0_col4\" class=\"data row0 col4\" >0.317350</td>\n",
       "                        <td id=\"T_41776_row0_col5\" class=\"data row0 col5\" >-0.203367</td>\n",
       "                        <td id=\"T_41776_row0_col6\" class=\"data row0 col6\" >0.279855</td>\n",
       "                        <td id=\"T_41776_row0_col7\" class=\"data row0 col7\" >0.168240</td>\n",
       "                        <td id=\"T_41776_row0_col8\" class=\"data row0 col8\" >0.003650</td>\n",
       "                        <td id=\"T_41776_row0_col9\" class=\"data row0 col9\" >0.085221</td>\n",
       "                        <td id=\"T_41776_row0_col10\" class=\"data row0 col10\" >0.335636</td>\n",
       "                        <td id=\"T_41776_row0_col11\" class=\"data row0 col11\" >-0.549199</td>\n",
       "                        <td id=\"T_41776_row0_col12\" class=\"data row0 col12\" >0.341994</td>\n",
       "            </tr>\n",
       "            <tr>\n",
       "                        <th id=\"T_41776_level0_row1\" class=\"row_heading level0 row1\" >Pclass</th>\n",
       "                        <td id=\"T_41776_row1_col0\" class=\"data row1 col0\" >-0.338481</td>\n",
       "                        <td id=\"T_41776_row1_col1\" class=\"data row1 col1\" >1.000000</td>\n",
       "                        <td id=\"T_41776_row1_col2\" class=\"data row1 col2\" >-0.131900</td>\n",
       "                        <td id=\"T_41776_row1_col3\" class=\"data row1 col3\" >-0.400777</td>\n",
       "                        <td id=\"T_41776_row1_col4\" class=\"data row1 col4\" >-0.715103</td>\n",
       "                        <td id=\"T_41776_row1_col5\" class=\"data row1 col5\" >0.135207</td>\n",
       "                        <td id=\"T_41776_row1_col6\" class=\"data row1 col6\" >-0.223551</td>\n",
       "                        <td id=\"T_41776_row1_col7\" class=\"data row1 col7\" >-0.243292</td>\n",
       "                        <td id=\"T_41776_row1_col8\" class=\"data row1 col8\" >0.221009</td>\n",
       "                        <td id=\"T_41776_row1_col9\" class=\"data row1 col9\" >0.082081</td>\n",
       "                        <td id=\"T_41776_row1_col10\" class=\"data row1 col10\" >-0.010261</td>\n",
       "                        <td id=\"T_41776_row1_col11\" class=\"data row1 col11\" >0.142698</td>\n",
       "                        <td id=\"T_41776_row1_col12\" class=\"data row1 col12\" >-0.153758</td>\n",
       "            </tr>\n",
       "            <tr>\n",
       "                        <th id=\"T_41776_level0_row2\" class=\"row_heading level0 row2\" >Sex</th>\n",
       "                        <td id=\"T_41776_row2_col0\" class=\"data row2 col0\" >0.543351</td>\n",
       "                        <td id=\"T_41776_row2_col1\" class=\"data row2 col1\" >-0.131900</td>\n",
       "                        <td id=\"T_41776_row2_col2\" class=\"data row2 col2\" >1.000000</td>\n",
       "                        <td id=\"T_41776_row2_col3\" class=\"data row2 col3\" >-0.134474</td>\n",
       "                        <td id=\"T_41776_row2_col4\" class=\"data row2 col4\" >0.235079</td>\n",
       "                        <td id=\"T_41776_row2_col5\" class=\"data row2 col5\" >-0.303646</td>\n",
       "                        <td id=\"T_41776_row2_col6\" class=\"data row2 col6\" >0.260747</td>\n",
       "                        <td id=\"T_41776_row2_col7\" class=\"data row2 col7\" >0.082853</td>\n",
       "                        <td id=\"T_41776_row2_col8\" class=\"data row2 col8\" >0.074115</td>\n",
       "                        <td id=\"T_41776_row2_col9\" class=\"data row2 col9\" >-0.159934</td>\n",
       "                        <td id=\"T_41776_row2_col10\" class=\"data row2 col10\" >0.693916</td>\n",
       "                        <td id=\"T_41776_row2_col11\" class=\"data row2 col11\" >-0.867334</td>\n",
       "                        <td id=\"T_41776_row2_col12\" class=\"data row2 col12\" >0.550146</td>\n",
       "            </tr>\n",
       "            <tr>\n",
       "                        <th id=\"T_41776_level0_row3\" class=\"row_heading level0 row3\" >Age</th>\n",
       "                        <td id=\"T_41776_row3_col0\" class=\"data row3 col0\" >-0.089084</td>\n",
       "                        <td id=\"T_41776_row3_col1\" class=\"data row3 col1\" >-0.400777</td>\n",
       "                        <td id=\"T_41776_row3_col2\" class=\"data row3 col2\" >-0.134474</td>\n",
       "                        <td id=\"T_41776_row3_col3\" class=\"data row3 col3\" >1.000000</td>\n",
       "                        <td id=\"T_41776_row3_col4\" class=\"data row3 col4\" >0.171712</td>\n",
       "                        <td id=\"T_41776_row3_col5\" class=\"data row3 col5\" >0.171315</td>\n",
       "                        <td id=\"T_41776_row3_col6\" class=\"data row3 col6\" >-0.059394</td>\n",
       "                        <td id=\"T_41776_row3_col7\" class=\"data row3 col7\" >0.056292</td>\n",
       "                        <td id=\"T_41776_row3_col8\" class=\"data row3 col8\" >-0.128852</td>\n",
       "                        <td id=\"T_41776_row3_col9\" class=\"data row3 col9\" >-0.392186</td>\n",
       "                        <td id=\"T_41776_row3_col10\" class=\"data row3 col10\" >-0.333713</td>\n",
       "                        <td id=\"T_41776_row3_col11\" class=\"data row3 col11\" >0.239487</td>\n",
       "                        <td id=\"T_41776_row3_col12\" class=\"data row3 col12\" >0.194244</td>\n",
       "            </tr>\n",
       "            <tr>\n",
       "                        <th id=\"T_41776_level0_row4\" class=\"row_heading level0 row4\" >Fare</th>\n",
       "                        <td id=\"T_41776_row4_col0\" class=\"data row4 col0\" >0.317350</td>\n",
       "                        <td id=\"T_41776_row4_col1\" class=\"data row4 col1\" >-0.715103</td>\n",
       "                        <td id=\"T_41776_row4_col2\" class=\"data row4 col2\" >0.235079</td>\n",
       "                        <td id=\"T_41776_row4_col3\" class=\"data row4 col3\" >0.171712</td>\n",
       "                        <td id=\"T_41776_row4_col4\" class=\"data row4 col4\" >1.000000</td>\n",
       "                        <td id=\"T_41776_row4_col5\" class=\"data row4 col5\" >-0.453557</td>\n",
       "                        <td id=\"T_41776_row4_col6\" class=\"data row4 col6\" >0.366521</td>\n",
       "                        <td id=\"T_41776_row4_col7\" class=\"data row4 col7\" >0.263899</td>\n",
       "                        <td id=\"T_41776_row4_col8\" class=\"data row4 col8\" >-0.171102</td>\n",
       "                        <td id=\"T_41776_row4_col9\" class=\"data row4 col9\" >0.069939</td>\n",
       "                        <td id=\"T_41776_row4_col10\" class=\"data row4 col10\" >0.092350</td>\n",
       "                        <td id=\"T_41776_row4_col11\" class=\"data row4 col11\" >-0.270647</td>\n",
       "                        <td id=\"T_41776_row4_col12\" class=\"data row4 col12\" >0.205513</td>\n",
       "            </tr>\n",
       "            <tr>\n",
       "                        <th id=\"T_41776_level0_row5\" class=\"row_heading level0 row5\" >F0</th>\n",
       "                        <td id=\"T_41776_row5_col0\" class=\"data row5 col0\" >-0.203367</td>\n",
       "                        <td id=\"T_41776_row5_col1\" class=\"data row5 col1\" >0.135207</td>\n",
       "                        <td id=\"T_41776_row5_col2\" class=\"data row5 col2\" >-0.303646</td>\n",
       "                        <td id=\"T_41776_row5_col3\" class=\"data row5 col3\" >0.171315</td>\n",
       "                        <td id=\"T_41776_row5_col4\" class=\"data row5 col4\" >-0.453557</td>\n",
       "                        <td id=\"T_41776_row5_col5\" class=\"data row5 col5\" >1.000000</td>\n",
       "                        <td id=\"T_41776_row5_col6\" class=\"data row5 col6\" >-0.859931</td>\n",
       "                        <td id=\"T_41776_row5_col7\" class=\"data row5 col7\" >-0.095298</td>\n",
       "                        <td id=\"T_41776_row5_col8\" class=\"data row5 col8\" >0.086464</td>\n",
       "                        <td id=\"T_41776_row5_col9\" class=\"data row5 col9\" >-0.267024</td>\n",
       "                        <td id=\"T_41776_row5_col10\" class=\"data row5 col10\" >-0.048054</td>\n",
       "                        <td id=\"T_41776_row5_col11\" class=\"data row5 col11\" >0.396920</td>\n",
       "                        <td id=\"T_41776_row5_col12\" class=\"data row5 col12\" >-0.361624</td>\n",
       "            </tr>\n",
       "            <tr>\n",
       "                        <th id=\"T_41776_level0_row6\" class=\"row_heading level0 row6\" >F1</th>\n",
       "                        <td id=\"T_41776_row6_col0\" class=\"data row6 col0\" >0.279855</td>\n",
       "                        <td id=\"T_41776_row6_col1\" class=\"data row6 col1\" >-0.223551</td>\n",
       "                        <td id=\"T_41776_row6_col2\" class=\"data row6 col2\" >0.260747</td>\n",
       "                        <td id=\"T_41776_row6_col3\" class=\"data row6 col3\" >-0.059394</td>\n",
       "                        <td id=\"T_41776_row6_col4\" class=\"data row6 col4\" >0.366521</td>\n",
       "                        <td id=\"T_41776_row6_col5\" class=\"data row6 col5\" >-0.859931</td>\n",
       "                        <td id=\"T_41776_row6_col6\" class=\"data row6 col6\" >1.000000</td>\n",
       "                        <td id=\"T_41776_row6_col7\" class=\"data row6 col7\" >0.158586</td>\n",
       "                        <td id=\"T_41776_row6_col8\" class=\"data row6 col8\" >-0.087093</td>\n",
       "                        <td id=\"T_41776_row6_col9\" class=\"data row6 col9\" >0.102668</td>\n",
       "                        <td id=\"T_41776_row6_col10\" class=\"data row6 col10\" >-0.009600</td>\n",
       "                        <td id=\"T_41776_row6_col11\" class=\"data row6 col11\" >-0.292792</td>\n",
       "                        <td id=\"T_41776_row6_col12\" class=\"data row6 col12\" >0.368543</td>\n",
       "            </tr>\n",
       "            <tr>\n",
       "                        <th id=\"T_41776_level0_row7\" class=\"row_heading level0 row7\" >C</th>\n",
       "                        <td id=\"T_41776_row7_col0\" class=\"data row7 col0\" >0.168240</td>\n",
       "                        <td id=\"T_41776_row7_col1\" class=\"data row7 col1\" >-0.243292</td>\n",
       "                        <td id=\"T_41776_row7_col2\" class=\"data row7 col2\" >0.082853</td>\n",
       "                        <td id=\"T_41776_row7_col3\" class=\"data row7 col3\" >0.056292</td>\n",
       "                        <td id=\"T_41776_row7_col4\" class=\"data row7 col4\" >0.263899</td>\n",
       "                        <td id=\"T_41776_row7_col5\" class=\"data row7 col5\" >-0.095298</td>\n",
       "                        <td id=\"T_41776_row7_col6\" class=\"data row7 col6\" >0.158586</td>\n",
       "                        <td id=\"T_41776_row7_col7\" class=\"data row7 col7\" >1.000000</td>\n",
       "                        <td id=\"T_41776_row7_col8\" class=\"data row7 col8\" >-0.148258</td>\n",
       "                        <td id=\"T_41776_row7_col9\" class=\"data row7 col9\" >-0.035225</td>\n",
       "                        <td id=\"T_41776_row7_col10\" class=\"data row7 col10\" >0.036204</td>\n",
       "                        <td id=\"T_41776_row7_col11\" class=\"data row7 col11\" >-0.072567</td>\n",
       "                        <td id=\"T_41776_row7_col12\" class=\"data row7 col12\" >0.067872</td>\n",
       "            </tr>\n",
       "            <tr>\n",
       "                        <th id=\"T_41776_level0_row8\" class=\"row_heading level0 row8\" >Q</th>\n",
       "                        <td id=\"T_41776_row8_col0\" class=\"data row8 col0\" >0.003650</td>\n",
       "                        <td id=\"T_41776_row8_col1\" class=\"data row8 col1\" >0.221009</td>\n",
       "                        <td id=\"T_41776_row8_col2\" class=\"data row8 col2\" >0.074115</td>\n",
       "                        <td id=\"T_41776_row8_col3\" class=\"data row8 col3\" >-0.128852</td>\n",
       "                        <td id=\"T_41776_row8_col4\" class=\"data row8 col4\" >-0.171102</td>\n",
       "                        <td id=\"T_41776_row8_col5\" class=\"data row8 col5\" >0.086464</td>\n",
       "                        <td id=\"T_41776_row8_col6\" class=\"data row8 col6\" >-0.087093</td>\n",
       "                        <td id=\"T_41776_row8_col7\" class=\"data row8 col7\" >-0.148258</td>\n",
       "                        <td id=\"T_41776_row8_col8\" class=\"data row8 col8\" >1.000000</td>\n",
       "                        <td id=\"T_41776_row8_col9\" class=\"data row8 col9\" >0.010478</td>\n",
       "                        <td id=\"T_41776_row8_col10\" class=\"data row8 col10\" >0.167531</td>\n",
       "                        <td id=\"T_41776_row8_col11\" class=\"data row8 col11\" >-0.078338</td>\n",
       "                        <td id=\"T_41776_row8_col12\" class=\"data row8 col12\" >-0.090432</td>\n",
       "            </tr>\n",
       "            <tr>\n",
       "                        <th id=\"T_41776_level0_row9\" class=\"row_heading level0 row9\" >Master</th>\n",
       "                        <td id=\"T_41776_row9_col0\" class=\"data row9 col0\" >0.085221</td>\n",
       "                        <td id=\"T_41776_row9_col1\" class=\"data row9 col1\" >0.082081</td>\n",
       "                        <td id=\"T_41776_row9_col2\" class=\"data row9 col2\" >-0.159934</td>\n",
       "                        <td id=\"T_41776_row9_col3\" class=\"data row9 col3\" >-0.392186</td>\n",
       "                        <td id=\"T_41776_row9_col4\" class=\"data row9 col4\" >0.069939</td>\n",
       "                        <td id=\"T_41776_row9_col5\" class=\"data row9 col5\" >-0.267024</td>\n",
       "                        <td id=\"T_41776_row9_col6\" class=\"data row9 col6\" >0.102668</td>\n",
       "                        <td id=\"T_41776_row9_col7\" class=\"data row9 col7\" >-0.035225</td>\n",
       "                        <td id=\"T_41776_row9_col8\" class=\"data row9 col8\" >0.010478</td>\n",
       "                        <td id=\"T_41776_row9_col9\" class=\"data row9 col9\" >1.000000</td>\n",
       "                        <td id=\"T_41776_row9_col10\" class=\"data row9 col10\" >-0.110981</td>\n",
       "                        <td id=\"T_41776_row9_col11\" class=\"data row9 col11\" >-0.254903</td>\n",
       "                        <td id=\"T_41776_row9_col12\" class=\"data row9 col12\" >-0.087987</td>\n",
       "            </tr>\n",
       "            <tr>\n",
       "                        <th id=\"T_41776_level0_row10\" class=\"row_heading level0 row10\" >Miss</th>\n",
       "                        <td id=\"T_41776_row10_col0\" class=\"data row10 col0\" >0.335636</td>\n",
       "                        <td id=\"T_41776_row10_col1\" class=\"data row10 col1\" >-0.010261</td>\n",
       "                        <td id=\"T_41776_row10_col2\" class=\"data row10 col2\" >0.693916</td>\n",
       "                        <td id=\"T_41776_row10_col3\" class=\"data row10 col3\" >-0.333713</td>\n",
       "                        <td id=\"T_41776_row10_col4\" class=\"data row10 col4\" >0.092350</td>\n",
       "                        <td id=\"T_41776_row10_col5\" class=\"data row10 col5\" >-0.048054</td>\n",
       "                        <td id=\"T_41776_row10_col6\" class=\"data row10 col6\" >-0.009600</td>\n",
       "                        <td id=\"T_41776_row10_col7\" class=\"data row10 col7\" >0.036204</td>\n",
       "                        <td id=\"T_41776_row10_col8\" class=\"data row10 col8\" >0.167531</td>\n",
       "                        <td id=\"T_41776_row10_col9\" class=\"data row10 col9\" >-0.110981</td>\n",
       "                        <td id=\"T_41776_row10_col10\" class=\"data row10 col10\" >1.000000</td>\n",
       "                        <td id=\"T_41776_row10_col11\" class=\"data row10 col11\" >-0.601857</td>\n",
       "                        <td id=\"T_41776_row10_col12\" class=\"data row10 col12\" >-0.207749</td>\n",
       "            </tr>\n",
       "            <tr>\n",
       "                        <th id=\"T_41776_level0_row11\" class=\"row_heading level0 row11\" >Mr</th>\n",
       "                        <td id=\"T_41776_row11_col0\" class=\"data row11 col0\" >-0.549199</td>\n",
       "                        <td id=\"T_41776_row11_col1\" class=\"data row11 col1\" >0.142698</td>\n",
       "                        <td id=\"T_41776_row11_col2\" class=\"data row11 col2\" >-0.867334</td>\n",
       "                        <td id=\"T_41776_row11_col3\" class=\"data row11 col3\" >0.239487</td>\n",
       "                        <td id=\"T_41776_row11_col4\" class=\"data row11 col4\" >-0.270647</td>\n",
       "                        <td id=\"T_41776_row11_col5\" class=\"data row11 col5\" >0.396920</td>\n",
       "                        <td id=\"T_41776_row11_col6\" class=\"data row11 col6\" >-0.292792</td>\n",
       "                        <td id=\"T_41776_row11_col7\" class=\"data row11 col7\" >-0.072567</td>\n",
       "                        <td id=\"T_41776_row11_col8\" class=\"data row11 col8\" >-0.078338</td>\n",
       "                        <td id=\"T_41776_row11_col9\" class=\"data row11 col9\" >-0.254903</td>\n",
       "                        <td id=\"T_41776_row11_col10\" class=\"data row11 col10\" >-0.601857</td>\n",
       "                        <td id=\"T_41776_row11_col11\" class=\"data row11 col11\" >1.000000</td>\n",
       "                        <td id=\"T_41776_row11_col12\" class=\"data row11 col12\" >-0.477160</td>\n",
       "            </tr>\n",
       "            <tr>\n",
       "                        <th id=\"T_41776_level0_row12\" class=\"row_heading level0 row12\" >Mrs</th>\n",
       "                        <td id=\"T_41776_row12_col0\" class=\"data row12 col0\" >0.341994</td>\n",
       "                        <td id=\"T_41776_row12_col1\" class=\"data row12 col1\" >-0.153758</td>\n",
       "                        <td id=\"T_41776_row12_col2\" class=\"data row12 col2\" >0.550146</td>\n",
       "                        <td id=\"T_41776_row12_col3\" class=\"data row12 col3\" >0.194244</td>\n",
       "                        <td id=\"T_41776_row12_col4\" class=\"data row12 col4\" >0.205513</td>\n",
       "                        <td id=\"T_41776_row12_col5\" class=\"data row12 col5\" >-0.361624</td>\n",
       "                        <td id=\"T_41776_row12_col6\" class=\"data row12 col6\" >0.368543</td>\n",
       "                        <td id=\"T_41776_row12_col7\" class=\"data row12 col7\" >0.067872</td>\n",
       "                        <td id=\"T_41776_row12_col8\" class=\"data row12 col8\" >-0.090432</td>\n",
       "                        <td id=\"T_41776_row12_col9\" class=\"data row12 col9\" >-0.087987</td>\n",
       "                        <td id=\"T_41776_row12_col10\" class=\"data row12 col10\" >-0.207749</td>\n",
       "                        <td id=\"T_41776_row12_col11\" class=\"data row12 col11\" >-0.477160</td>\n",
       "                        <td id=\"T_41776_row12_col12\" class=\"data row12 col12\" >1.000000</td>\n",
       "            </tr>\n",
       "    </tbody></table>"
      ],
      "text/plain": [
       "<pandas.io.formats.style.Styler at 0x18cc4f49820>"
      ]
     },
     "execution_count": 77,
     "metadata": {},
     "output_type": "execute_result"
    }
   ],
   "source": [
    "corr = df.corr()\n",
    "corr.style.background_gradient(cmap='coolwarm')"
   ]
  },
  {
   "cell_type": "markdown",
   "id": "eb4c52dc",
   "metadata": {},
   "source": [
    ".\n",
    "\n",
    "\n",
    "\n",
    "\n",
    ".\n",
    "\n",
    "\n",
    "\n",
    "\n",
    "\n",
    "\n",
    "\n",
    "\n",
    "\n",
    "\n",
    "\n",
    "\n",
    "\n",
    "\n",
    "\n",
    "\n",
    "\n",
    "\n",
    "\n",
    "\n",
    "\n",
    "\n",
    "\n",
    "## 3. Modélisation : <a class=\"anchor\" id=\"chapter3\"></a>"
   ]
  },
  {
   "cell_type": "markdown",
   "id": "2894a88c",
   "metadata": {},
   "source": [
    "Le problème que nous sommes entrain de traiter est une classification binaire. Il y'a un grand nombres d'algorithmes qui traitent ce type de problème. On choisit les plus populaires :\n",
    "- Logistic Regression\n",
    "- SVM\n",
    "- Random Forest\n",
    "- Naive Bayes\n",
    "- Decision Tree\n",
    "- KNN\n",
    "- XGBoost"
   ]
  },
  {
   "cell_type": "code",
   "execution_count": 78,
   "id": "04774946",
   "metadata": {},
   "outputs": [],
   "source": [
    "#Split des données en utilisant stratify sur la colonne Survived, afin de garantir la même répartition de survivants dans Train et Test\n",
    "train, test = train_test_split(df, test_size = 0.3, stratify=df.Survived)"
   ]
  },
  {
   "cell_type": "code",
   "execution_count": 79,
   "id": "10197867",
   "metadata": {},
   "outputs": [
    {
     "name": "stdout",
     "output_type": "stream",
     "text": [
      "shape of X_train (623, 12)\n",
      "Shape of Y_train (623,)\n",
      "Shape of X_test (268, 12)\n",
      "Shape of Y_test (268,)\n"
     ]
    }
   ],
   "source": [
    "#On sépare les variables en features et target\n",
    "X_train = train.drop(\"Survived\", axis=1)\n",
    "Y_train = train[\"Survived\"]\n",
    "X_test  = test.drop(\"Survived\", axis=1)\n",
    "Y_test = test['Survived']\n",
    "print(\"shape of X_train\",X_train.shape)\n",
    "print(\"Shape of Y_train\",Y_train.shape)\n",
    "print(\"Shape of X_test\",X_test.shape)\n",
    "print(\"Shape of Y_test\",Y_test.shape)"
   ]
  },
  {
   "cell_type": "markdown",
   "id": "8eb62cde",
   "metadata": {},
   "source": [
    "### Logistic Regression :"
   ]
  },
  {
   "cell_type": "code",
   "execution_count": 80,
   "id": "810db8ce",
   "metadata": {},
   "outputs": [],
   "source": [
    "logreg = LogisticRegression(max_iter = 400)\n",
    "logreg.fit(X_train, Y_train)\n",
    "Y_pred = logreg.predict(X_test)"
   ]
  },
  {
   "cell_type": "code",
   "execution_count": 81,
   "id": "ccab161f",
   "metadata": {},
   "outputs": [
    {
     "name": "stdout",
     "output_type": "stream",
     "text": [
      "              precision    recall  f1-score   support\n",
      "\n",
      "           0       0.86      0.88      0.87       165\n",
      "           1       0.81      0.78      0.79       103\n",
      "\n",
      "    accuracy                           0.84       268\n",
      "   macro avg       0.84      0.83      0.83       268\n",
      "weighted avg       0.84      0.84      0.84       268\n",
      "\n"
     ]
    }
   ],
   "source": [
    "from sklearn.metrics import classification_report\n",
    "report = classification_report(Y_test,Y_pred)\n",
    "print(report)"
   ]
  },
  {
   "cell_type": "markdown",
   "id": "5209de80",
   "metadata": {},
   "source": [
    "### Support Vector Machine (SVM) :"
   ]
  },
  {
   "cell_type": "code",
   "execution_count": 82,
   "id": "4d769b57",
   "metadata": {},
   "outputs": [],
   "source": [
    "SVM = svm.SVC()\n",
    "SVM.fit(X_train, Y_train)\n",
    "Y_pred = SVM.predict(X_test)"
   ]
  },
  {
   "cell_type": "code",
   "execution_count": 83,
   "id": "3330761b",
   "metadata": {},
   "outputs": [
    {
     "name": "stdout",
     "output_type": "stream",
     "text": [
      "              precision    recall  f1-score   support\n",
      "\n",
      "           0       0.67      0.91      0.77       165\n",
      "           1       0.65      0.27      0.38       103\n",
      "\n",
      "    accuracy                           0.66       268\n",
      "   macro avg       0.66      0.59      0.58       268\n",
      "weighted avg       0.66      0.66      0.62       268\n",
      "\n"
     ]
    }
   ],
   "source": [
    "from sklearn.metrics import classification_report\n",
    "report = classification_report(Y_test,Y_pred)\n",
    "print(report)"
   ]
  },
  {
   "cell_type": "markdown",
   "id": "d7db6b71",
   "metadata": {},
   "source": [
    "### Random Forest :"
   ]
  },
  {
   "cell_type": "code",
   "execution_count": 84,
   "id": "63767460",
   "metadata": {},
   "outputs": [],
   "source": [
    "random_forest = RandomForestClassifier()\n",
    "random_forest.fit(X_train, Y_train)\n",
    "Y_pred = random_forest.predict(X_test)"
   ]
  },
  {
   "cell_type": "code",
   "execution_count": 85,
   "id": "69f9fd3c",
   "metadata": {},
   "outputs": [
    {
     "name": "stdout",
     "output_type": "stream",
     "text": [
      "              precision    recall  f1-score   support\n",
      "\n",
      "           0       0.82      0.87      0.84       165\n",
      "           1       0.77      0.70      0.73       103\n",
      "\n",
      "    accuracy                           0.80       268\n",
      "   macro avg       0.79      0.78      0.79       268\n",
      "weighted avg       0.80      0.80      0.80       268\n",
      "\n"
     ]
    }
   ],
   "source": [
    "from sklearn.metrics import classification_report\n",
    "report = classification_report(Y_test,Y_pred)\n",
    "print(report)"
   ]
  },
  {
   "cell_type": "markdown",
   "id": "230859fd",
   "metadata": {},
   "source": [
    "### Gaussian Naive Bayes :"
   ]
  },
  {
   "cell_type": "code",
   "execution_count": 86,
   "id": "7fa1fb1a",
   "metadata": {},
   "outputs": [],
   "source": [
    "naive_bayes = GaussianNB()\n",
    "naive_bayes.fit(X_train, Y_train)\n",
    "Y_pred = naive_bayes.predict(X_test)"
   ]
  },
  {
   "cell_type": "code",
   "execution_count": 87,
   "id": "0e39a9b4",
   "metadata": {},
   "outputs": [
    {
     "name": "stdout",
     "output_type": "stream",
     "text": [
      "              precision    recall  f1-score   support\n",
      "\n",
      "           0       0.86      0.82      0.84       165\n",
      "           1       0.73      0.78      0.75       103\n",
      "\n",
      "    accuracy                           0.81       268\n",
      "   macro avg       0.79      0.80      0.80       268\n",
      "weighted avg       0.81      0.81      0.81       268\n",
      "\n"
     ]
    }
   ],
   "source": [
    "from sklearn.metrics import classification_report\n",
    "report = classification_report(Y_test,Y_pred)\n",
    "print(report)"
   ]
  },
  {
   "cell_type": "markdown",
   "id": "4004e47a",
   "metadata": {},
   "source": [
    "### Decision Tree :"
   ]
  },
  {
   "cell_type": "code",
   "execution_count": 88,
   "id": "8b8fa86f",
   "metadata": {},
   "outputs": [],
   "source": [
    "decision_tree = DecisionTreeClassifier()\n",
    "decision_tree.fit(X_train, Y_train)\n",
    "Y_pred = decision_tree.predict(X_test)"
   ]
  },
  {
   "cell_type": "code",
   "execution_count": 89,
   "id": "6a72cef7",
   "metadata": {},
   "outputs": [
    {
     "name": "stdout",
     "output_type": "stream",
     "text": [
      "              precision    recall  f1-score   support\n",
      "\n",
      "           0       0.78      0.85      0.81       165\n",
      "           1       0.72      0.61      0.66       103\n",
      "\n",
      "    accuracy                           0.76       268\n",
      "   macro avg       0.75      0.73      0.74       268\n",
      "weighted avg       0.75      0.76      0.75       268\n",
      "\n"
     ]
    }
   ],
   "source": [
    "from sklearn.metrics import classification_report\n",
    "report = classification_report(Y_test,Y_pred)\n",
    "print(report)"
   ]
  },
  {
   "cell_type": "markdown",
   "id": "f5a60542",
   "metadata": {},
   "source": [
    "### K-Nearest Neighbors :"
   ]
  },
  {
   "cell_type": "code",
   "execution_count": 90,
   "id": "6439437a",
   "metadata": {},
   "outputs": [],
   "source": [
    "knn = KNeighborsClassifier(n_neighbors = 3)\n",
    "knn.fit(X_train, Y_train)\n",
    "Y_pred = knn.predict(X_test)"
   ]
  },
  {
   "cell_type": "code",
   "execution_count": 91,
   "id": "21280b14",
   "metadata": {},
   "outputs": [
    {
     "name": "stdout",
     "output_type": "stream",
     "text": [
      "              precision    recall  f1-score   support\n",
      "\n",
      "           0       0.75      0.84      0.79       165\n",
      "           1       0.67      0.54      0.60       103\n",
      "\n",
      "    accuracy                           0.72       268\n",
      "   macro avg       0.71      0.69      0.70       268\n",
      "weighted avg       0.72      0.72      0.72       268\n",
      "\n"
     ]
    }
   ],
   "source": [
    "from sklearn.metrics import classification_report\n",
    "report = classification_report(Y_test,Y_pred)\n",
    "print(report)"
   ]
  },
  {
   "cell_type": "markdown",
   "id": "b31528c9",
   "metadata": {},
   "source": [
    "### XGBoost :"
   ]
  },
  {
   "cell_type": "code",
   "execution_count": 92,
   "id": "0da4bf22",
   "metadata": {},
   "outputs": [],
   "source": [
    "xgb = XGBClassifier()\n",
    "xgb.fit(X_train, Y_train)\n",
    "Y_pred = xgb.predict(X_test)"
   ]
  },
  {
   "cell_type": "code",
   "execution_count": 93,
   "id": "22fa48a1",
   "metadata": {},
   "outputs": [
    {
     "name": "stdout",
     "output_type": "stream",
     "text": [
      "              precision    recall  f1-score   support\n",
      "\n",
      "           0       0.83      0.87      0.85       165\n",
      "           1       0.78      0.72      0.75       103\n",
      "\n",
      "    accuracy                           0.81       268\n",
      "   macro avg       0.81      0.80      0.80       268\n",
      "weighted avg       0.81      0.81      0.81       268\n",
      "\n"
     ]
    }
   ],
   "source": [
    "from sklearn.metrics import classification_report\n",
    "report = classification_report(Y_test,Y_pred)\n",
    "print(report)"
   ]
  },
  {
   "cell_type": "markdown",
   "id": "ced266a2",
   "metadata": {},
   "source": [
    "### Classement des modèles :"
   ]
  },
  {
   "cell_type": "code",
   "execution_count": 94,
   "id": "27470d4a",
   "metadata": {},
   "outputs": [
    {
     "data": {
      "text/html": [
       "<div>\n",
       "<style scoped>\n",
       "    .dataframe tbody tr th:only-of-type {\n",
       "        vertical-align: middle;\n",
       "    }\n",
       "\n",
       "    .dataframe tbody tr th {\n",
       "        vertical-align: top;\n",
       "    }\n",
       "\n",
       "    .dataframe thead th {\n",
       "        text-align: right;\n",
       "    }\n",
       "</style>\n",
       "<table border=\"1\" class=\"dataframe\">\n",
       "  <thead>\n",
       "    <tr style=\"text-align: right;\">\n",
       "      <th></th>\n",
       "      <th>modèle</th>\n",
       "      <th>score</th>\n",
       "    </tr>\n",
       "  </thead>\n",
       "  <tbody>\n",
       "    <tr>\n",
       "      <th>5</th>\n",
       "      <td>Regression Logistique</td>\n",
       "      <td>0.843284</td>\n",
       "    </tr>\n",
       "    <tr>\n",
       "      <th>6</th>\n",
       "      <td>XGBoost</td>\n",
       "      <td>0.813433</td>\n",
       "    </tr>\n",
       "    <tr>\n",
       "      <th>2</th>\n",
       "      <td>Naive Bayes</td>\n",
       "      <td>0.805970</td>\n",
       "    </tr>\n",
       "    <tr>\n",
       "      <th>4</th>\n",
       "      <td>Random Forest</td>\n",
       "      <td>0.802239</td>\n",
       "    </tr>\n",
       "    <tr>\n",
       "      <th>1</th>\n",
       "      <td>Decision Tree</td>\n",
       "      <td>0.757463</td>\n",
       "    </tr>\n",
       "    <tr>\n",
       "      <th>0</th>\n",
       "      <td>KNN</td>\n",
       "      <td>0.723881</td>\n",
       "    </tr>\n",
       "    <tr>\n",
       "      <th>3</th>\n",
       "      <td>SVM</td>\n",
       "      <td>0.664179</td>\n",
       "    </tr>\n",
       "  </tbody>\n",
       "</table>\n",
       "</div>"
      ],
      "text/plain": [
       "                  modèle     score\n",
       "5  Regression Logistique  0.843284\n",
       "6                XGBoost  0.813433\n",
       "2            Naive Bayes  0.805970\n",
       "4          Random Forest  0.802239\n",
       "1          Decision Tree  0.757463\n",
       "0                    KNN  0.723881\n",
       "3                    SVM  0.664179"
      ]
     },
     "execution_count": 94,
     "metadata": {},
     "output_type": "execute_result"
    }
   ],
   "source": [
    "d= {'modèle': [\"KNN\",\"Decision Tree\", \"Naive Bayes\",\"SVM\",\"Random Forest\",\"Regression Logistique\",\"XGBoost\" ],\n",
    "    'score': [knn.score(X_test,Y_test),decision_tree.score(X_test,Y_test),naive_bayes.score(X_test,Y_test),SVM.score(X_test,Y_test),\n",
    "              random_forest.score(X_test,Y_test),logreg.score(X_test,Y_test),xgb.score(X_test,Y_test)]}\n",
    "#on crée le dataframe et on l'affiche\n",
    "df_scores = pd.DataFrame(data=d)\n",
    "df_scores.sort_values(by=[\"score\"], ascending=False)"
   ]
  },
  {
   "cell_type": "markdown",
   "id": "43fbf667",
   "metadata": {},
   "source": [
    "## Conclusion : <a class=\"anchor\" id=\"chapter4\"></a>"
   ]
  },
  {
   "cell_type": "markdown",
   "id": "8b0bd1ea",
   "metadata": {},
   "source": [
    "Durant ce projet on a pu comprendre quels critères influencent la survie ou la mort des passagers, et développer 7 modèles de prédiction, où la régression logistique était la performant avec une accuarcy de 85%.\n"
   ]
  }
 ],
 "metadata": {
  "kernelspec": {
   "display_name": "Python 3",
   "language": "python",
   "name": "python3"
  },
  "language_info": {
   "codemirror_mode": {
    "name": "ipython",
    "version": 3
   },
   "file_extension": ".py",
   "mimetype": "text/x-python",
   "name": "python",
   "nbconvert_exporter": "python",
   "pygments_lexer": "ipython3",
   "version": "3.8.8"
  }
 },
 "nbformat": 4,
 "nbformat_minor": 5
}
